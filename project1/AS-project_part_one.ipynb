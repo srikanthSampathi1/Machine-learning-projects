{
 "cells": [
  {
   "cell_type": "code",
   "execution_count": 1,
   "metadata": {
    "ExecuteTime": {
     "end_time": "2021-04-04T14:19:37.021177Z",
     "start_time": "2021-04-04T14:19:34.420187Z"
    }
   },
   "outputs": [],
   "source": [
    "import numpy as np               #General-purpose array-processing package\n",
    "import pandas as pd              #Package for analysing data\n",
    "import scipy.stats as stats      #Library of statistical functions\n",
    "import matplotlib.pyplot as plt  #For plotting graphs\n",
    "%matplotlib inline"
   ]
  },
  {
   "cell_type": "markdown",
   "metadata": {
    "ExecuteTime": {
     "end_time": "2021-03-19T02:06:41.944259Z",
     "start_time": "2021-03-19T02:06:41.939429Z"
    }
   },
   "source": [
    "# Part ONE  -   Question 1"
   ]
  },
  {
   "cell_type": "markdown",
   "metadata": {
    "ExecuteTime": {
     "end_time": "2021-03-19T02:07:26.831566Z",
     "start_time": "2021-03-19T02:07:26.816355Z"
    }
   },
   "source": [
    "|Planned to purchase Product A| Actually placed an order for Product A- Yes| Actually placed an order for Product A - No|Total|\n",
    "|--|--|--|--|\n",
    "|Yes|400|100|500|\n",
    "|No|200|1300|1500|\n",
    "|Total|600|1400|2000|"
   ]
  },
  {
   "cell_type": "markdown",
   "metadata": {
    "ExecuteTime": {
     "end_time": "2021-03-19T02:34:45.353295Z",
     "start_time": "2021-03-19T02:34:45.339200Z"
    }
   },
   "source": [
    "1.Refer to the above table and find the joint probability of the people who planned to purchase and actually placed an order"
   ]
  },
  {
   "cell_type": "code",
   "execution_count": 35,
   "metadata": {
    "ExecuteTime": {
     "end_time": "2021-03-19T05:35:39.740229Z",
     "start_time": "2021-03-19T05:35:39.724308Z"
    }
   },
   "outputs": [
    {
     "name": "stdout",
     "output_type": "stream",
     "text": [
      "Joint probability of the people who planned to purchase and actually placed an order. is 0.20\n"
     ]
    }
   ],
   "source": [
    "Plac_yes = 400 # Plac_yes is the number of people who planned and actually placed an order for Product A\n",
    "Total  = 2000\n",
    "J_p = round(Plac_yes / Total,3) \n",
    "print('Joint probability of the people who planned to purchase and actually placed an order. is %1.2f' % J_p)"
   ]
  },
  {
   "cell_type": "markdown",
   "metadata": {},
   "source": [
    "2.Refer to the above table and find the joint probability of the people who planned to purchase and actually placed an order, given that people planned to purchase"
   ]
  },
  {
   "cell_type": "markdown",
   "metadata": {},
   "source": [
    "Probability of A given B is written as P(A | B).\n",
    "\n",
    "$P(A\\mid B) = \\frac{P(A \\quad and \\quad B)}{P(B)}$\n",
    "\n",
    "where P(A and B) = Joint probability of A and B\n",
    "*     P(A)       = Marginal probability of A\n",
    "*     P(B)       = Marginal probability of B"
   ]
  },
  {
   "cell_type": "code",
   "execution_count": 20,
   "metadata": {
    "ExecuteTime": {
     "end_time": "2021-03-19T03:04:57.784519Z",
     "start_time": "2021-03-19T03:04:57.774874Z"
    }
   },
   "outputs": [
    {
     "name": "stdout",
     "output_type": "stream",
     "text": [
      "P(Actually placed an order | Planned to purchase) is 0.800\n"
     ]
    }
   ],
   "source": [
    "# P1     = P(Actually placed an order | Planned to purchase)\n",
    "# P(A)   = Planned to purchase and actually placed an order\n",
    "# P(B)   = Planned to purchase\n",
    "P1       = (400/2000)/(500/2000)\n",
    "print('P(Actually placed an order | Planned to purchase) is %1.3f' % P1)"
   ]
  },
  {
   "cell_type": "markdown",
   "metadata": {
    "ExecuteTime": {
     "end_time": "2021-03-19T02:58:42.580311Z",
     "start_time": "2021-03-19T02:58:42.574972Z"
    }
   },
   "source": [
    "# Part ONE- Question 2"
   ]
  },
  {
   "cell_type": "markdown",
   "metadata": {},
   "source": [
    "2.An electrical manufacturing company conducts quality checks at specified periods on the products it manufactures. Historically, the failure rate for the manufactured item is 5%. Suppose a random sample of 10 manufactured items is selected.\n",
    "\n",
    "This follows Binomial-distribution since all the pre-requisites are satisfied:\n",
    "* Only two potential outcome(defective,not-defective).\n",
    "* Probability of success(being defective) is same accross all trails(p=0.05).\n",
    "* Number of trails is fixed (n=10)\n",
    "* Each trail is independent(failure of one dosen't ensures the failure of other trail)\n",
    "\n",
    "$P(X = x\\mid n,\\pi)$ = $\\frac{n!}{x!(n - x)!}\\pi^x (1 - \\pi)^{n-x} $\n",
    "* where P(X = x) is the probability of getting x successes in n trials\n",
    "and $\\pi$ is the probability of an event of interest"
   ]
  },
  {
   "cell_type": "code",
   "execution_count": 27,
   "metadata": {
    "ExecuteTime": {
     "end_time": "2021-03-19T05:10:07.929293Z",
     "start_time": "2021-03-19T05:10:07.924321Z"
    }
   },
   "outputs": [],
   "source": [
    "p = 0.05                #failure rate of the manufacturing item\n",
    "n = 10                  #sample size\n",
    "k = np.arange(0,11)     #An array of quantities"
   ]
  },
  {
   "cell_type": "code",
   "execution_count": 53,
   "metadata": {
    "ExecuteTime": {
     "end_time": "2021-03-19T07:13:50.520220Z",
     "start_time": "2021-03-19T07:13:50.498944Z"
    }
   },
   "outputs": [],
   "source": [
    "binomial = stats.binom.pmf(k,n,p)    #Gives probability mass function for the binomial distribution"
   ]
  },
  {
   "cell_type": "code",
   "execution_count": 54,
   "metadata": {
    "ExecuteTime": {
     "end_time": "2021-03-19T07:13:51.548106Z",
     "start_time": "2021-03-19T07:13:51.536489Z"
    }
   },
   "outputs": [
    {
     "name": "stdout",
     "output_type": "stream",
     "text": [
      "[5.98736939e-01 3.15124705e-01 7.46347985e-02 1.04750594e-02\n",
      " 9.64808106e-04 6.09352488e-05 2.67259863e-06 8.03789063e-08\n",
      " 1.58642578e-09 1.85546875e-11 9.76562500e-14]\n"
     ]
    }
   ],
   "source": [
    "print(binomial)                      #Prints probability of each trail accross K(ranging from 0-10)"
   ]
  },
  {
   "cell_type": "code",
   "execution_count": 55,
   "metadata": {
    "ExecuteTime": {
     "end_time": "2021-03-19T07:13:53.668905Z",
     "start_time": "2021-03-19T07:13:53.662349Z"
    }
   },
   "outputs": [
    {
     "name": "stdout",
     "output_type": "stream",
     "text": [
      "A. Probability that none if the items are defective is 0.5987\n"
     ]
    }
   ],
   "source": [
    "print('A. Probability that none if the items are defective is %1.4f' %binomial[0])"
   ]
  },
  {
   "cell_type": "code",
   "execution_count": 56,
   "metadata": {
    "ExecuteTime": {
     "end_time": "2021-03-19T07:13:55.007887Z",
     "start_time": "2021-03-19T07:13:55.000139Z"
    }
   },
   "outputs": [
    {
     "name": "stdout",
     "output_type": "stream",
     "text": [
      "B. Probability that exactly one of the items is defective is 0.3151\n"
     ]
    }
   ],
   "source": [
    "print('B. Probability that exactly one of the items is defective is %1.4f' %binomial[1])"
   ]
  },
  {
   "cell_type": "code",
   "execution_count": 57,
   "metadata": {
    "ExecuteTime": {
     "end_time": "2021-03-19T07:13:57.459534Z",
     "start_time": "2021-03-19T07:13:57.452836Z"
    }
   },
   "outputs": [],
   "source": [
    "cumbinomial = stats.binom.cdf(k,n,p) #Gives cumulative probability of the binomial distribution function"
   ]
  },
  {
   "cell_type": "code",
   "execution_count": 58,
   "metadata": {
    "ExecuteTime": {
     "end_time": "2021-03-19T07:13:58.750505Z",
     "start_time": "2021-03-19T07:13:58.743198Z"
    }
   },
   "outputs": [
    {
     "name": "stdout",
     "output_type": "stream",
     "text": [
      "[0.59873694 0.91386164 0.98849644 0.9989715  0.99993631 0.99999725\n",
      " 0.99999992 1.         1.         1.         1.        ]\n"
     ]
    }
   ],
   "source": [
    "print(cumbinomial)"
   ]
  },
  {
   "cell_type": "code",
   "execution_count": 33,
   "metadata": {
    "ExecuteTime": {
     "end_time": "2021-03-19T05:21:34.874536Z",
     "start_time": "2021-03-19T05:21:34.866797Z"
    }
   },
   "outputs": [
    {
     "name": "stdout",
     "output_type": "stream",
     "text": [
      "C. Probability that two or fewer of the items are defective is 0.9885\n"
     ]
    }
   ],
   "source": [
    "print('C. Probability that two or fewer of the items are defective is %1.4f' %cumbinomial[2])"
   ]
  },
  {
   "cell_type": "code",
   "execution_count": 34,
   "metadata": {
    "ExecuteTime": {
     "end_time": "2021-03-19T05:26:04.707636Z",
     "start_time": "2021-03-19T05:26:04.696836Z"
    }
   },
   "outputs": [
    {
     "name": "stdout",
     "output_type": "stream",
     "text": [
      "D. probability that three or more of the items are defective is 0.0115\n"
     ]
    }
   ],
   "source": [
    "P = 1-cumbinomial[2] # since entire area under cumbinomial distibution is 1, Subtracting cumulative probability upto 2 defective items from 1 gives \n",
    "print('D. probability that three or more of the items are defective is %1.4f' %P)"
   ]
  },
  {
   "cell_type": "markdown",
   "metadata": {},
   "source": [
    "# Part ONE-Question 3"
   ]
  },
  {
   "cell_type": "markdown",
   "metadata": {},
   "source": [
    "3.A car salesman sells on an average 3 cars per week.\n",
    "\n",
    "This follows Poisson distribution since the below mentioned pre-requisites are satisfied:\n",
    "* Discrete distribution.\n",
    "* Describe the number of events occuring in a fixed time interval(one week).\n",
    "* Requires only one parameter, Mean(μ = λ = 3).\n",
    "* Bound by 0 and infinity(∞) [The Poisson distribution is the limit of binomial distribution as n approaches ∞and p approaches 0]\n",
    "\n",
    "## Properties and formula\n",
    "Mean μ = λ\n",
    "\n",
    "Standard deviation σ = √ μ\n",
    "\n",
    "  P(X = x) = $\\frac{e^\\lambda \\lambda^x}{x!} $\n",
    "where \n",
    "* P(x)              = Probability of x successes given an idea of  $\\lambda$\n",
    "* $\\lambda$ = Average number of successes\n",
    "* e                   = 2.71828 (based on natural logarithm)\n",
    "* x                    = successes per unit which can take values 0,1,2,3,... $\\infty$"
   ]
  },
  {
   "cell_type": "code",
   "execution_count": 60,
   "metadata": {
    "ExecuteTime": {
     "end_time": "2021-03-19T07:14:30.491801Z",
     "start_time": "2021-03-19T07:14:30.480207Z"
    }
   },
   "outputs": [],
   "source": [
    "rate = 3                #Average number of successes or mean\n",
    "n1   = np.arange(0,15)  #Taking first 15 successes(user depended as values take 0 to ∞)\n",
    "cumpoisson = stats.poisson.cdf(n1,rate)"
   ]
  },
  {
   "cell_type": "code",
   "execution_count": 61,
   "metadata": {
    "ExecuteTime": {
     "end_time": "2021-03-19T07:14:31.437178Z",
     "start_time": "2021-03-19T07:14:31.427619Z"
    }
   },
   "outputs": [
    {
     "data": {
      "text/plain": [
       "array([0.04978707, 0.19914827, 0.42319008, 0.64723189, 0.81526324,\n",
       "       0.91608206, 0.96649146, 0.9880955 , 0.99619701, 0.99889751,\n",
       "       0.99970766, 0.99992861, 0.99998385, 0.9999966 , 0.99999933])"
      ]
     },
     "execution_count": 61,
     "metadata": {},
     "output_type": "execute_result"
    }
   ],
   "source": [
    "cumpoisson              #Display of first 15 poisson distribution probabilities "
   ]
  },
  {
   "cell_type": "code",
   "execution_count": 62,
   "metadata": {
    "ExecuteTime": {
     "end_time": "2021-03-19T07:14:33.212262Z",
     "start_time": "2021-03-19T07:14:33.205223Z"
    }
   },
   "outputs": [
    {
     "name": "stdout",
     "output_type": "stream",
     "text": [
      "A. Probability that in a given week he will sell some cars is 0.9502\n"
     ]
    }
   ],
   "source": [
    "P = 1 - cumpoisson[0]  #probability that in a given week the salesman sells some cars(total probability - probability of selling no cars)\n",
    "print('A. Probability that in a given week he will sell some cars is %1.4f' %P)"
   ]
  },
  {
   "cell_type": "code",
   "execution_count": 63,
   "metadata": {
    "ExecuteTime": {
     "end_time": "2021-03-19T07:14:34.158934Z",
     "start_time": "2021-03-19T07:14:34.150574Z"
    }
   },
   "outputs": [
    {
     "name": "stdout",
     "output_type": "stream",
     "text": [
      "B. Probability that in a given week he will sell 2 or more but less than 5 cars is 0.6161\n"
     ]
    }
   ],
   "source": [
    "P1 = cumpoisson[4] #let P1 be the probability that salesman sells more than 4 cars,       P(X>=4)\n",
    "P2 = cumpoisson[1] #let P2 be the probability that salesman sells more than 1 car,        P(X>=1)\n",
    "P  = P1 - P2       #Probability that the salesman sells more than 2 and less than 5 cars, P(2<=X<5) \n",
    "print('B. Probability that in a given week he will sell 2 or more but less than 5 cars is %1.4f' %P)"
   ]
  },
  {
   "cell_type": "code",
   "execution_count": 64,
   "metadata": {
    "ExecuteTime": {
     "end_time": "2021-03-19T07:14:35.741550Z",
     "start_time": "2021-03-19T07:14:35.272184Z"
    }
   },
   "outputs": [
    {
     "data": {
      "image/png": "[encoded data removed]",
      "text/plain": [
       "<Figure size 432x288 with 1 Axes>"
      ]
     },
     "metadata": {
      "needs_background": "light"
     },
     "output_type": "display_data"
    }
   ],
   "source": [
    "poisson = stats.poisson.pmf(n1,rate)                        #Probability mass function at n1 of the given RV\n",
    "plt.plot(n1,poisson, 'go-')                                 #plot x and y using green circle markers which connects\n",
    "plt.title('C. Plot of Poisson distribution function')       #title of graph\n",
    "plt.xlabel('Number of cars sold per week')                  #X-axis lable\n",
    "plt.ylabel('Cumulative Probability of cars sold per week')  #Y-axis lable\n",
    "plt.show()                                                  #Display a figure"
   ]
  },
  {
   "cell_type": "markdown",
   "metadata": {},
   "source": [
    "# Part ONE-Question 4"
   ]
  },
  {
   "cell_type": "markdown",
   "metadata": {},
   "source": [
    "4.Recognition accuracy that measures the percentage of orders that are taken correctly is 86.8%\n",
    "\n",
    "This follows Binomial-distribution since all the pre-requisites are satisfied:\n",
    "* Only two potential outcome(recognise,doesn't-recognise).\n",
    "* Probability of success(to recognise) is same accross all trails(p=0.868).\n",
    "* Number of trails is fixed (n=3)\n",
    "* Each trail is independent(recognition of one dosen't ensures the recognition of other trail)\n",
    "\n",
    "Where: $P(X = x\\mid n,\\pi)$ = $\\frac{n!}{x!(n - x)!}\\pi^x (1 - \\pi)^{n-x} $\n",
    "* where P(X = x) is the probability of getting x successes in n trials\n",
    "and $\\pi$ is the probability of an event of interest"
   ]
  },
  {
   "cell_type": "code",
   "execution_count": 3,
   "metadata": {
    "ExecuteTime": {
     "end_time": "2021-03-22T04:20:01.145873Z",
     "start_time": "2021-03-22T04:20:01.137330Z"
    }
   },
   "outputs": [],
   "source": [
    "p=0.868                            #probability of success\n",
    "n=3                                #number of trails\n",
    "k=np.arange(0,4)                   #An array of quantities"
   ]
  },
  {
   "cell_type": "code",
   "execution_count": 4,
   "metadata": {
    "ExecuteTime": {
     "end_time": "2021-03-22T04:20:19.202034Z",
     "start_time": "2021-03-22T04:20:19.193266Z"
    }
   },
   "outputs": [
    {
     "name": "stdout",
     "output_type": "stream",
     "text": [
      "[0.00229997 0.0453721  0.2983559  0.65397203]\n"
     ]
    }
   ],
   "source": [
    "binomial = stats.binom.pmf(k,n,p)  #probability mass function\n",
    "print(binomial)"
   ]
  },
  {
   "cell_type": "code",
   "execution_count": 5,
   "metadata": {
    "ExecuteTime": {
     "end_time": "2021-03-22T04:21:40.361353Z",
     "start_time": "2021-03-22T04:21:40.351576Z"
    }
   },
   "outputs": [
    {
     "name": "stdout",
     "output_type": "stream",
     "text": [
      "A. Probability that all three orders will be recognised correctly is 0.6540\n"
     ]
    }
   ],
   "source": [
    "print('A. Probability that all three orders will be recognised correctly is %1.4f' %binomial[3])"
   ]
  },
  {
   "cell_type": "code",
   "execution_count": 6,
   "metadata": {
    "ExecuteTime": {
     "end_time": "2021-03-22T04:22:23.900540Z",
     "start_time": "2021-03-22T04:22:23.893116Z"
    }
   },
   "outputs": [
    {
     "name": "stdout",
     "output_type": "stream",
     "text": [
      "B. Probability that none of three orders will be recognised correctly is 0.0023\n"
     ]
    }
   ],
   "source": [
    "print('B. Probability that none of three orders will be recognised correctly is %1.4f' %binomial[0])"
   ]
  },
  {
   "cell_type": "code",
   "execution_count": 33,
   "metadata": {
    "ExecuteTime": {
     "end_time": "2021-03-22T04:44:58.870307Z",
     "start_time": "2021-03-22T04:44:58.861624Z"
    }
   },
   "outputs": [
    {
     "name": "stdout",
     "output_type": "stream",
     "text": [
      "C.Probability that atleast two of three orders will be recognised correctly is 0.9523\n"
     ]
    }
   ],
   "source": [
    "P=binomial[2]+binomial[3]         # P(X>=2) = P(X=2)+P(X=3)\n",
    "print('C.Probability that atleast two of three orders will be recognised correctly is %1.4f' %P)\n"
   ]
  },
  {
   "cell_type": "markdown",
   "metadata": {},
   "source": [
    "# Part ONE- Question 5"
   ]
  },
  {
   "cell_type": "markdown",
   "metadata": {},
   "source": [
    "Since it's given that the distribution is normal, we know that Z = (x - µ)/σ"
   ]
  },
  {
   "cell_type": "code",
   "execution_count": 37,
   "metadata": {
    "ExecuteTime": {
     "end_time": "2021-03-22T14:32:29.788382Z",
     "start_time": "2021-03-22T14:32:29.781912Z"
    }
   },
   "outputs": [
    {
     "name": "stdout",
     "output_type": "stream",
     "text": [
      "A.The percentage of students who score more than 80 is 4.7790\n"
     ]
    }
   ],
   "source": [
    "p=(1-stats.norm.cdf(80,loc=60,scale=12))*100  #The probability (area) to the right of the z value is calculated as (1 - probability to the left)\n",
    "print('A.The percentage of students who score more than 80 is %1.4f'%p)"
   ]
  },
  {
   "cell_type": "code",
   "execution_count": 38,
   "metadata": {
    "ExecuteTime": {
     "end_time": "2021-03-22T14:34:11.238245Z",
     "start_time": "2021-03-22T14:34:11.228456Z"
    }
   },
   "outputs": [
    {
     "name": "stdout",
     "output_type": "stream",
     "text": [
      "B.The percentage of students who score less than 50 is 20.2328\n"
     ]
    }
   ],
   "source": [
    "p=(stats.norm.cdf(50,loc=60,scale=12))*100 #The probability or the area under curve to the left of the z value\n",
    "print('B.The percentage of students who score less than 50 is %1.4f'%p)"
   ]
  },
  {
   "cell_type": "markdown",
   "metadata": {
    "ExecuteTime": {
     "end_time": "2021-03-22T14:45:15.360281Z",
     "start_time": "2021-03-22T14:45:15.328992Z"
    }
   },
   "source": [
    "### C. Since top 10% of the students are awarded distinction the area between 0 and z is 0.40(0.5-0.1)\n",
    "* The respective Z value that will make the area = 0.40 is 1.28 (from the normal table)\n",
    "* substituting Z=1.28 in Z=(X-60)/12 we get the required marks for being in the top 10%"
   ]
  },
  {
   "cell_type": "code",
   "execution_count": 47,
   "metadata": {
    "ExecuteTime": {
     "end_time": "2021-03-22T15:23:12.576685Z",
     "start_time": "2021-03-22T15:23:12.570334Z"
    }
   },
   "outputs": [
    {
     "name": "stdout",
     "output_type": "stream",
     "text": [
      "C.The distinction mark if the highest 10% of the students are to be awarded distinction is 75.36\n"
     ]
    }
   ],
   "source": [
    "X=(1.28*12)+60\n",
    "print('C.The distinction mark if the highest 10% of the students are to be awarded distinction is',X)"
   ]
  },
  {
   "cell_type": "markdown",
   "metadata": {},
   "source": [
    "# or\n"
   ]
  },
  {
   "cell_type": "code",
   "execution_count": 7,
   "metadata": {
    "ExecuteTime": {
     "end_time": "2021-03-27T04:57:22.572671Z",
     "start_time": "2021-03-27T04:57:22.559603Z"
    }
   },
   "outputs": [
    {
     "data": {
      "text/plain": [
       "75.3786187865352"
      ]
     },
     "execution_count": 7,
     "metadata": {},
     "output_type": "execute_result"
    }
   ],
   "source": [
    "p = (stats.norm.ppf(0.90,loc=60,scale=12)) #Using inverse noraml cumulative distribution function\n",
    "p"
   ]
  },
  {
   "cell_type": "markdown",
   "metadata": {},
   "source": [
    "# Part ONE- QUESTION6\n",
    "The Food delivery service SWIGGY conducts quality checks at specified periods on the Delivery time. Historically, Every 6 deliveries of 100 are delayed due to bad roads or heavy traffic. Suppose a random sample of 10 ongoing deliveries are selected. Find\n",
    "* A. Probability that none of the items are Delayed?\n",
    "* B. Probability that exactly two of the items are delayed?\n",
    "* C. Probability that two or fewer of the items are delayed?\n",
    "* D. Probability that Four or more of the items are delayed?"
   ]
  },
  {
   "cell_type": "markdown",
   "metadata": {},
   "source": [
    "## Solution\n",
    "This follows Binomial-distribution since all the pre-requisites are satisfied:\n",
    "* Only two potential outcome(defective,not-defective).\n",
    "* Probability of success(being defective) is same accross all trails(p=0.05).\n",
    "* Number of trails is fixed (n=10)\n",
    "* Each trail is independent(failure of one dosen't ensures the failure of other trail)\n",
    "\n",
    "$P(X = x\\mid n,\\pi)$ = $\\frac{n!}{x!(n - x)!}\\pi^x (1 - \\pi)^{n-x} $\n",
    "* where P(X = x) is the probability of getting x successes in n trials\n",
    "and $\\pi$ is the probability of an event of interest"
   ]
  },
  {
   "cell_type": "code",
   "execution_count": 2,
   "metadata": {
    "ExecuteTime": {
     "end_time": "2021-04-04T14:20:04.332933Z",
     "start_time": "2021-04-04T14:20:04.318282Z"
    }
   },
   "outputs": [],
   "source": [
    "p = 0.06                #failure rate of the manufacturing item\n",
    "n = 10                  #sample size\n",
    "k = np.arange(0,11)"
   ]
  },
  {
   "cell_type": "code",
   "execution_count": 3,
   "metadata": {
    "ExecuteTime": {
     "end_time": "2021-04-04T14:20:18.482207Z",
     "start_time": "2021-04-04T14:20:18.476196Z"
    }
   },
   "outputs": [],
   "source": [
    "binomial = stats.binom.pmf(k,n,p)    #Gives probability mass function for the binomial distribution"
   ]
  },
  {
   "cell_type": "code",
   "execution_count": 4,
   "metadata": {
    "ExecuteTime": {
     "end_time": "2021-04-04T14:20:35.818924Z",
     "start_time": "2021-04-04T14:20:35.812328Z"
    }
   },
   "outputs": [
    {
     "name": "stdout",
     "output_type": "stream",
     "text": [
      "[5.38615114e-01 3.43796881e-01 9.87501680e-02 1.68085392e-02\n",
      " 1.87754960e-03 1.43812309e-04 7.64959093e-06 2.79012435e-07\n",
      " 6.67848914e-09 9.47303424e-11 6.04661760e-13]\n"
     ]
    }
   ],
   "source": [
    "print(binomial)                      #Prints probability of each trail accross K(ranging from 0-10)"
   ]
  },
  {
   "cell_type": "code",
   "execution_count": 9,
   "metadata": {
    "ExecuteTime": {
     "end_time": "2021-04-04T14:23:36.282574Z",
     "start_time": "2021-04-04T14:23:36.275369Z"
    }
   },
   "outputs": [
    {
     "name": "stdout",
     "output_type": "stream",
     "text": [
      "A. Probability that none if the items are delayed is 0.5386\n"
     ]
    }
   ],
   "source": [
    "print('A. Probability that none if the items are delayed is %1.4f' %binomial[0])"
   ]
  },
  {
   "cell_type": "code",
   "execution_count": 10,
   "metadata": {
    "ExecuteTime": {
     "end_time": "2021-04-04T14:23:42.143327Z",
     "start_time": "2021-04-04T14:23:42.135747Z"
    }
   },
   "outputs": [
    {
     "name": "stdout",
     "output_type": "stream",
     "text": [
      "B. Probability that exactly two of the items is delayed is 0.0988\n"
     ]
    }
   ],
   "source": [
    "print('B. Probability that exactly two of the items is delayed is %1.4f' %binomial[2])"
   ]
  },
  {
   "cell_type": "code",
   "execution_count": 7,
   "metadata": {
    "ExecuteTime": {
     "end_time": "2021-04-04T14:21:43.461619Z",
     "start_time": "2021-04-04T14:21:43.455540Z"
    }
   },
   "outputs": [],
   "source": [
    "cumbinomial = stats.binom.cdf(k,n,p) #Gives cumulative probability of the binomial distribution function"
   ]
  },
  {
   "cell_type": "code",
   "execution_count": 11,
   "metadata": {
    "ExecuteTime": {
     "end_time": "2021-04-04T14:23:50.220822Z",
     "start_time": "2021-04-04T14:23:50.214092Z"
    }
   },
   "outputs": [
    {
     "name": "stdout",
     "output_type": "stream",
     "text": [
      "C. Probability that two or fewer of the items are delayed is 0.9812\n"
     ]
    }
   ],
   "source": [
    "print('C. Probability that two or fewer of the items are delayed is %1.4f' %cumbinomial[2])"
   ]
  },
  {
   "cell_type": "code",
   "execution_count": 13,
   "metadata": {
    "ExecuteTime": {
     "end_time": "2021-04-04T14:24:09.831649Z",
     "start_time": "2021-04-04T14:24:09.825659Z"
    }
   },
   "outputs": [
    {
     "name": "stdout",
     "output_type": "stream",
     "text": [
      "D. probability that Four or more of the items are delayed is 0.0020\n"
     ]
    }
   ],
   "source": [
    "P = 1-cumbinomial[3] # since entire area under cumbinomial distibution is 1, Subtracting cumulative probability upto 3 delayed deliveries from 1 gives \n",
    "print('D. probability that Four or more of the items are delayed is %1.4f' %P)"
   ]
  },
  {
   "cell_type": "code",
   "execution_count": null,
   "metadata": {},
   "outputs": [],
   "source": []
  }
 ],
 "metadata": {
  "kernelspec": {
   "display_name": "Python 3",
   "language": "python",
   "name": "python3"
  },
  "language_info": {
   "codemirror_mode": {
    "name": "ipython",
    "version": 3
   },
   "file_extension": ".py",
   "mimetype": "text/x-python",
   "name": "python",
   "nbconvert_exporter": "python",
   "pygments_lexer": "ipython3",
   "version": "3.7.4"
  }
 },
 "nbformat": 4,
 "nbformat_minor": 2
}
