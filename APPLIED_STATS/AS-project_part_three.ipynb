{
 "cells": [
  {
   "cell_type": "code",
   "execution_count": 1,
   "metadata": {
    "ExecuteTime": {
     "end_time": "2021-04-04T14:47:09.670754Z",
     "start_time": "2021-04-04T14:47:06.673903Z"
    }
   },
   "outputs": [],
   "source": [
    "import numpy as np               #General-purpose array-processing package\n",
    "import pandas as pd              #Package for analysing data\n",
    "import scipy.stats as stats      #Library of statistical functions\n",
    "import matplotlib.pyplot as plt  #For plotting graphs\n",
    "import seaborn as sns\n",
    "%matplotlib inline"
   ]
  },
  {
   "cell_type": "markdown",
   "metadata": {},
   "source": [
    "# Data warehouse\n",
    "## Loading Data"
   ]
  },
  {
   "cell_type": "code",
   "execution_count": 17,
   "metadata": {
    "ExecuteTime": {
     "end_time": "2021-04-04T14:50:30.288286Z",
     "start_time": "2021-04-04T14:50:30.276086Z"
    }
   },
   "outputs": [],
   "source": [
    "data = pd.read_csv('companyX_EU.csv')  #read the csv file"
   ]
  },
  {
   "cell_type": "code",
   "execution_count": 18,
   "metadata": {
    "ExecuteTime": {
     "end_time": "2021-04-04T14:50:31.469518Z",
     "start_time": "2021-04-04T14:50:31.452586Z"
    }
   },
   "outputs": [
    {
     "data": {
      "text/html": [
       "<div>\n",
       "<style scoped>\n",
       "    .dataframe tbody tr th:only-of-type {\n",
       "        vertical-align: middle;\n",
       "    }\n",
       "\n",
       "    .dataframe tbody tr th {\n",
       "        vertical-align: top;\n",
       "    }\n",
       "\n",
       "    .dataframe thead th {\n",
       "        text-align: right;\n",
       "    }\n",
       "</style>\n",
       "<table border=\"1\" class=\"dataframe\">\n",
       "  <thead>\n",
       "    <tr style=\"text-align: right;\">\n",
       "      <th></th>\n",
       "      <th>Startup</th>\n",
       "      <th>Product</th>\n",
       "      <th>Funding</th>\n",
       "      <th>Event</th>\n",
       "      <th>Result</th>\n",
       "      <th>OperatingState</th>\n",
       "    </tr>\n",
       "  </thead>\n",
       "  <tbody>\n",
       "    <tr>\n",
       "      <td>0</td>\n",
       "      <td>2600Hz</td>\n",
       "      <td>2600hz.com</td>\n",
       "      <td>NaN</td>\n",
       "      <td>Disrupt SF 2013</td>\n",
       "      <td>Contestant</td>\n",
       "      <td>Operating</td>\n",
       "    </tr>\n",
       "    <tr>\n",
       "      <td>1</td>\n",
       "      <td>3DLT</td>\n",
       "      <td>3dlt.com</td>\n",
       "      <td>$630K</td>\n",
       "      <td>Disrupt NYC 2013</td>\n",
       "      <td>Contestant</td>\n",
       "      <td>Closed</td>\n",
       "    </tr>\n",
       "    <tr>\n",
       "      <td>2</td>\n",
       "      <td>3DPrinterOS</td>\n",
       "      <td>3dprinteros.com</td>\n",
       "      <td>NaN</td>\n",
       "      <td>Disrupt SF 2016</td>\n",
       "      <td>Contestant</td>\n",
       "      <td>Operating</td>\n",
       "    </tr>\n",
       "    <tr>\n",
       "      <td>3</td>\n",
       "      <td>3Dprintler</td>\n",
       "      <td>3dprintler.com</td>\n",
       "      <td>$1M</td>\n",
       "      <td>Disrupt NY 2016</td>\n",
       "      <td>Audience choice</td>\n",
       "      <td>Operating</td>\n",
       "    </tr>\n",
       "    <tr>\n",
       "      <td>4</td>\n",
       "      <td>42 Technologies</td>\n",
       "      <td>42technologies.com</td>\n",
       "      <td>NaN</td>\n",
       "      <td>Disrupt NYC 2013</td>\n",
       "      <td>Contestant</td>\n",
       "      <td>Operating</td>\n",
       "    </tr>\n",
       "    <tr>\n",
       "      <td>5</td>\n",
       "      <td>5to1</td>\n",
       "      <td>5to1.com</td>\n",
       "      <td>$19.3M</td>\n",
       "      <td>TC50 2009</td>\n",
       "      <td>Contestant</td>\n",
       "      <td>Acquired</td>\n",
       "    </tr>\n",
       "    <tr>\n",
       "      <td>6</td>\n",
       "      <td>8 Securities</td>\n",
       "      <td>8securities.com</td>\n",
       "      <td>$29M</td>\n",
       "      <td>Disrupt Beijing 2011</td>\n",
       "      <td>Finalist</td>\n",
       "      <td>Operating</td>\n",
       "    </tr>\n",
       "    <tr>\n",
       "      <td>7</td>\n",
       "      <td>8020 Media</td>\n",
       "      <td>8020media.com</td>\n",
       "      <td>NaN</td>\n",
       "      <td>TC40 2007</td>\n",
       "      <td>Contestant</td>\n",
       "      <td>Operating</td>\n",
       "    </tr>\n",
       "    <tr>\n",
       "      <td>8</td>\n",
       "      <td>About Last Night</td>\n",
       "      <td>aboutlastnight.net</td>\n",
       "      <td>NaN</td>\n",
       "      <td>Disrupt NYC 2012</td>\n",
       "      <td>Contestant</td>\n",
       "      <td>Operating</td>\n",
       "    </tr>\n",
       "    <tr>\n",
       "      <td>9</td>\n",
       "      <td>Adgregate Markets</td>\n",
       "      <td>adgregate.com</td>\n",
       "      <td>NaN</td>\n",
       "      <td>TC50 2008</td>\n",
       "      <td>Contestant</td>\n",
       "      <td>Operating</td>\n",
       "    </tr>\n",
       "  </tbody>\n",
       "</table>\n",
       "</div>"
      ],
      "text/plain": [
       "             Startup             Product Funding                 Event  \\\n",
       "0             2600Hz          2600hz.com     NaN       Disrupt SF 2013   \n",
       "1               3DLT            3dlt.com   $630K      Disrupt NYC 2013   \n",
       "2        3DPrinterOS     3dprinteros.com     NaN       Disrupt SF 2016   \n",
       "3         3Dprintler      3dprintler.com     $1M       Disrupt NY 2016   \n",
       "4    42 Technologies  42technologies.com     NaN      Disrupt NYC 2013   \n",
       "5               5to1            5to1.com  $19.3M             TC50 2009   \n",
       "6       8 Securities     8securities.com    $29M  Disrupt Beijing 2011   \n",
       "7         8020 Media       8020media.com     NaN             TC40 2007   \n",
       "8   About Last Night  aboutlastnight.net     NaN      Disrupt NYC 2012   \n",
       "9  Adgregate Markets       adgregate.com     NaN             TC50 2008   \n",
       "\n",
       "            Result OperatingState  \n",
       "0       Contestant      Operating  \n",
       "1       Contestant         Closed  \n",
       "2       Contestant      Operating  \n",
       "3  Audience choice      Operating  \n",
       "4       Contestant      Operating  \n",
       "5       Contestant       Acquired  \n",
       "6         Finalist      Operating  \n",
       "7       Contestant      Operating  \n",
       "8       Contestant      Operating  \n",
       "9       Contestant      Operating  "
      ]
     },
     "execution_count": 18,
     "metadata": {},
     "output_type": "execute_result"
    }
   ],
   "source": [
    "data.head(10)                          #getting data of first 10 rows"
   ]
  },
  {
   "cell_type": "markdown",
   "metadata": {},
   "source": [
    "# Data exploration"
   ]
  },
  {
   "cell_type": "code",
   "execution_count": 19,
   "metadata": {
    "ExecuteTime": {
     "end_time": "2021-04-04T14:50:35.867469Z",
     "start_time": "2021-04-04T14:50:35.857308Z"
    }
   },
   "outputs": [
    {
     "name": "stdout",
     "output_type": "stream",
     "text": [
      "<class 'pandas.core.frame.DataFrame'>\n",
      "RangeIndex: 662 entries, 0 to 661\n",
      "Data columns (total 6 columns):\n",
      "Startup           662 non-null object\n",
      "Product           656 non-null object\n",
      "Funding           448 non-null object\n",
      "Event             662 non-null object\n",
      "Result            662 non-null object\n",
      "OperatingState    662 non-null object\n",
      "dtypes: object(6)\n",
      "memory usage: 31.2+ KB\n"
     ]
    }
   ],
   "source": [
    "data.info()                         #check the data type of each attribute"
   ]
  },
  {
   "cell_type": "code",
   "execution_count": 20,
   "metadata": {
    "ExecuteTime": {
     "end_time": "2021-04-04T14:50:40.056324Z",
     "start_time": "2021-04-04T14:50:40.043597Z"
    }
   },
   "outputs": [
    {
     "data": {
      "text/plain": [
       "Startup             0\n",
       "Product             6\n",
       "Funding           214\n",
       "Event               0\n",
       "Result              0\n",
       "OperatingState      0\n",
       "dtype: int64"
      ]
     },
     "execution_count": 20,
     "metadata": {},
     "output_type": "execute_result"
    }
   ],
   "source": [
    "data.isnull().sum()                 #Gives the number of null values for each column"
   ]
  },
  {
   "cell_type": "markdown",
   "metadata": {},
   "source": [
    "# Data preprocessing & visualisation"
   ]
  },
  {
   "cell_type": "code",
   "execution_count": 21,
   "metadata": {
    "ExecuteTime": {
     "end_time": "2021-04-04T14:50:44.589820Z",
     "start_time": "2021-04-04T14:50:44.572759Z"
    }
   },
   "outputs": [],
   "source": [
    "data = data.dropna(axis=0,how=\"any\")  #dropping all the rows containing Nan values\n",
    "newdata = data.reset_index(drop=True) #resetting the index since after dropping the rows containing Nan values index changes\n",
    "newdata.rename(columns = {'Funding':'Funding_Dollars'},inplace=True) #change column name \"Funding\" to \"Funding in dollars\"\n"
   ]
  },
  {
   "cell_type": "code",
   "execution_count": 22,
   "metadata": {
    "ExecuteTime": {
     "end_time": "2021-04-04T14:50:58.650991Z",
     "start_time": "2021-04-04T14:50:58.644363Z"
    }
   },
   "outputs": [],
   "source": [
    "newdata.Funding_Dollars = [x.strip('$') for x in newdata.Funding_Dollars]   #removing '$' sign from the Funding_dollars column"
   ]
  },
  {
   "cell_type": "code",
   "execution_count": 23,
   "metadata": {
    "ExecuteTime": {
     "end_time": "2021-04-04T14:51:06.813064Z",
     "start_time": "2021-04-04T14:51:06.800858Z"
    }
   },
   "outputs": [
    {
     "data": {
      "text/plain": [
       "1M       17\n",
       "2M       12\n",
       "3M        9\n",
       "1.3M      9\n",
       "1.2M      9\n",
       "         ..\n",
       "983K      1\n",
       "5.1M      1\n",
       "5.5M      1\n",
       "11.3M     1\n",
       "16.2M     1\n",
       "Name: Funding_Dollars, Length: 239, dtype: int64"
      ]
     },
     "execution_count": 23,
     "metadata": {},
     "output_type": "execute_result"
    }
   ],
   "source": [
    "newdata['Funding_Dollars'].value_counts() "
   ]
  },
  {
   "cell_type": "code",
   "execution_count": 24,
   "metadata": {
    "ExecuteTime": {
     "end_time": "2021-04-04T14:51:11.422263Z",
     "start_time": "2021-04-04T14:51:11.129553Z"
    }
   },
   "outputs": [],
   "source": [
    "dict = {'[kK]': '*1e3', '[mM]': '*1e6', '[bB]': '*1e9', }\n",
    "newdata['Funding_Dollars'] = newdata['Funding_Dollars'].replace(dict, regex=True).map(pd.eval)\n"
   ]
  },
  {
   "cell_type": "code",
   "execution_count": 25,
   "metadata": {
    "ExecuteTime": {
     "end_time": "2021-04-04T15:47:21.229319Z",
     "start_time": "2021-04-04T15:47:21.213723Z"
    }
   },
   "outputs": [
    {
     "data": {
      "text/html": [
       "<div>\n",
       "<style scoped>\n",
       "    .dataframe tbody tr th:only-of-type {\n",
       "        vertical-align: middle;\n",
       "    }\n",
       "\n",
       "    .dataframe tbody tr th {\n",
       "        vertical-align: top;\n",
       "    }\n",
       "\n",
       "    .dataframe thead th {\n",
       "        text-align: right;\n",
       "    }\n",
       "</style>\n",
       "<table border=\"1\" class=\"dataframe\">\n",
       "  <thead>\n",
       "    <tr style=\"text-align: right;\">\n",
       "      <th></th>\n",
       "      <th>Startup</th>\n",
       "      <th>Product</th>\n",
       "      <th>Funding_Dollars</th>\n",
       "      <th>Event</th>\n",
       "      <th>Result</th>\n",
       "      <th>OperatingState</th>\n",
       "    </tr>\n",
       "  </thead>\n",
       "  <tbody>\n",
       "    <tr>\n",
       "      <td>0</td>\n",
       "      <td>3DLT</td>\n",
       "      <td>3dlt.com</td>\n",
       "      <td>630000.0</td>\n",
       "      <td>Disrupt NYC 2013</td>\n",
       "      <td>Contestant</td>\n",
       "      <td>Closed</td>\n",
       "    </tr>\n",
       "    <tr>\n",
       "      <td>1</td>\n",
       "      <td>3Dprintler</td>\n",
       "      <td>3dprintler.com</td>\n",
       "      <td>1000000.0</td>\n",
       "      <td>Disrupt NY 2016</td>\n",
       "      <td>Audience choice</td>\n",
       "      <td>Operating</td>\n",
       "    </tr>\n",
       "    <tr>\n",
       "      <td>2</td>\n",
       "      <td>5to1</td>\n",
       "      <td>5to1.com</td>\n",
       "      <td>19300000.0</td>\n",
       "      <td>TC50 2009</td>\n",
       "      <td>Contestant</td>\n",
       "      <td>Acquired</td>\n",
       "    </tr>\n",
       "    <tr>\n",
       "      <td>3</td>\n",
       "      <td>8 Securities</td>\n",
       "      <td>8securities.com</td>\n",
       "      <td>29000000.0</td>\n",
       "      <td>Disrupt Beijing 2011</td>\n",
       "      <td>Finalist</td>\n",
       "      <td>Operating</td>\n",
       "    </tr>\n",
       "    <tr>\n",
       "      <td>4</td>\n",
       "      <td>AdhereTech</td>\n",
       "      <td>adheretech.com</td>\n",
       "      <td>1800000.0</td>\n",
       "      <td>Hardware Battlefield 2014</td>\n",
       "      <td>Contestant</td>\n",
       "      <td>Operating</td>\n",
       "    </tr>\n",
       "  </tbody>\n",
       "</table>\n",
       "</div>"
      ],
      "text/plain": [
       "        Startup          Product  Funding_Dollars                      Event  \\\n",
       "0          3DLT         3dlt.com         630000.0           Disrupt NYC 2013   \n",
       "1    3Dprintler   3dprintler.com        1000000.0            Disrupt NY 2016   \n",
       "2          5to1         5to1.com       19300000.0                  TC50 2009   \n",
       "3  8 Securities  8securities.com       29000000.0       Disrupt Beijing 2011   \n",
       "4    AdhereTech   adheretech.com        1800000.0  Hardware Battlefield 2014   \n",
       "\n",
       "            Result OperatingState  \n",
       "0       Contestant         Closed  \n",
       "1  Audience choice      Operating  \n",
       "2       Contestant       Acquired  \n",
       "3         Finalist      Operating  \n",
       "4       Contestant      Operating  "
      ]
     },
     "execution_count": 25,
     "metadata": {},
     "output_type": "execute_result"
    }
   ],
   "source": [
    "newdata.head()"
   ]
  },
  {
   "cell_type": "code",
   "execution_count": 11,
   "metadata": {
    "ExecuteTime": {
     "end_time": "2021-03-28T14:37:36.390766Z",
     "start_time": "2021-03-28T14:37:36.383378Z"
    }
   },
   "outputs": [],
   "source": [
    "newdata.Funding_Dollars = pd.to_numeric(newdata.Funding_Dollars)  # converting Dtype to int"
   ]
  },
  {
   "cell_type": "code",
   "execution_count": 26,
   "metadata": {
    "ExecuteTime": {
     "end_time": "2021-04-04T15:48:04.508974Z",
     "start_time": "2021-04-04T15:48:04.498884Z"
    }
   },
   "outputs": [],
   "source": [
    "newdata['Funding_Dollars'] = newdata['Funding_Dollars']/ 1000000.0 #Funding_dollars in millions"
   ]
  },
  {
   "cell_type": "code",
   "execution_count": 27,
   "metadata": {
    "ExecuteTime": {
     "end_time": "2021-04-04T15:48:07.999540Z",
     "start_time": "2021-04-04T15:48:07.983391Z"
    }
   },
   "outputs": [
    {
     "data": {
      "text/html": [
       "<div>\n",
       "<style scoped>\n",
       "    .dataframe tbody tr th:only-of-type {\n",
       "        vertical-align: middle;\n",
       "    }\n",
       "\n",
       "    .dataframe tbody tr th {\n",
       "        vertical-align: top;\n",
       "    }\n",
       "\n",
       "    .dataframe thead th {\n",
       "        text-align: right;\n",
       "    }\n",
       "</style>\n",
       "<table border=\"1\" class=\"dataframe\">\n",
       "  <thead>\n",
       "    <tr style=\"text-align: right;\">\n",
       "      <th></th>\n",
       "      <th>Startup</th>\n",
       "      <th>Product</th>\n",
       "      <th>Funding_Dollars</th>\n",
       "      <th>Event</th>\n",
       "      <th>Result</th>\n",
       "      <th>OperatingState</th>\n",
       "    </tr>\n",
       "  </thead>\n",
       "  <tbody>\n",
       "    <tr>\n",
       "      <td>0</td>\n",
       "      <td>3DLT</td>\n",
       "      <td>3dlt.com</td>\n",
       "      <td>0.63</td>\n",
       "      <td>Disrupt NYC 2013</td>\n",
       "      <td>Contestant</td>\n",
       "      <td>Closed</td>\n",
       "    </tr>\n",
       "    <tr>\n",
       "      <td>1</td>\n",
       "      <td>3Dprintler</td>\n",
       "      <td>3dprintler.com</td>\n",
       "      <td>1.00</td>\n",
       "      <td>Disrupt NY 2016</td>\n",
       "      <td>Audience choice</td>\n",
       "      <td>Operating</td>\n",
       "    </tr>\n",
       "    <tr>\n",
       "      <td>2</td>\n",
       "      <td>5to1</td>\n",
       "      <td>5to1.com</td>\n",
       "      <td>19.30</td>\n",
       "      <td>TC50 2009</td>\n",
       "      <td>Contestant</td>\n",
       "      <td>Acquired</td>\n",
       "    </tr>\n",
       "    <tr>\n",
       "      <td>3</td>\n",
       "      <td>8 Securities</td>\n",
       "      <td>8securities.com</td>\n",
       "      <td>29.00</td>\n",
       "      <td>Disrupt Beijing 2011</td>\n",
       "      <td>Finalist</td>\n",
       "      <td>Operating</td>\n",
       "    </tr>\n",
       "    <tr>\n",
       "      <td>4</td>\n",
       "      <td>AdhereTech</td>\n",
       "      <td>adheretech.com</td>\n",
       "      <td>1.80</td>\n",
       "      <td>Hardware Battlefield 2014</td>\n",
       "      <td>Contestant</td>\n",
       "      <td>Operating</td>\n",
       "    </tr>\n",
       "  </tbody>\n",
       "</table>\n",
       "</div>"
      ],
      "text/plain": [
       "        Startup          Product  Funding_Dollars                      Event  \\\n",
       "0          3DLT         3dlt.com             0.63           Disrupt NYC 2013   \n",
       "1    3Dprintler   3dprintler.com             1.00            Disrupt NY 2016   \n",
       "2          5to1         5to1.com            19.30                  TC50 2009   \n",
       "3  8 Securities  8securities.com            29.00       Disrupt Beijing 2011   \n",
       "4    AdhereTech   adheretech.com             1.80  Hardware Battlefield 2014   \n",
       "\n",
       "            Result OperatingState  \n",
       "0       Contestant         Closed  \n",
       "1  Audience choice      Operating  \n",
       "2       Contestant       Acquired  \n",
       "3         Finalist      Operating  \n",
       "4       Contestant      Operating  "
      ]
     },
     "execution_count": 27,
     "metadata": {},
     "output_type": "execute_result"
    }
   ],
   "source": [
    "newdata.head()"
   ]
  },
  {
   "cell_type": "code",
   "execution_count": 30,
   "metadata": {
    "ExecuteTime": {
     "end_time": "2021-04-04T15:52:18.384546Z",
     "start_time": "2021-04-04T15:52:18.087988Z"
    }
   },
   "outputs": [
    {
     "data": {
      "image/png": "[encoded data removed]",
      "text/plain": [
       "<Figure size 432x288 with 1 Axes>"
      ]
     },
     "metadata": {
      "needs_background": "light"
     },
     "output_type": "display_data"
    }
   ],
   "source": [
    "sns.boxplot(y=newdata['Funding_Dollars'])   #box plot to show distributions with respect to Funding_Dollars\n",
    "plt.show()"
   ]
  },
  {
   "cell_type": "code",
   "execution_count": 31,
   "metadata": {
    "ExecuteTime": {
     "end_time": "2021-04-04T15:52:20.549110Z",
     "start_time": "2021-04-04T15:52:20.531854Z"
    }
   },
   "outputs": [
    {
     "data": {
      "text/plain": [
       "count     446.000000\n",
       "mean       17.241489\n",
       "std        90.483710\n",
       "min         0.005000\n",
       "25%         0.745250\n",
       "50%         2.200000\n",
       "75%         9.475000\n",
       "max      1700.000000\n",
       "Name: Funding_Dollars, dtype: float64"
      ]
     },
     "execution_count": 31,
     "metadata": {},
     "output_type": "execute_result"
    }
   ],
   "source": [
    "newdata['Funding_Dollars'].describe()  #this gives the 5 point summary of the data"
   ]
  },
  {
   "cell_type": "markdown",
   "metadata": {},
   "source": [
    " lower fence value is 0.005"
   ]
  },
  {
   "cell_type": "code",
   "execution_count": 32,
   "metadata": {
    "ExecuteTime": {
     "end_time": "2021-04-04T15:52:29.040817Z",
     "start_time": "2021-04-04T15:52:29.029598Z"
    }
   },
   "outputs": [],
   "source": [
    "upper_quartile = np.percentile(newdata['Funding_Dollars'], 75)\n",
    "lower_quartile = np.percentile(newdata['Funding_Dollars'], 25)\n",
    "\n",
    "iqr = upper_quartile - lower_quartile   #Inter-quartile range\n",
    "upper_Fence = newdata['Funding_Dollars'][newdata['Funding_Dollars']<=upper_quartile+1.5*iqr].max()\n",
    "lower_Fence = newdata['Funding_Dollars'][newdata['Funding_Dollars']>=lower_quartile-1.5*iqr].min()"
   ]
  },
  {
   "cell_type": "code",
   "execution_count": 35,
   "metadata": {
    "ExecuteTime": {
     "end_time": "2021-04-04T15:53:02.707811Z",
     "start_time": "2021-04-04T15:53:02.697683Z"
    }
   },
   "outputs": [
    {
     "data": {
      "text/plain": [
       "0.005"
      ]
     },
     "execution_count": 35,
     "metadata": {},
     "output_type": "execute_result"
    }
   ],
   "source": [
    "lower_Fence    #the lower fence from the box plot"
   ]
  },
  {
   "cell_type": "code",
   "execution_count": 36,
   "metadata": {
    "ExecuteTime": {
     "end_time": "2021-04-04T15:54:11.549100Z",
     "start_time": "2021-04-04T15:54:11.539946Z"
    }
   },
   "outputs": [
    {
     "name": "stdout",
     "output_type": "stream",
     "text": [
      "outliers in the dataset is [29.0, 24.0, 50.9, 40.0, 205.0, 32.5, 182.1, 35.4, 38.0, 37.1, 72.0, 64.0, 1700.0, 34.6, 35.5, 30.1, 26.0, 66.0, 28.3, 103.0, 25.9, 36.5, 44.7, 24.2, 122.4, 34.9, 67.8, 166.1, 42.1, 69.0, 65.1, 25.1, 31.8, 37.0, 38.5, 25.5, 24.0, 278.0, 24.0, 63.0, 25.0, 160.0, 40.0, 47.4, 24.5, 25.0, 332.4, 35.0, 168.8, 28.0, 30.8, 41.8, 142.0, 117.8, 26.0, 28.0, 62.1, 583.6, 223.0, 31.5]\n"
     ]
    }
   ],
   "source": [
    "outlier =[]                                   #finding outliers greater than upper fence\n",
    "for x in newdata['Funding_Dollars']:\n",
    "    if (x> upper_Fence) :\n",
    "        outlier.append(x)\n",
    "print('outliers in the dataset is',outlier)"
   ]
  },
  {
   "cell_type": "code",
   "execution_count": 37,
   "metadata": {
    "ExecuteTime": {
     "end_time": "2021-04-04T15:54:13.534394Z",
     "start_time": "2021-04-04T15:54:13.528567Z"
    }
   },
   "outputs": [
    {
     "name": "stdout",
     "output_type": "stream",
     "text": [
      "Number of outliers greater than upper fence is : 60\n"
     ]
    }
   ],
   "source": [
    "Count= len(outlier)\n",
    "print('Number of outliers greater than upper fence is :',Count)"
   ]
  },
  {
   "cell_type": "code",
   "execution_count": 38,
   "metadata": {
    "ExecuteTime": {
     "end_time": "2021-04-04T15:54:15.147200Z",
     "start_time": "2021-04-04T15:54:15.131147Z"
    }
   },
   "outputs": [],
   "source": [
    "newdata = newdata[(newdata[\"Funding_Dollars\"]<upper_Fence)] #Dropping the values that are greater than upper_fence"
   ]
  },
  {
   "cell_type": "code",
   "execution_count": 39,
   "metadata": {
    "ExecuteTime": {
     "end_time": "2021-04-04T15:54:16.375478Z",
     "start_time": "2021-04-04T15:54:16.211329Z"
    }
   },
   "outputs": [
    {
     "data": {
      "image/png": "[encoded data removed]",
      "text/plain": [
       "<Figure size 432x288 with 1 Axes>"
      ]
     },
     "metadata": {
      "needs_background": "light"
     },
     "output_type": "display_data"
    }
   ],
   "source": [
    "sns.boxplot(y=newdata['Funding_Dollars'])              #boxplot after removing the values greater than upper_fence\n",
    "plt.show()"
   ]
  },
  {
   "cell_type": "code",
   "execution_count": 40,
   "metadata": {
    "ExecuteTime": {
     "end_time": "2021-04-04T15:54:20.279713Z",
     "start_time": "2021-04-04T15:54:20.266902Z"
    }
   },
   "outputs": [
    {
     "data": {
      "text/plain": [
       "Operating    274\n",
       "Closed        56\n",
       "Acquired      55\n",
       "Name: OperatingState, dtype: int64"
      ]
     },
     "execution_count": 40,
     "metadata": {},
     "output_type": "execute_result"
    }
   ],
   "source": [
    "newdata[\"OperatingState\"].value_counts()             #frequency of the OperatingState features classes"
   ]
  },
  {
   "cell_type": "markdown",
   "metadata": {},
   "source": [
    "### Distribution plot for funds in million"
   ]
  },
  {
   "cell_type": "code",
   "execution_count": 41,
   "metadata": {
    "ExecuteTime": {
     "end_time": "2021-04-04T15:54:24.771204Z",
     "start_time": "2021-04-04T15:54:24.455034Z"
    }
   },
   "outputs": [
    {
     "name": "stderr",
     "output_type": "stream",
     "text": [
      "/opt/anaconda3/lib/python3.7/site-packages/seaborn/distributions.py:2551: FutureWarning: `distplot` is a deprecated function and will be removed in a future version. Please adapt your code to use either `displot` (a figure-level function with similar flexibility) or `kdeplot` (an axes-level function for kernel density plots).\n",
      "  warnings.warn(msg, FutureWarning)\n"
     ]
    },
    {
     "data": {
      "text/plain": [
       "<matplotlib.axes._subplots.AxesSubplot at 0x7f908c7e4e10>"
      ]
     },
     "execution_count": 41,
     "metadata": {},
     "output_type": "execute_result"
    },
    {
     "data": {
      "image/png": "[encoded data removed]",
      "text/plain": [
       "<Figure size 432x288 with 1 Axes>"
      ]
     },
     "metadata": {
      "needs_background": "light"
     },
     "output_type": "display_data"
    }
   ],
   "source": [
    "sns.distplot(x=newdata[\"Funding_Dollars\"],hist=False,kde=True) #Distribution plot for Funds in million"
   ]
  },
  {
   "cell_type": "markdown",
   "metadata": {},
   "source": [
    "### Distribution plots for companies still operating and companies that are closed"
   ]
  },
  {
   "cell_type": "code",
   "execution_count": 42,
   "metadata": {
    "ExecuteTime": {
     "end_time": "2021-04-04T15:54:28.787563Z",
     "start_time": "2021-04-04T15:54:28.374885Z"
    }
   },
   "outputs": [
    {
     "data": {
      "text/plain": [
       "<matplotlib.axes._subplots.AxesSubplot at 0x7f908c8c8b90>"
      ]
     },
     "execution_count": 42,
     "metadata": {},
     "output_type": "execute_result"
    },
    {
     "data": {
      "image/png": "[encoded data removed]",
      "text/plain": [
       "<Figure size 432x288 with 1 Axes>"
      ]
     },
     "metadata": {
      "needs_background": "light"
     },
     "output_type": "display_data"
    }
   ],
   "source": [
    "sns.histplot(data=newdata[newdata[\"OperatingState\"] != \"Acquired\"],x=newdata[\"Funding_Dollars\"], hue = \"OperatingState\")"
   ]
  },
  {
   "cell_type": "markdown",
   "metadata": {},
   "source": [
    "# Statistical analysis"
   ]
  },
  {
   "cell_type": "markdown",
   "metadata": {},
   "source": [
    "Null(H0): There is no significant difference between Funds raised by companies that are still operating vs companies that closed down\n",
    "\n",
    "Alternate(H1) : There is a significant difference between Funds raised by companies that are still operating vs companies that closed down\n",
    "\n",
    "Taking level of significance to be 5% ie alpha = 0.05 "
   ]
  },
  {
   "cell_type": "code",
   "execution_count": 25,
   "metadata": {
    "ExecuteTime": {
     "end_time": "2021-03-28T14:37:38.066807Z",
     "start_time": "2021-03-28T14:37:38.061009Z"
    }
   },
   "outputs": [],
   "source": [
    "from scipy.stats import ttest_ind"
   ]
  },
  {
   "cell_type": "code",
   "execution_count": 28,
   "metadata": {
    "ExecuteTime": {
     "end_time": "2021-03-28T14:40:44.775869Z",
     "start_time": "2021-03-28T14:40:44.762952Z"
    }
   },
   "outputs": [],
   "source": [
    "operating = np.array(newdata[\"Funding_Dollars\"][newdata[\"OperatingState\"] == \"Operating\"])\n",
    "closed    = np.array(newdata[\"Funding_Dollars\"][newdata[\"OperatingState\"] == \"Closed\"])"
   ]
  },
  {
   "cell_type": "code",
   "execution_count": 29,
   "metadata": {
    "ExecuteTime": {
     "end_time": "2021-03-28T14:40:51.057361Z",
     "start_time": "2021-03-28T14:40:51.048213Z"
    }
   },
   "outputs": [
    {
     "data": {
      "text/plain": [
       "3.450500729927007"
      ]
     },
     "execution_count": 29,
     "metadata": {},
     "output_type": "execute_result"
    }
   ],
   "source": [
    "operating.mean()"
   ]
  },
  {
   "cell_type": "code",
   "execution_count": 30,
   "metadata": {
    "ExecuteTime": {
     "end_time": "2021-03-28T14:41:01.704993Z",
     "start_time": "2021-03-28T14:41:01.696678Z"
    }
   },
   "outputs": [
    {
     "data": {
      "text/plain": [
       "2.6824232142857136"
      ]
     },
     "execution_count": 30,
     "metadata": {},
     "output_type": "execute_result"
    }
   ],
   "source": [
    "closed.mean()"
   ]
  },
  {
   "cell_type": "code",
   "execution_count": 32,
   "metadata": {
    "ExecuteTime": {
     "end_time": "2021-03-28T14:41:56.290138Z",
     "start_time": "2021-03-28T14:41:56.280252Z"
    }
   },
   "outputs": [
    {
     "name": "stdout",
     "output_type": "stream",
     "text": [
      "Ttest_indResult(statistic=1.2304853084704215, pvalue=0.2193971376638487)\n"
     ]
    }
   ],
   "source": [
    "pval = ttest_ind(operating,closed)\n",
    "print(pval)"
   ]
  },
  {
   "cell_type": "markdown",
   "metadata": {},
   "source": [
    "since P-value is very large or much greater than significance level, we fail to reject the null hypothesis"
   ]
  },
  {
   "cell_type": "code",
   "execution_count": 44,
   "metadata": {
    "ExecuteTime": {
     "end_time": "2021-04-04T16:04:43.729395Z",
     "start_time": "2021-04-04T16:04:43.722744Z"
    }
   },
   "outputs": [],
   "source": [
    "newdata_copy = newdata.copy() # making copy of original dataframe"
   ]
  },
  {
   "cell_type": "code",
   "execution_count": 37,
   "metadata": {
    "ExecuteTime": {
     "end_time": "2021-03-28T14:56:19.487085Z",
     "start_time": "2021-03-28T14:56:19.474783Z"
    }
   },
   "outputs": [
    {
     "data": {
      "text/plain": [
       "Contestant         282\n",
       "Finalist            52\n",
       "Audience choice     20\n",
       "Winner              17\n",
       "Runner up           14\n",
       "Name: Result, dtype: int64"
      ]
     },
     "execution_count": 37,
     "metadata": {},
     "output_type": "execute_result"
    }
   ],
   "source": [
    "newdata['Result'].value_counts()"
   ]
  },
  {
   "cell_type": "code",
   "execution_count": 47,
   "metadata": {
    "ExecuteTime": {
     "end_time": "2021-03-28T15:16:34.036801Z",
     "start_time": "2021-03-28T15:16:34.022102Z"
    }
   },
   "outputs": [],
   "source": [
    "Winners = (newdata['Result'] == 'Winner').sum()\n",
    "Contestants = (newdata['Result'] == 'Contestant').sum()"
   ]
  },
  {
   "cell_type": "code",
   "execution_count": 48,
   "metadata": {
    "ExecuteTime": {
     "end_time": "2021-03-28T15:16:34.952351Z",
     "start_time": "2021-03-28T15:16:34.927412Z"
    }
   },
   "outputs": [],
   "source": [
    "Winners_operating = ((newdata['Result']=='Winner') & (newdata['OperatingState']=='Operating')).sum()\n",
    "Contestants_operating = ((newdata['Result'] == 'Contestant') & (newdata['OperatingState'] == 'Operating')).sum()"
   ]
  },
  {
   "cell_type": "code",
   "execution_count": 49,
   "metadata": {
    "ExecuteTime": {
     "end_time": "2021-03-28T15:16:35.807136Z",
     "start_time": "2021-03-28T15:16:35.800889Z"
    }
   },
   "outputs": [
    {
     "name": "stdout",
     "output_type": "stream",
     "text": [
      "percentage of winners that are still operating is 70.59%\n"
     ]
    }
   ],
   "source": [
    "print('percentage of winners that are still operating is {:.2f}%'.format(100*Winners_operating/Winners))"
   ]
  },
  {
   "cell_type": "code",
   "execution_count": 52,
   "metadata": {
    "ExecuteTime": {
     "end_time": "2021-03-28T15:17:17.922518Z",
     "start_time": "2021-03-28T15:17:17.916708Z"
    }
   },
   "outputs": [
    {
     "name": "stdout",
     "output_type": "stream",
     "text": [
      "percentage of contestants that are still operating is 68.79%\n"
     ]
    }
   ],
   "source": [
    "print('percentage of contestants that are still operating is {:.2f}%'.format(100*Contestants_operating/Contestants))"
   ]
  },
  {
   "cell_type": "code",
   "execution_count": 55,
   "metadata": {
    "ExecuteTime": {
     "end_time": "2021-03-28T15:22:47.567601Z",
     "start_time": "2021-03-28T15:22:47.556593Z"
    }
   },
   "outputs": [
    {
     "data": {
      "text/plain": [
       "TC50 2008                    25\n",
       "TC40 2007                    22\n",
       "Disrupt NY 2015              21\n",
       "Disrupt NYC 2012             19\n",
       "Disrupt SF 2014              19\n",
       "Disrupt SF 2015              19\n",
       "Disrupt SF 2013              19\n",
       "TC50 2009                    19\n",
       "Disrupt SF 2011              19\n",
       "Disrupt NYC 2013             18\n",
       "Disrupt SF 2016              17\n",
       "Disrupt NY 2016              16\n",
       "Disrupt SF 2012              15\n",
       "Disrupt NYC 2011             15\n",
       "Disrupt NYC 2014             15\n",
       "Disrupt SF 2010              13\n",
       "Hardware Battlefield 2014    12\n",
       "Hardware Battlefield 2016    12\n",
       "Disrupt London 2015          11\n",
       "Hardware Battlefield 2015    10\n",
       "Disrupt London 2016          10\n",
       "Disrupt EU 2014              10\n",
       "Disrupt NYC 2010             10\n",
       "Disrupt EU 2013               9\n",
       "-                             6\n",
       "Disrupt Beijing 2011          4\n",
       "Name: Event, dtype: int64"
      ]
     },
     "execution_count": 55,
     "metadata": {},
     "output_type": "execute_result"
    }
   ],
   "source": [
    "newdata_copy[\"Event\"].value_counts()"
   ]
  },
  {
   "cell_type": "code",
   "execution_count": 62,
   "metadata": {
    "ExecuteTime": {
     "end_time": "2021-03-28T15:33:23.659007Z",
     "start_time": "2021-03-28T15:33:22.675111Z"
    }
   },
   "outputs": [
    {
     "data": {
      "image/png": "[encoded data removed]",
      "text/plain": [
       "<Figure size 864x576 with 1 Axes>"
      ]
     },
     "metadata": {
      "needs_background": "light"
     },
     "output_type": "display_data"
    }
   ],
   "source": [
    "plt.figure(figsize=(12,8))\n",
    "ax=sns.countplot(y=newdata[\"Event\"])"
   ]
  },
  {
   "cell_type": "code",
   "execution_count": 55,
   "metadata": {
    "ExecuteTime": {
     "end_time": "2021-04-04T16:30:15.315472Z",
     "start_time": "2021-04-04T16:30:15.294801Z"
    }
   },
   "outputs": [
    {
     "name": "stdout",
     "output_type": "stream",
     "text": [
      "        Startup         Product  Funding_Dollars                Event  \\\n",
      "0          3DLT        3dlt.com            0.630     Disrupt NYC 2013   \n",
      "1    3Dprintler  3dprintler.com            1.000      Disrupt NY 2016   \n",
      "6      Agrilyst    agrilyst.com            1.000      Disrupt SF 2015   \n",
      "7         Aiden        aiden.ai            0.750  Disrupt London 2016   \n",
      "9       Aircall      aircall.io           11.600      Disrupt SF 2015   \n",
      "..          ...             ...              ...                  ...   \n",
      "427   Welltwigs   welltwigs.com            0.050      Disrupt NY 2015   \n",
      "430    Workspot    workspot.com           15.800     Disrupt NYC 2013   \n",
      "431       Xendo       xendo.com            0.028      Disrupt SF 2014   \n",
      "435  YayPay Inc      yaypay.com            0.900  Disrupt London 2015   \n",
      "444        Zula     zulaapp.com            3.400      Disrupt SF 2013   \n",
      "\n",
      "              Result OperatingState  \n",
      "0         Contestant         Closed  \n",
      "1    Audience choice      Operating  \n",
      "6             Winner      Operating  \n",
      "7         Contestant      Operating  \n",
      "9         Contestant      Operating  \n",
      "..               ...            ...  \n",
      "427       Contestant      Operating  \n",
      "430       Contestant      Operating  \n",
      "431       Contestant       Acquired  \n",
      "435       Contestant      Operating  \n",
      "444  Audience choice      Operating  \n",
      "\n",
      "[279 rows x 6 columns]\n"
     ]
    }
   ],
   "source": [
    "contained_Disrupt = newdata_copy[newdata_copy['Event'].str.contains('Disrupt',regex =True)]\n",
    "print(contained_Disrupt)"
   ]
  },
  {
   "cell_type": "code",
   "execution_count": 68,
   "metadata": {
    "ExecuteTime": {
     "end_time": "2021-04-04T17:05:06.929490Z",
     "start_time": "2021-04-04T17:05:06.921239Z"
    }
   },
   "outputs": [],
   "source": [
    "def filtered(event):         #Selecting only the Event that has disrupt keyword from 2013 onwards.\n",
    "    return int(event[-4:])>=2013\n",
    "FilteredEvents = contained_Disrupt['Event'][contained_Disrupt['Event'].apply(filtered)]"
   ]
  },
  {
   "cell_type": "code",
   "execution_count": 99,
   "metadata": {
    "ExecuteTime": {
     "end_time": "2021-04-04T17:23:25.247511Z",
     "start_time": "2021-04-04T17:23:25.236846Z"
    }
   },
   "outputs": [
    {
     "data": {
      "text/plain": [
       "0         Disrupt NYC 2013\n",
       "1          Disrupt NY 2016\n",
       "6          Disrupt SF 2015\n",
       "7      Disrupt London 2016\n",
       "9          Disrupt SF 2015\n",
       "              ...         \n",
       "427        Disrupt NY 2015\n",
       "430       Disrupt NYC 2013\n",
       "431        Disrupt SF 2014\n",
       "435    Disrupt London 2015\n",
       "444        Disrupt SF 2013\n",
       "Name: Event, Length: 184, dtype: object"
      ]
     },
     "execution_count": 99,
     "metadata": {},
     "output_type": "execute_result"
    }
   ],
   "source": [
    "FilteredEvents"
   ]
  },
  {
   "cell_type": "code",
   "execution_count": 100,
   "metadata": {
    "ExecuteTime": {
     "end_time": "2021-04-04T17:23:28.358733Z",
     "start_time": "2021-04-04T17:23:28.350092Z"
    }
   },
   "outputs": [],
   "source": [
    "newdata_copy['three_cities'] = newdata_copy['Event'].str.replace('\\d+','') #removing year from event \n"
   ]
  },
  {
   "cell_type": "code",
   "execution_count": 98,
   "metadata": {
    "ExecuteTime": {
     "end_time": "2021-04-04T17:23:22.179020Z",
     "start_time": "2021-04-04T17:23:22.159500Z"
    }
   },
   "outputs": [],
   "source": [
    "three_cities_data = newdata_copy[(newdata_copy['three_cities'] == 'Disrupt NY')|(newdata_copy['three_cities'] == \"Disrupt SF\")|(newdata_copy[\"three_cities\"] == \"Disrupt EU\")]"
   ]
  },
  {
   "cell_type": "code",
   "execution_count": null,
   "metadata": {},
   "outputs": [],
   "source": []
  }
 ],
 "metadata": {
  "kernelspec": {
   "display_name": "Python 3",
   "language": "python",
   "name": "python3"
  },
  "language_info": {
   "codemirror_mode": {
    "name": "ipython",
    "version": 3
   },
   "file_extension": ".py",
   "mimetype": "text/x-python",
   "name": "python",
   "nbconvert_exporter": "python",
   "pygments_lexer": "ipython3",
   "version": "3.7.4"
  }
 },
 "nbformat": 4,
 "nbformat_minor": 2
}
