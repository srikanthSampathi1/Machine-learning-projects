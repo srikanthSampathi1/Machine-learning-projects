{
 "cells": [
  {
   "cell_type": "markdown",
   "metadata": {},
   "source": [
    "# Ensemble Techniques Project"
   ]
  },
  {
   "cell_type": "markdown",
   "metadata": {},
   "source": [
    "## 0. Importing required libraries:\n"
   ]
  },
  {
   "cell_type": "markdown",
   "metadata": {},
   "source": [
    "#### Necessary libraries for EDA"
   ]
  },
  {
   "cell_type": "code",
   "execution_count": 1,
   "metadata": {
    "ExecuteTime": {
     "end_time": "2021-05-30T11:33:15.756005Z",
     "start_time": "2021-05-30T11:33:13.135214Z"
    }
   },
   "outputs": [],
   "source": [
    "import pandas as pd\n",
    "import numpy as np\n",
    "import matplotlib.pyplot as plt\n",
    "import seaborn as sns\n",
    "%matplotlib inline\n",
    "\n",
    "import warnings\n",
    "warnings.filterwarnings('ignore')"
   ]
  },
  {
   "cell_type": "markdown",
   "metadata": {},
   "source": [
    "#### Necessary libaries for Machine Learning"
   ]
  },
  {
   "cell_type": "code",
   "execution_count": 2,
   "metadata": {
    "ExecuteTime": {
     "end_time": "2021-05-30T11:33:17.283550Z",
     "start_time": "2021-05-30T11:33:15.759463Z"
    }
   },
   "outputs": [],
   "source": [
    "from sklearn.preprocessing import LabelEncoder\n",
    "from sklearn.model_selection import train_test_split\n",
    "from sklearn.metrics import precision_recall_fscore_support, mean_absolute_error\n",
    "from sklearn.metrics import accuracy_score, confusion_matrix, classification_report\n",
    "from sklearn.preprocessing import StandardScaler\n",
    "# Machine learning Models\n",
    "from sklearn.naive_bayes import GaussianNB\n",
    "from sklearn.linear_model import LogisticRegression\n",
    "from sklearn.neighbors import KNeighborsClassifier\n",
    "from sklearn.tree import DecisionTreeClassifier\n",
    "from sklearn.ensemble import BaggingClassifier, AdaBoostClassifier, GradientBoostingClassifier, RandomForestClassifier\n",
    "import xgboost.sklearn as xgb\n",
    "from xgboost import XGBClassifier\n",
    "from sklearn.metrics import make_scorer\n",
    "from datacleaner import autoclean"
   ]
  },
  {
   "cell_type": "markdown",
   "metadata": {},
   "source": [
    "## 1. Import and warehouse data:"
   ]
  },
  {
   "cell_type": "markdown",
   "metadata": {},
   "source": [
    "####  Read the data as a data frame\n"
   ]
  },
  {
   "cell_type": "code",
   "execution_count": 3,
   "metadata": {
    "ExecuteTime": {
     "end_time": "2021-05-30T11:33:17.379035Z",
     "start_time": "2021-05-30T11:33:17.291454Z"
    }
   },
   "outputs": [
    {
     "data": {
      "text/html": [
       "<div>\n",
       "<style scoped>\n",
       "    .dataframe tbody tr th:only-of-type {\n",
       "        vertical-align: middle;\n",
       "    }\n",
       "\n",
       "    .dataframe tbody tr th {\n",
       "        vertical-align: top;\n",
       "    }\n",
       "\n",
       "    .dataframe thead th {\n",
       "        text-align: right;\n",
       "    }\n",
       "</style>\n",
       "<table border=\"1\" class=\"dataframe\">\n",
       "  <thead>\n",
       "    <tr style=\"text-align: right;\">\n",
       "      <th></th>\n",
       "      <th>0</th>\n",
       "      <th>1</th>\n",
       "      <th>2</th>\n",
       "      <th>3</th>\n",
       "      <th>4</th>\n",
       "      <th>5</th>\n",
       "      <th>6</th>\n",
       "    </tr>\n",
       "  </thead>\n",
       "  <tbody>\n",
       "    <tr>\n",
       "      <td>customerID</td>\n",
       "      <td>7590-VHVEG</td>\n",
       "      <td>5575-GNVDE</td>\n",
       "      <td>3668-QPYBK</td>\n",
       "      <td>7795-CFOCW</td>\n",
       "      <td>9237-HQITU</td>\n",
       "      <td>9305-CDSKC</td>\n",
       "      <td>1452-KIOVK</td>\n",
       "    </tr>\n",
       "    <tr>\n",
       "      <td>gender</td>\n",
       "      <td>Female</td>\n",
       "      <td>Male</td>\n",
       "      <td>Male</td>\n",
       "      <td>Male</td>\n",
       "      <td>Female</td>\n",
       "      <td>Female</td>\n",
       "      <td>Male</td>\n",
       "    </tr>\n",
       "    <tr>\n",
       "      <td>SeniorCitizen</td>\n",
       "      <td>0</td>\n",
       "      <td>0</td>\n",
       "      <td>0</td>\n",
       "      <td>0</td>\n",
       "      <td>0</td>\n",
       "      <td>0</td>\n",
       "      <td>0</td>\n",
       "    </tr>\n",
       "    <tr>\n",
       "      <td>Partner</td>\n",
       "      <td>Yes</td>\n",
       "      <td>No</td>\n",
       "      <td>No</td>\n",
       "      <td>No</td>\n",
       "      <td>No</td>\n",
       "      <td>No</td>\n",
       "      <td>No</td>\n",
       "    </tr>\n",
       "    <tr>\n",
       "      <td>Dependents</td>\n",
       "      <td>No</td>\n",
       "      <td>No</td>\n",
       "      <td>No</td>\n",
       "      <td>No</td>\n",
       "      <td>No</td>\n",
       "      <td>No</td>\n",
       "      <td>Yes</td>\n",
       "    </tr>\n",
       "    <tr>\n",
       "      <td>tenure</td>\n",
       "      <td>1</td>\n",
       "      <td>34</td>\n",
       "      <td>2</td>\n",
       "      <td>45</td>\n",
       "      <td>2</td>\n",
       "      <td>8</td>\n",
       "      <td>22</td>\n",
       "    </tr>\n",
       "    <tr>\n",
       "      <td>PhoneService</td>\n",
       "      <td>No</td>\n",
       "      <td>Yes</td>\n",
       "      <td>Yes</td>\n",
       "      <td>No</td>\n",
       "      <td>Yes</td>\n",
       "      <td>Yes</td>\n",
       "      <td>Yes</td>\n",
       "    </tr>\n",
       "    <tr>\n",
       "      <td>MultipleLines</td>\n",
       "      <td>No phone service</td>\n",
       "      <td>No</td>\n",
       "      <td>No</td>\n",
       "      <td>No phone service</td>\n",
       "      <td>No</td>\n",
       "      <td>Yes</td>\n",
       "      <td>Yes</td>\n",
       "    </tr>\n",
       "    <tr>\n",
       "      <td>InternetService</td>\n",
       "      <td>DSL</td>\n",
       "      <td>DSL</td>\n",
       "      <td>DSL</td>\n",
       "      <td>DSL</td>\n",
       "      <td>Fiber optic</td>\n",
       "      <td>Fiber optic</td>\n",
       "      <td>Fiber optic</td>\n",
       "    </tr>\n",
       "    <tr>\n",
       "      <td>OnlineSecurity</td>\n",
       "      <td>No</td>\n",
       "      <td>Yes</td>\n",
       "      <td>Yes</td>\n",
       "      <td>Yes</td>\n",
       "      <td>No</td>\n",
       "      <td>No</td>\n",
       "      <td>No</td>\n",
       "    </tr>\n",
       "    <tr>\n",
       "      <td>OnlineBackup</td>\n",
       "      <td>Yes</td>\n",
       "      <td>No</td>\n",
       "      <td>Yes</td>\n",
       "      <td>No</td>\n",
       "      <td>No</td>\n",
       "      <td>No</td>\n",
       "      <td>Yes</td>\n",
       "    </tr>\n",
       "    <tr>\n",
       "      <td>DeviceProtection</td>\n",
       "      <td>No</td>\n",
       "      <td>Yes</td>\n",
       "      <td>No</td>\n",
       "      <td>Yes</td>\n",
       "      <td>No</td>\n",
       "      <td>Yes</td>\n",
       "      <td>No</td>\n",
       "    </tr>\n",
       "    <tr>\n",
       "      <td>TechSupport</td>\n",
       "      <td>No</td>\n",
       "      <td>No</td>\n",
       "      <td>No</td>\n",
       "      <td>Yes</td>\n",
       "      <td>No</td>\n",
       "      <td>No</td>\n",
       "      <td>No</td>\n",
       "    </tr>\n",
       "    <tr>\n",
       "      <td>StreamingTV</td>\n",
       "      <td>No</td>\n",
       "      <td>No</td>\n",
       "      <td>No</td>\n",
       "      <td>No</td>\n",
       "      <td>No</td>\n",
       "      <td>Yes</td>\n",
       "      <td>Yes</td>\n",
       "    </tr>\n",
       "    <tr>\n",
       "      <td>StreamingMovies</td>\n",
       "      <td>No</td>\n",
       "      <td>No</td>\n",
       "      <td>No</td>\n",
       "      <td>No</td>\n",
       "      <td>No</td>\n",
       "      <td>Yes</td>\n",
       "      <td>No</td>\n",
       "    </tr>\n",
       "    <tr>\n",
       "      <td>Contract</td>\n",
       "      <td>Month-to-month</td>\n",
       "      <td>One year</td>\n",
       "      <td>Month-to-month</td>\n",
       "      <td>One year</td>\n",
       "      <td>Month-to-month</td>\n",
       "      <td>Month-to-month</td>\n",
       "      <td>Month-to-month</td>\n",
       "    </tr>\n",
       "    <tr>\n",
       "      <td>PaperlessBilling</td>\n",
       "      <td>Yes</td>\n",
       "      <td>No</td>\n",
       "      <td>Yes</td>\n",
       "      <td>No</td>\n",
       "      <td>Yes</td>\n",
       "      <td>Yes</td>\n",
       "      <td>Yes</td>\n",
       "    </tr>\n",
       "    <tr>\n",
       "      <td>PaymentMethod</td>\n",
       "      <td>Electronic check</td>\n",
       "      <td>Mailed check</td>\n",
       "      <td>Mailed check</td>\n",
       "      <td>Bank transfer (automatic)</td>\n",
       "      <td>Electronic check</td>\n",
       "      <td>Electronic check</td>\n",
       "      <td>Credit card (automatic)</td>\n",
       "    </tr>\n",
       "    <tr>\n",
       "      <td>MonthlyCharges</td>\n",
       "      <td>29.85</td>\n",
       "      <td>56.95</td>\n",
       "      <td>53.85</td>\n",
       "      <td>42.3</td>\n",
       "      <td>70.7</td>\n",
       "      <td>99.65</td>\n",
       "      <td>89.1</td>\n",
       "    </tr>\n",
       "    <tr>\n",
       "      <td>TotalCharges</td>\n",
       "      <td>29.85</td>\n",
       "      <td>1889.5</td>\n",
       "      <td>108.15</td>\n",
       "      <td>1840.75</td>\n",
       "      <td>151.65</td>\n",
       "      <td>820.5</td>\n",
       "      <td>1949.4</td>\n",
       "    </tr>\n",
       "    <tr>\n",
       "      <td>Churn</td>\n",
       "      <td>No</td>\n",
       "      <td>No</td>\n",
       "      <td>Yes</td>\n",
       "      <td>No</td>\n",
       "      <td>Yes</td>\n",
       "      <td>Yes</td>\n",
       "      <td>No</td>\n",
       "    </tr>\n",
       "  </tbody>\n",
       "</table>\n",
       "</div>"
      ],
      "text/plain": [
       "                                 0             1               2  \\\n",
       "customerID              7590-VHVEG    5575-GNVDE      3668-QPYBK   \n",
       "gender                      Female          Male            Male   \n",
       "SeniorCitizen                    0             0               0   \n",
       "Partner                        Yes            No              No   \n",
       "Dependents                      No            No              No   \n",
       "tenure                           1            34               2   \n",
       "PhoneService                    No           Yes             Yes   \n",
       "MultipleLines     No phone service            No              No   \n",
       "InternetService                DSL           DSL             DSL   \n",
       "OnlineSecurity                  No           Yes             Yes   \n",
       "OnlineBackup                   Yes            No             Yes   \n",
       "DeviceProtection                No           Yes              No   \n",
       "TechSupport                     No            No              No   \n",
       "StreamingTV                     No            No              No   \n",
       "StreamingMovies                 No            No              No   \n",
       "Contract            Month-to-month      One year  Month-to-month   \n",
       "PaperlessBilling               Yes            No             Yes   \n",
       "PaymentMethod     Electronic check  Mailed check    Mailed check   \n",
       "MonthlyCharges               29.85         56.95           53.85   \n",
       "TotalCharges                 29.85        1889.5          108.15   \n",
       "Churn                           No            No             Yes   \n",
       "\n",
       "                                          3                 4  \\\n",
       "customerID                       7795-CFOCW        9237-HQITU   \n",
       "gender                                 Male            Female   \n",
       "SeniorCitizen                             0                 0   \n",
       "Partner                                  No                No   \n",
       "Dependents                               No                No   \n",
       "tenure                                   45                 2   \n",
       "PhoneService                             No               Yes   \n",
       "MultipleLines              No phone service                No   \n",
       "InternetService                         DSL       Fiber optic   \n",
       "OnlineSecurity                          Yes                No   \n",
       "OnlineBackup                             No                No   \n",
       "DeviceProtection                        Yes                No   \n",
       "TechSupport                             Yes                No   \n",
       "StreamingTV                              No                No   \n",
       "StreamingMovies                          No                No   \n",
       "Contract                           One year    Month-to-month   \n",
       "PaperlessBilling                         No               Yes   \n",
       "PaymentMethod     Bank transfer (automatic)  Electronic check   \n",
       "MonthlyCharges                         42.3              70.7   \n",
       "TotalCharges                        1840.75            151.65   \n",
       "Churn                                    No               Yes   \n",
       "\n",
       "                                 5                        6  \n",
       "customerID              9305-CDSKC               1452-KIOVK  \n",
       "gender                      Female                     Male  \n",
       "SeniorCitizen                    0                        0  \n",
       "Partner                         No                       No  \n",
       "Dependents                      No                      Yes  \n",
       "tenure                           8                       22  \n",
       "PhoneService                   Yes                      Yes  \n",
       "MultipleLines                  Yes                      Yes  \n",
       "InternetService        Fiber optic              Fiber optic  \n",
       "OnlineSecurity                  No                       No  \n",
       "OnlineBackup                    No                      Yes  \n",
       "DeviceProtection               Yes                       No  \n",
       "TechSupport                     No                       No  \n",
       "StreamingTV                    Yes                      Yes  \n",
       "StreamingMovies                Yes                       No  \n",
       "Contract            Month-to-month           Month-to-month  \n",
       "PaperlessBilling               Yes                      Yes  \n",
       "PaymentMethod     Electronic check  Credit card (automatic)  \n",
       "MonthlyCharges               99.65                     89.1  \n",
       "TotalCharges                 820.5                   1949.4  \n",
       "Churn                          Yes                       No  "
      ]
     },
     "execution_count": 3,
     "metadata": {},
     "output_type": "execute_result"
    }
   ],
   "source": [
    "df = pd.read_csv('TelcomCustomer-Churn.csv')\n",
    "df.head(7).T"
   ]
  },
  {
   "cell_type": "markdown",
   "metadata": {},
   "source": [
    "### Inference:\n",
    "* The customerID have unique identifiers for each customer which does not contribute for the analysis, therefore the column can be dropped."
   ]
  },
  {
   "cell_type": "code",
   "execution_count": 4,
   "metadata": {
    "ExecuteTime": {
     "end_time": "2021-05-30T11:33:17.395524Z",
     "start_time": "2021-05-30T11:33:17.383896Z"
    }
   },
   "outputs": [
    {
     "name": "stdout",
     "output_type": "stream",
     "text": [
      "The Size of dataframe is : 147903 and the Shape is : (7043, 21)\n"
     ]
    }
   ],
   "source": [
    "print(\"The Size of dataframe is :\",df.size,\"and the Shape is :\",df.shape) #get size and shape of the dataset"
   ]
  },
  {
   "cell_type": "markdown",
   "metadata": {},
   "source": [
    "### Inference:\n",
    "* The **telecom_Customer** dataset has a total of 7043 rows and 20 features and 1 target variable: **Chrun**"
   ]
  },
  {
   "cell_type": "code",
   "execution_count": 5,
   "metadata": {
    "ExecuteTime": {
     "end_time": "2021-05-30T11:33:17.515309Z",
     "start_time": "2021-05-30T11:33:17.399532Z"
    }
   },
   "outputs": [
    {
     "name": "stdout",
     "output_type": "stream",
     "text": [
      "<class 'pandas.core.frame.DataFrame'>\n",
      "RangeIndex: 7043 entries, 0 to 7042\n",
      "Data columns (total 21 columns):\n",
      "customerID          7043 non-null object\n",
      "gender              7043 non-null object\n",
      "SeniorCitizen       7043 non-null int64\n",
      "Partner             7043 non-null object\n",
      "Dependents          7043 non-null object\n",
      "tenure              7043 non-null int64\n",
      "PhoneService        7043 non-null object\n",
      "MultipleLines       7043 non-null object\n",
      "InternetService     7043 non-null object\n",
      "OnlineSecurity      7043 non-null object\n",
      "OnlineBackup        7043 non-null object\n",
      "DeviceProtection    7043 non-null object\n",
      "TechSupport         7043 non-null object\n",
      "StreamingTV         7043 non-null object\n",
      "StreamingMovies     7043 non-null object\n",
      "Contract            7043 non-null object\n",
      "PaperlessBilling    7043 non-null object\n",
      "PaymentMethod       7043 non-null object\n",
      "MonthlyCharges      7043 non-null float64\n",
      "TotalCharges        7043 non-null object\n",
      "Churn               7043 non-null object\n",
      "dtypes: float64(1), int64(2), object(18)\n",
      "memory usage: 1.1+ MB\n"
     ]
    }
   ],
   "source": [
    "df.info()                                #Gives datatypes of the features and target variables"
   ]
  },
  {
   "cell_type": "markdown",
   "metadata": {},
   "source": [
    "### Inference:\n",
    "* TotalCharges is observed as **object** datatype instead of **float64**.\n",
    "* Majority of the features are to be converted to **category** dtype for analysis."
   ]
  },
  {
   "cell_type": "markdown",
   "metadata": {},
   "source": [
    "## 2. Data cleaning:"
   ]
  },
  {
   "cell_type": "code",
   "execution_count": 6,
   "metadata": {
    "ExecuteTime": {
     "end_time": "2021-05-30T11:33:17.541921Z",
     "start_time": "2021-05-30T11:33:17.520300Z"
    }
   },
   "outputs": [],
   "source": [
    "df.TotalCharges = pd.to_numeric(df.TotalCharges, errors='coerce')#Convert argument to a numeric type"
   ]
  },
  {
   "cell_type": "code",
   "execution_count": 7,
   "metadata": {
    "ExecuteTime": {
     "end_time": "2021-05-30T11:33:17.571944Z",
     "start_time": "2021-05-30T11:33:17.547688Z"
    }
   },
   "outputs": [
    {
     "name": "stdout",
     "output_type": "stream",
     "text": [
      "Null values:\n",
      " customerID           0\n",
      "gender               0\n",
      "SeniorCitizen        0\n",
      "Partner              0\n",
      "Dependents           0\n",
      "tenure               0\n",
      "PhoneService         0\n",
      "MultipleLines        0\n",
      "InternetService      0\n",
      "OnlineSecurity       0\n",
      "OnlineBackup         0\n",
      "DeviceProtection     0\n",
      "TechSupport          0\n",
      "StreamingTV          0\n",
      "StreamingMovies      0\n",
      "Contract             0\n",
      "PaperlessBilling     0\n",
      "PaymentMethod        0\n",
      "MonthlyCharges       0\n",
      "TotalCharges        11\n",
      "Churn                0\n",
      "dtype: int64\n"
     ]
    }
   ],
   "source": [
    "print('Null values:\\n',df.isnull().sum())                       #finds the null values in the dataset"
   ]
  },
  {
   "cell_type": "markdown",
   "metadata": {},
   "source": [
    "### Inference:\n",
    "* Null values are observed in **TotalCharges** variable."
   ]
  },
  {
   "cell_type": "code",
   "execution_count": 8,
   "metadata": {
    "ExecuteTime": {
     "end_time": "2021-05-30T11:33:17.634315Z",
     "start_time": "2021-05-30T11:33:17.579105Z"
    }
   },
   "outputs": [
    {
     "data": {
      "text/html": [
       "<div>\n",
       "<style scoped>\n",
       "    .dataframe tbody tr th:only-of-type {\n",
       "        vertical-align: middle;\n",
       "    }\n",
       "\n",
       "    .dataframe tbody tr th {\n",
       "        vertical-align: top;\n",
       "    }\n",
       "\n",
       "    .dataframe thead th {\n",
       "        text-align: right;\n",
       "    }\n",
       "</style>\n",
       "<table border=\"1\" class=\"dataframe\">\n",
       "  <thead>\n",
       "    <tr style=\"text-align: right;\">\n",
       "      <th></th>\n",
       "      <th>customerID</th>\n",
       "      <th>gender</th>\n",
       "      <th>SeniorCitizen</th>\n",
       "      <th>Partner</th>\n",
       "      <th>Dependents</th>\n",
       "      <th>tenure</th>\n",
       "      <th>PhoneService</th>\n",
       "      <th>MultipleLines</th>\n",
       "      <th>InternetService</th>\n",
       "      <th>OnlineSecurity</th>\n",
       "      <th>...</th>\n",
       "      <th>DeviceProtection</th>\n",
       "      <th>TechSupport</th>\n",
       "      <th>StreamingTV</th>\n",
       "      <th>StreamingMovies</th>\n",
       "      <th>Contract</th>\n",
       "      <th>PaperlessBilling</th>\n",
       "      <th>PaymentMethod</th>\n",
       "      <th>MonthlyCharges</th>\n",
       "      <th>TotalCharges</th>\n",
       "      <th>Churn</th>\n",
       "    </tr>\n",
       "  </thead>\n",
       "  <tbody>\n",
       "    <tr>\n",
       "      <td>488</td>\n",
       "      <td>4472-LVYGI</td>\n",
       "      <td>Female</td>\n",
       "      <td>0</td>\n",
       "      <td>Yes</td>\n",
       "      <td>Yes</td>\n",
       "      <td>0</td>\n",
       "      <td>No</td>\n",
       "      <td>No phone service</td>\n",
       "      <td>DSL</td>\n",
       "      <td>Yes</td>\n",
       "      <td>...</td>\n",
       "      <td>Yes</td>\n",
       "      <td>Yes</td>\n",
       "      <td>Yes</td>\n",
       "      <td>No</td>\n",
       "      <td>Two year</td>\n",
       "      <td>Yes</td>\n",
       "      <td>Bank transfer (automatic)</td>\n",
       "      <td>52.55</td>\n",
       "      <td>NaN</td>\n",
       "      <td>No</td>\n",
       "    </tr>\n",
       "    <tr>\n",
       "      <td>753</td>\n",
       "      <td>3115-CZMZD</td>\n",
       "      <td>Male</td>\n",
       "      <td>0</td>\n",
       "      <td>No</td>\n",
       "      <td>Yes</td>\n",
       "      <td>0</td>\n",
       "      <td>Yes</td>\n",
       "      <td>No</td>\n",
       "      <td>No</td>\n",
       "      <td>No internet service</td>\n",
       "      <td>...</td>\n",
       "      <td>No internet service</td>\n",
       "      <td>No internet service</td>\n",
       "      <td>No internet service</td>\n",
       "      <td>No internet service</td>\n",
       "      <td>Two year</td>\n",
       "      <td>No</td>\n",
       "      <td>Mailed check</td>\n",
       "      <td>20.25</td>\n",
       "      <td>NaN</td>\n",
       "      <td>No</td>\n",
       "    </tr>\n",
       "    <tr>\n",
       "      <td>936</td>\n",
       "      <td>5709-LVOEQ</td>\n",
       "      <td>Female</td>\n",
       "      <td>0</td>\n",
       "      <td>Yes</td>\n",
       "      <td>Yes</td>\n",
       "      <td>0</td>\n",
       "      <td>Yes</td>\n",
       "      <td>No</td>\n",
       "      <td>DSL</td>\n",
       "      <td>Yes</td>\n",
       "      <td>...</td>\n",
       "      <td>Yes</td>\n",
       "      <td>No</td>\n",
       "      <td>Yes</td>\n",
       "      <td>Yes</td>\n",
       "      <td>Two year</td>\n",
       "      <td>No</td>\n",
       "      <td>Mailed check</td>\n",
       "      <td>80.85</td>\n",
       "      <td>NaN</td>\n",
       "      <td>No</td>\n",
       "    </tr>\n",
       "    <tr>\n",
       "      <td>1082</td>\n",
       "      <td>4367-NUYAO</td>\n",
       "      <td>Male</td>\n",
       "      <td>0</td>\n",
       "      <td>Yes</td>\n",
       "      <td>Yes</td>\n",
       "      <td>0</td>\n",
       "      <td>Yes</td>\n",
       "      <td>Yes</td>\n",
       "      <td>No</td>\n",
       "      <td>No internet service</td>\n",
       "      <td>...</td>\n",
       "      <td>No internet service</td>\n",
       "      <td>No internet service</td>\n",
       "      <td>No internet service</td>\n",
       "      <td>No internet service</td>\n",
       "      <td>Two year</td>\n",
       "      <td>No</td>\n",
       "      <td>Mailed check</td>\n",
       "      <td>25.75</td>\n",
       "      <td>NaN</td>\n",
       "      <td>No</td>\n",
       "    </tr>\n",
       "    <tr>\n",
       "      <td>1340</td>\n",
       "      <td>1371-DWPAZ</td>\n",
       "      <td>Female</td>\n",
       "      <td>0</td>\n",
       "      <td>Yes</td>\n",
       "      <td>Yes</td>\n",
       "      <td>0</td>\n",
       "      <td>No</td>\n",
       "      <td>No phone service</td>\n",
       "      <td>DSL</td>\n",
       "      <td>Yes</td>\n",
       "      <td>...</td>\n",
       "      <td>Yes</td>\n",
       "      <td>Yes</td>\n",
       "      <td>Yes</td>\n",
       "      <td>No</td>\n",
       "      <td>Two year</td>\n",
       "      <td>No</td>\n",
       "      <td>Credit card (automatic)</td>\n",
       "      <td>56.05</td>\n",
       "      <td>NaN</td>\n",
       "      <td>No</td>\n",
       "    </tr>\n",
       "    <tr>\n",
       "      <td>3331</td>\n",
       "      <td>7644-OMVMY</td>\n",
       "      <td>Male</td>\n",
       "      <td>0</td>\n",
       "      <td>Yes</td>\n",
       "      <td>Yes</td>\n",
       "      <td>0</td>\n",
       "      <td>Yes</td>\n",
       "      <td>No</td>\n",
       "      <td>No</td>\n",
       "      <td>No internet service</td>\n",
       "      <td>...</td>\n",
       "      <td>No internet service</td>\n",
       "      <td>No internet service</td>\n",
       "      <td>No internet service</td>\n",
       "      <td>No internet service</td>\n",
       "      <td>Two year</td>\n",
       "      <td>No</td>\n",
       "      <td>Mailed check</td>\n",
       "      <td>19.85</td>\n",
       "      <td>NaN</td>\n",
       "      <td>No</td>\n",
       "    </tr>\n",
       "    <tr>\n",
       "      <td>3826</td>\n",
       "      <td>3213-VVOLG</td>\n",
       "      <td>Male</td>\n",
       "      <td>0</td>\n",
       "      <td>Yes</td>\n",
       "      <td>Yes</td>\n",
       "      <td>0</td>\n",
       "      <td>Yes</td>\n",
       "      <td>Yes</td>\n",
       "      <td>No</td>\n",
       "      <td>No internet service</td>\n",
       "      <td>...</td>\n",
       "      <td>No internet service</td>\n",
       "      <td>No internet service</td>\n",
       "      <td>No internet service</td>\n",
       "      <td>No internet service</td>\n",
       "      <td>Two year</td>\n",
       "      <td>No</td>\n",
       "      <td>Mailed check</td>\n",
       "      <td>25.35</td>\n",
       "      <td>NaN</td>\n",
       "      <td>No</td>\n",
       "    </tr>\n",
       "    <tr>\n",
       "      <td>4380</td>\n",
       "      <td>2520-SGTTA</td>\n",
       "      <td>Female</td>\n",
       "      <td>0</td>\n",
       "      <td>Yes</td>\n",
       "      <td>Yes</td>\n",
       "      <td>0</td>\n",
       "      <td>Yes</td>\n",
       "      <td>No</td>\n",
       "      <td>No</td>\n",
       "      <td>No internet service</td>\n",
       "      <td>...</td>\n",
       "      <td>No internet service</td>\n",
       "      <td>No internet service</td>\n",
       "      <td>No internet service</td>\n",
       "      <td>No internet service</td>\n",
       "      <td>Two year</td>\n",
       "      <td>No</td>\n",
       "      <td>Mailed check</td>\n",
       "      <td>20.00</td>\n",
       "      <td>NaN</td>\n",
       "      <td>No</td>\n",
       "    </tr>\n",
       "    <tr>\n",
       "      <td>5218</td>\n",
       "      <td>2923-ARZLG</td>\n",
       "      <td>Male</td>\n",
       "      <td>0</td>\n",
       "      <td>Yes</td>\n",
       "      <td>Yes</td>\n",
       "      <td>0</td>\n",
       "      <td>Yes</td>\n",
       "      <td>No</td>\n",
       "      <td>No</td>\n",
       "      <td>No internet service</td>\n",
       "      <td>...</td>\n",
       "      <td>No internet service</td>\n",
       "      <td>No internet service</td>\n",
       "      <td>No internet service</td>\n",
       "      <td>No internet service</td>\n",
       "      <td>One year</td>\n",
       "      <td>Yes</td>\n",
       "      <td>Mailed check</td>\n",
       "      <td>19.70</td>\n",
       "      <td>NaN</td>\n",
       "      <td>No</td>\n",
       "    </tr>\n",
       "    <tr>\n",
       "      <td>6670</td>\n",
       "      <td>4075-WKNIU</td>\n",
       "      <td>Female</td>\n",
       "      <td>0</td>\n",
       "      <td>Yes</td>\n",
       "      <td>Yes</td>\n",
       "      <td>0</td>\n",
       "      <td>Yes</td>\n",
       "      <td>Yes</td>\n",
       "      <td>DSL</td>\n",
       "      <td>No</td>\n",
       "      <td>...</td>\n",
       "      <td>Yes</td>\n",
       "      <td>Yes</td>\n",
       "      <td>Yes</td>\n",
       "      <td>No</td>\n",
       "      <td>Two year</td>\n",
       "      <td>No</td>\n",
       "      <td>Mailed check</td>\n",
       "      <td>73.35</td>\n",
       "      <td>NaN</td>\n",
       "      <td>No</td>\n",
       "    </tr>\n",
       "    <tr>\n",
       "      <td>6754</td>\n",
       "      <td>2775-SEFEE</td>\n",
       "      <td>Male</td>\n",
       "      <td>0</td>\n",
       "      <td>No</td>\n",
       "      <td>Yes</td>\n",
       "      <td>0</td>\n",
       "      <td>Yes</td>\n",
       "      <td>Yes</td>\n",
       "      <td>DSL</td>\n",
       "      <td>Yes</td>\n",
       "      <td>...</td>\n",
       "      <td>No</td>\n",
       "      <td>Yes</td>\n",
       "      <td>No</td>\n",
       "      <td>No</td>\n",
       "      <td>Two year</td>\n",
       "      <td>Yes</td>\n",
       "      <td>Bank transfer (automatic)</td>\n",
       "      <td>61.90</td>\n",
       "      <td>NaN</td>\n",
       "      <td>No</td>\n",
       "    </tr>\n",
       "  </tbody>\n",
       "</table>\n",
       "<p>11 rows × 21 columns</p>\n",
       "</div>"
      ],
      "text/plain": [
       "      customerID  gender  SeniorCitizen Partner Dependents  tenure  \\\n",
       "488   4472-LVYGI  Female              0     Yes        Yes       0   \n",
       "753   3115-CZMZD    Male              0      No        Yes       0   \n",
       "936   5709-LVOEQ  Female              0     Yes        Yes       0   \n",
       "1082  4367-NUYAO    Male              0     Yes        Yes       0   \n",
       "1340  1371-DWPAZ  Female              0     Yes        Yes       0   \n",
       "3331  7644-OMVMY    Male              0     Yes        Yes       0   \n",
       "3826  3213-VVOLG    Male              0     Yes        Yes       0   \n",
       "4380  2520-SGTTA  Female              0     Yes        Yes       0   \n",
       "5218  2923-ARZLG    Male              0     Yes        Yes       0   \n",
       "6670  4075-WKNIU  Female              0     Yes        Yes       0   \n",
       "6754  2775-SEFEE    Male              0      No        Yes       0   \n",
       "\n",
       "     PhoneService     MultipleLines InternetService       OnlineSecurity  ...  \\\n",
       "488            No  No phone service             DSL                  Yes  ...   \n",
       "753           Yes                No              No  No internet service  ...   \n",
       "936           Yes                No             DSL                  Yes  ...   \n",
       "1082          Yes               Yes              No  No internet service  ...   \n",
       "1340           No  No phone service             DSL                  Yes  ...   \n",
       "3331          Yes                No              No  No internet service  ...   \n",
       "3826          Yes               Yes              No  No internet service  ...   \n",
       "4380          Yes                No              No  No internet service  ...   \n",
       "5218          Yes                No              No  No internet service  ...   \n",
       "6670          Yes               Yes             DSL                   No  ...   \n",
       "6754          Yes               Yes             DSL                  Yes  ...   \n",
       "\n",
       "         DeviceProtection          TechSupport          StreamingTV  \\\n",
       "488                   Yes                  Yes                  Yes   \n",
       "753   No internet service  No internet service  No internet service   \n",
       "936                   Yes                   No                  Yes   \n",
       "1082  No internet service  No internet service  No internet service   \n",
       "1340                  Yes                  Yes                  Yes   \n",
       "3331  No internet service  No internet service  No internet service   \n",
       "3826  No internet service  No internet service  No internet service   \n",
       "4380  No internet service  No internet service  No internet service   \n",
       "5218  No internet service  No internet service  No internet service   \n",
       "6670                  Yes                  Yes                  Yes   \n",
       "6754                   No                  Yes                   No   \n",
       "\n",
       "          StreamingMovies  Contract PaperlessBilling  \\\n",
       "488                    No  Two year              Yes   \n",
       "753   No internet service  Two year               No   \n",
       "936                   Yes  Two year               No   \n",
       "1082  No internet service  Two year               No   \n",
       "1340                   No  Two year               No   \n",
       "3331  No internet service  Two year               No   \n",
       "3826  No internet service  Two year               No   \n",
       "4380  No internet service  Two year               No   \n",
       "5218  No internet service  One year              Yes   \n",
       "6670                   No  Two year               No   \n",
       "6754                   No  Two year              Yes   \n",
       "\n",
       "                  PaymentMethod MonthlyCharges  TotalCharges  Churn  \n",
       "488   Bank transfer (automatic)          52.55           NaN     No  \n",
       "753                Mailed check          20.25           NaN     No  \n",
       "936                Mailed check          80.85           NaN     No  \n",
       "1082               Mailed check          25.75           NaN     No  \n",
       "1340    Credit card (automatic)          56.05           NaN     No  \n",
       "3331               Mailed check          19.85           NaN     No  \n",
       "3826               Mailed check          25.35           NaN     No  \n",
       "4380               Mailed check          20.00           NaN     No  \n",
       "5218               Mailed check          19.70           NaN     No  \n",
       "6670               Mailed check          73.35           NaN     No  \n",
       "6754  Bank transfer (automatic)          61.90           NaN     No  \n",
       "\n",
       "[11 rows x 21 columns]"
      ]
     },
     "execution_count": 8,
     "metadata": {},
     "output_type": "execute_result"
    }
   ],
   "source": [
    "df[df.TotalCharges.isnull()]"
   ]
  },
  {
   "cell_type": "markdown",
   "metadata": {},
   "source": [
    "### Inference:\n",
    "* Null values are observed in **TotalCharges** but upon observation the customer has a **tenure** value 0 for all the NaN values in TotalCharges, Hence the total charges should be **Zero**."
   ]
  },
  {
   "cell_type": "code",
   "execution_count": 9,
   "metadata": {
    "ExecuteTime": {
     "end_time": "2021-05-30T11:33:18.044939Z",
     "start_time": "2021-05-30T11:33:17.640892Z"
    }
   },
   "outputs": [
    {
     "data": {
      "image/png": "[encoded data removed]",
      "text/plain": [
       "<Figure size 432x288 with 1 Axes>"
      ]
     },
     "metadata": {
      "needs_background": "light"
     },
     "output_type": "display_data"
    }
   ],
   "source": [
    "df.loc[df.TotalCharges.isnull(), 'TotalCharges'] = 0\n",
    "sns.distplot(df.TotalCharges)\n",
    "plt.show();"
   ]
  },
  {
   "cell_type": "markdown",
   "metadata": {},
   "source": [
    "### Inference:\n",
    "* Positive skewness is observed,Median is lesser than the mean."
   ]
  },
  {
   "cell_type": "code",
   "execution_count": 10,
   "metadata": {
    "ExecuteTime": {
     "end_time": "2021-05-30T11:33:18.108846Z",
     "start_time": "2021-05-30T11:33:18.050013Z"
    }
   },
   "outputs": [
    {
     "name": "stdout",
     "output_type": "stream",
     "text": [
      "Yes    6361\n",
      "No      682\n",
      "Name: PhoneService, dtype: int64\n",
      "No                  3390\n",
      "Yes                 2971\n",
      "No phone service     682\n",
      "Name: MultipleLines, dtype: int64\n",
      "Fiber optic    3096\n",
      "DSL            2421\n",
      "No             1526\n",
      "Name: InternetService, dtype: int64\n",
      "No                     3498\n",
      "Yes                    2019\n",
      "No internet service    1526\n",
      "Name: OnlineSecurity, dtype: int64\n",
      "No                     3088\n",
      "Yes                    2429\n",
      "No internet service    1526\n",
      "Name: OnlineBackup, dtype: int64\n",
      "No                     3095\n",
      "Yes                    2422\n",
      "No internet service    1526\n",
      "Name: DeviceProtection, dtype: int64\n",
      "No                     3473\n",
      "Yes                    2044\n",
      "No internet service    1526\n",
      "Name: TechSupport, dtype: int64\n",
      "No                     2810\n",
      "Yes                    2707\n",
      "No internet service    1526\n",
      "Name: StreamingTV, dtype: int64\n",
      "No                     2785\n",
      "Yes                    2732\n",
      "No internet service    1526\n",
      "Name: StreamingMovies, dtype: int64\n"
     ]
    }
   ],
   "source": [
    "print(df.PhoneService.value_counts())\n",
    "print(df.MultipleLines.value_counts())\n",
    "print(df.InternetService.value_counts())\n",
    "print(df.OnlineSecurity.value_counts())\n",
    "print(df.OnlineBackup.value_counts())\n",
    "print(df.DeviceProtection.value_counts())\n",
    "print(df.TechSupport.value_counts())\n",
    "print(df.StreamingTV.value_counts())\n",
    "print(df.StreamingMovies.value_counts())"
   ]
  },
  {
   "cell_type": "code",
   "execution_count": 11,
   "metadata": {
    "ExecuteTime": {
     "end_time": "2021-05-30T11:33:18.178657Z",
     "start_time": "2021-05-30T11:33:18.115420Z"
    }
   },
   "outputs": [
    {
     "data": {
      "text/html": [
       "<div>\n",
       "<style scoped>\n",
       "    .dataframe tbody tr th:only-of-type {\n",
       "        vertical-align: middle;\n",
       "    }\n",
       "\n",
       "    .dataframe tbody tr th {\n",
       "        vertical-align: top;\n",
       "    }\n",
       "\n",
       "    .dataframe thead th {\n",
       "        text-align: right;\n",
       "    }\n",
       "</style>\n",
       "<table border=\"1\" class=\"dataframe\">\n",
       "  <thead>\n",
       "    <tr style=\"text-align: right;\">\n",
       "      <th>MultipleLines</th>\n",
       "      <th>No</th>\n",
       "      <th>No phone service</th>\n",
       "      <th>Yes</th>\n",
       "    </tr>\n",
       "    <tr>\n",
       "      <th>PhoneService</th>\n",
       "      <th></th>\n",
       "      <th></th>\n",
       "      <th></th>\n",
       "    </tr>\n",
       "  </thead>\n",
       "  <tbody>\n",
       "    <tr>\n",
       "      <td>No</td>\n",
       "      <td>0</td>\n",
       "      <td>682</td>\n",
       "      <td>0</td>\n",
       "    </tr>\n",
       "    <tr>\n",
       "      <td>Yes</td>\n",
       "      <td>3390</td>\n",
       "      <td>0</td>\n",
       "      <td>2971</td>\n",
       "    </tr>\n",
       "  </tbody>\n",
       "</table>\n",
       "</div>"
      ],
      "text/plain": [
       "MultipleLines    No  No phone service   Yes\n",
       "PhoneService                               \n",
       "No                0               682     0\n",
       "Yes            3390                 0  2971"
      ]
     },
     "execution_count": 11,
     "metadata": {},
     "output_type": "execute_result"
    }
   ],
   "source": [
    "pd.crosstab(index = df[\"PhoneService\"], columns = df[\"MultipleLines\"])"
   ]
  },
  {
   "cell_type": "code",
   "execution_count": 12,
   "metadata": {
    "ExecuteTime": {
     "end_time": "2021-05-30T11:33:18.258109Z",
     "start_time": "2021-05-30T11:33:18.200118Z"
    }
   },
   "outputs": [
    {
     "data": {
      "text/html": [
       "<div>\n",
       "<style scoped>\n",
       "    .dataframe tbody tr th:only-of-type {\n",
       "        vertical-align: middle;\n",
       "    }\n",
       "\n",
       "    .dataframe tbody tr th {\n",
       "        vertical-align: top;\n",
       "    }\n",
       "\n",
       "    .dataframe thead th {\n",
       "        text-align: right;\n",
       "    }\n",
       "</style>\n",
       "<table border=\"1\" class=\"dataframe\">\n",
       "  <thead>\n",
       "    <tr style=\"text-align: right;\">\n",
       "      <th>StreamingMovies</th>\n",
       "      <th>No</th>\n",
       "      <th>No internet service</th>\n",
       "      <th>Yes</th>\n",
       "    </tr>\n",
       "    <tr>\n",
       "      <th>InternetService</th>\n",
       "      <th></th>\n",
       "      <th></th>\n",
       "      <th></th>\n",
       "    </tr>\n",
       "  </thead>\n",
       "  <tbody>\n",
       "    <tr>\n",
       "      <td>DSL</td>\n",
       "      <td>1440</td>\n",
       "      <td>0</td>\n",
       "      <td>981</td>\n",
       "    </tr>\n",
       "    <tr>\n",
       "      <td>Fiber optic</td>\n",
       "      <td>1345</td>\n",
       "      <td>0</td>\n",
       "      <td>1751</td>\n",
       "    </tr>\n",
       "    <tr>\n",
       "      <td>No</td>\n",
       "      <td>0</td>\n",
       "      <td>1526</td>\n",
       "      <td>0</td>\n",
       "    </tr>\n",
       "  </tbody>\n",
       "</table>\n",
       "</div>"
      ],
      "text/plain": [
       "StreamingMovies    No  No internet service   Yes\n",
       "InternetService                                 \n",
       "DSL              1440                    0   981\n",
       "Fiber optic      1345                    0  1751\n",
       "No                  0                 1526     0"
      ]
     },
     "execution_count": 12,
     "metadata": {},
     "output_type": "execute_result"
    }
   ],
   "source": [
    "pd.crosstab(index = df[\"InternetService\"], columns = df[\"StreamingMovies\"])"
   ]
  },
  {
   "cell_type": "code",
   "execution_count": 13,
   "metadata": {
    "ExecuteTime": {
     "end_time": "2021-05-30T11:33:18.285017Z",
     "start_time": "2021-05-30T11:33:18.269037Z"
    }
   },
   "outputs": [],
   "source": [
    "def convert_no_service (df):\n",
    "    col_to_transform = []\n",
    "    for col in df.columns:\n",
    "        if (df[col].dtype == \"O\") & (col != 'customerid'):\n",
    "            if len(df[df[col].str.contains(\"No\")][col].unique()) > 1:\n",
    "                col_to_transform.append(col)\n",
    "    \n",
    "    print(\"Total column(s) to transform: {}\".format(col_to_transform))\n",
    "    for col in col_to_transform:\n",
    "        df.loc[df[col].str.contains(\"No\"), col] = 'No'\n",
    "        \n",
    "    return df"
   ]
  },
  {
   "cell_type": "code",
   "execution_count": 14,
   "metadata": {
    "ExecuteTime": {
     "end_time": "2021-05-30T11:33:18.510316Z",
     "start_time": "2021-05-30T11:33:18.292944Z"
    }
   },
   "outputs": [
    {
     "name": "stdout",
     "output_type": "stream",
     "text": [
      "Total column(s) to transform: ['MultipleLines', 'OnlineSecurity', 'OnlineBackup', 'DeviceProtection', 'TechSupport', 'StreamingTV', 'StreamingMovies']\n"
     ]
    }
   ],
   "source": [
    "df = convert_no_service(df)"
   ]
  },
  {
   "cell_type": "code",
   "execution_count": 17,
   "metadata": {
    "ExecuteTime": {
     "end_time": "2021-05-30T11:33:18.567575Z",
     "start_time": "2021-05-30T11:33:18.538251Z"
    }
   },
   "outputs": [
    {
     "data": {
      "text/plain": [
       "1    3555\n",
       "0    3488\n",
       "Name: gender, dtype: int64"
      ]
     },
     "metadata": {},
     "output_type": "display_data"
    }
   ],
   "source": [
    "df.gender = df.gender.map(dict(Male=1, Female=0))\n",
    "display(df.gender.value_counts())"
   ]
  },
  {
   "cell_type": "code",
   "execution_count": 18,
   "metadata": {
    "ExecuteTime": {
     "end_time": "2021-05-30T11:33:18.589395Z",
     "start_time": "2021-05-30T11:33:18.573207Z"
    }
   },
   "outputs": [],
   "source": [
    "def encode_yes_no (df, columns_to_encode):\n",
    "    for col in columns_to_encode:\n",
    "        df[col] = df[col].map(dict(Yes = 1, No = 0))\n",
    "        \n",
    "    return df"
   ]
  },
  {
   "cell_type": "code",
   "execution_count": 19,
   "metadata": {
    "ExecuteTime": {
     "end_time": "2021-05-30T11:33:18.676715Z",
     "start_time": "2021-05-30T11:33:18.595203Z"
    }
   },
   "outputs": [
    {
     "name": "stdout",
     "output_type": "stream",
     "text": [
      "Encode Columns Yes/No: ['Partner', 'Dependents', 'PhoneService', 'MultipleLines', 'OnlineSecurity', 'OnlineBackup', 'DeviceProtection', 'TechSupport', 'StreamingTV', 'StreamingMovies', 'PaperlessBilling', 'Churn']\n"
     ]
    }
   ],
   "source": [
    "encode_columns = []\n",
    "for col in df.columns:\n",
    "    keep = np.sort(df[col].unique(), axis = None)\n",
    "    \n",
    "    if (\"Yes\" in keep) & (\"No\" in keep):\n",
    "        encode_columns.append(col)\n",
    "\n",
    "del keep\n",
    "print(\"Encode Columns Yes/No: {}\".format(encode_columns))"
   ]
  },
  {
   "cell_type": "code",
   "execution_count": 20,
   "metadata": {
    "ExecuteTime": {
     "end_time": "2021-05-30T11:33:18.789259Z",
     "start_time": "2021-05-30T11:33:18.685794Z"
    },
    "scrolled": true
   },
   "outputs": [
    {
     "data": {
      "text/html": [
       "<div>\n",
       "<style scoped>\n",
       "    .dataframe tbody tr th:only-of-type {\n",
       "        vertical-align: middle;\n",
       "    }\n",
       "\n",
       "    .dataframe tbody tr th {\n",
       "        vertical-align: top;\n",
       "    }\n",
       "\n",
       "    .dataframe thead th {\n",
       "        text-align: right;\n",
       "    }\n",
       "</style>\n",
       "<table border=\"1\" class=\"dataframe\">\n",
       "  <thead>\n",
       "    <tr style=\"text-align: right;\">\n",
       "      <th></th>\n",
       "      <th>customerID</th>\n",
       "      <th>gender</th>\n",
       "      <th>SeniorCitizen</th>\n",
       "      <th>Partner</th>\n",
       "      <th>Dependents</th>\n",
       "      <th>tenure</th>\n",
       "      <th>PhoneService</th>\n",
       "      <th>MultipleLines</th>\n",
       "      <th>InternetService</th>\n",
       "      <th>OnlineSecurity</th>\n",
       "      <th>...</th>\n",
       "      <th>DeviceProtection</th>\n",
       "      <th>TechSupport</th>\n",
       "      <th>StreamingTV</th>\n",
       "      <th>StreamingMovies</th>\n",
       "      <th>Contract</th>\n",
       "      <th>PaperlessBilling</th>\n",
       "      <th>PaymentMethod</th>\n",
       "      <th>MonthlyCharges</th>\n",
       "      <th>TotalCharges</th>\n",
       "      <th>Churn</th>\n",
       "    </tr>\n",
       "  </thead>\n",
       "  <tbody>\n",
       "    <tr>\n",
       "      <td>0</td>\n",
       "      <td>7590-VHVEG</td>\n",
       "      <td>0</td>\n",
       "      <td>0</td>\n",
       "      <td>1</td>\n",
       "      <td>0</td>\n",
       "      <td>1</td>\n",
       "      <td>0</td>\n",
       "      <td>0</td>\n",
       "      <td>DSL</td>\n",
       "      <td>0</td>\n",
       "      <td>...</td>\n",
       "      <td>0</td>\n",
       "      <td>0</td>\n",
       "      <td>0</td>\n",
       "      <td>0</td>\n",
       "      <td>Month-to-month</td>\n",
       "      <td>1</td>\n",
       "      <td>Electronic check</td>\n",
       "      <td>29.85</td>\n",
       "      <td>29.85</td>\n",
       "      <td>0</td>\n",
       "    </tr>\n",
       "    <tr>\n",
       "      <td>1</td>\n",
       "      <td>5575-GNVDE</td>\n",
       "      <td>1</td>\n",
       "      <td>0</td>\n",
       "      <td>0</td>\n",
       "      <td>0</td>\n",
       "      <td>34</td>\n",
       "      <td>1</td>\n",
       "      <td>0</td>\n",
       "      <td>DSL</td>\n",
       "      <td>1</td>\n",
       "      <td>...</td>\n",
       "      <td>1</td>\n",
       "      <td>0</td>\n",
       "      <td>0</td>\n",
       "      <td>0</td>\n",
       "      <td>One year</td>\n",
       "      <td>0</td>\n",
       "      <td>Mailed check</td>\n",
       "      <td>56.95</td>\n",
       "      <td>1889.50</td>\n",
       "      <td>0</td>\n",
       "    </tr>\n",
       "    <tr>\n",
       "      <td>2</td>\n",
       "      <td>3668-QPYBK</td>\n",
       "      <td>1</td>\n",
       "      <td>0</td>\n",
       "      <td>0</td>\n",
       "      <td>0</td>\n",
       "      <td>2</td>\n",
       "      <td>1</td>\n",
       "      <td>0</td>\n",
       "      <td>DSL</td>\n",
       "      <td>1</td>\n",
       "      <td>...</td>\n",
       "      <td>0</td>\n",
       "      <td>0</td>\n",
       "      <td>0</td>\n",
       "      <td>0</td>\n",
       "      <td>Month-to-month</td>\n",
       "      <td>1</td>\n",
       "      <td>Mailed check</td>\n",
       "      <td>53.85</td>\n",
       "      <td>108.15</td>\n",
       "      <td>1</td>\n",
       "    </tr>\n",
       "    <tr>\n",
       "      <td>3</td>\n",
       "      <td>7795-CFOCW</td>\n",
       "      <td>1</td>\n",
       "      <td>0</td>\n",
       "      <td>0</td>\n",
       "      <td>0</td>\n",
       "      <td>45</td>\n",
       "      <td>0</td>\n",
       "      <td>0</td>\n",
       "      <td>DSL</td>\n",
       "      <td>1</td>\n",
       "      <td>...</td>\n",
       "      <td>1</td>\n",
       "      <td>1</td>\n",
       "      <td>0</td>\n",
       "      <td>0</td>\n",
       "      <td>One year</td>\n",
       "      <td>0</td>\n",
       "      <td>Bank transfer (automatic)</td>\n",
       "      <td>42.30</td>\n",
       "      <td>1840.75</td>\n",
       "      <td>0</td>\n",
       "    </tr>\n",
       "    <tr>\n",
       "      <td>4</td>\n",
       "      <td>9237-HQITU</td>\n",
       "      <td>0</td>\n",
       "      <td>0</td>\n",
       "      <td>0</td>\n",
       "      <td>0</td>\n",
       "      <td>2</td>\n",
       "      <td>1</td>\n",
       "      <td>0</td>\n",
       "      <td>Fiber optic</td>\n",
       "      <td>0</td>\n",
       "      <td>...</td>\n",
       "      <td>0</td>\n",
       "      <td>0</td>\n",
       "      <td>0</td>\n",
       "      <td>0</td>\n",
       "      <td>Month-to-month</td>\n",
       "      <td>1</td>\n",
       "      <td>Electronic check</td>\n",
       "      <td>70.70</td>\n",
       "      <td>151.65</td>\n",
       "      <td>1</td>\n",
       "    </tr>\n",
       "  </tbody>\n",
       "</table>\n",
       "<p>5 rows × 21 columns</p>\n",
       "</div>"
      ],
      "text/plain": [
       "   customerID  gender  SeniorCitizen  Partner  Dependents  tenure  \\\n",
       "0  7590-VHVEG       0              0        1           0       1   \n",
       "1  5575-GNVDE       1              0        0           0      34   \n",
       "2  3668-QPYBK       1              0        0           0       2   \n",
       "3  7795-CFOCW       1              0        0           0      45   \n",
       "4  9237-HQITU       0              0        0           0       2   \n",
       "\n",
       "   PhoneService  MultipleLines InternetService  OnlineSecurity  ...  \\\n",
       "0             0              0             DSL               0  ...   \n",
       "1             1              0             DSL               1  ...   \n",
       "2             1              0             DSL               1  ...   \n",
       "3             0              0             DSL               1  ...   \n",
       "4             1              0     Fiber optic               0  ...   \n",
       "\n",
       "   DeviceProtection  TechSupport  StreamingTV  StreamingMovies  \\\n",
       "0                 0            0            0                0   \n",
       "1                 1            0            0                0   \n",
       "2                 0            0            0                0   \n",
       "3                 1            1            0                0   \n",
       "4                 0            0            0                0   \n",
       "\n",
       "         Contract PaperlessBilling              PaymentMethod MonthlyCharges  \\\n",
       "0  Month-to-month                1           Electronic check          29.85   \n",
       "1        One year                0               Mailed check          56.95   \n",
       "2  Month-to-month                1               Mailed check          53.85   \n",
       "3        One year                0  Bank transfer (automatic)          42.30   \n",
       "4  Month-to-month                1           Electronic check          70.70   \n",
       "\n",
       "   TotalCharges  Churn  \n",
       "0         29.85      0  \n",
       "1       1889.50      0  \n",
       "2        108.15      1  \n",
       "3       1840.75      0  \n",
       "4        151.65      1  \n",
       "\n",
       "[5 rows x 21 columns]"
      ]
     },
     "execution_count": 20,
     "metadata": {},
     "output_type": "execute_result"
    }
   ],
   "source": [
    "df = encode_yes_no(df,encode_columns)\n",
    "df.head(5)"
   ]
  },
  {
   "cell_type": "markdown",
   "metadata": {},
   "source": [
    "## 3. Data analysis & visualisation:\n"
   ]
  },
  {
   "cell_type": "code",
   "execution_count": 21,
   "metadata": {
    "ExecuteTime": {
     "end_time": "2021-05-30T11:33:18.903854Z",
     "start_time": "2021-05-30T11:33:18.796536Z"
    }
   },
   "outputs": [
    {
     "data": {
      "text/html": [
       "<div>\n",
       "<style scoped>\n",
       "    .dataframe tbody tr th:only-of-type {\n",
       "        vertical-align: middle;\n",
       "    }\n",
       "\n",
       "    .dataframe tbody tr th {\n",
       "        vertical-align: top;\n",
       "    }\n",
       "\n",
       "    .dataframe thead th {\n",
       "        text-align: right;\n",
       "    }\n",
       "</style>\n",
       "<table border=\"1\" class=\"dataframe\">\n",
       "  <thead>\n",
       "    <tr style=\"text-align: right;\">\n",
       "      <th></th>\n",
       "      <th>count</th>\n",
       "      <th>mean</th>\n",
       "      <th>std</th>\n",
       "      <th>min</th>\n",
       "      <th>25%</th>\n",
       "      <th>50%</th>\n",
       "      <th>75%</th>\n",
       "      <th>max</th>\n",
       "    </tr>\n",
       "  </thead>\n",
       "  <tbody>\n",
       "    <tr>\n",
       "      <td>gender</td>\n",
       "      <td>7043.0</td>\n",
       "      <td>0.504756</td>\n",
       "      <td>0.500013</td>\n",
       "      <td>0.00</td>\n",
       "      <td>0.00</td>\n",
       "      <td>1.00</td>\n",
       "      <td>1.00</td>\n",
       "      <td>1.00</td>\n",
       "    </tr>\n",
       "    <tr>\n",
       "      <td>SeniorCitizen</td>\n",
       "      <td>7043.0</td>\n",
       "      <td>0.162147</td>\n",
       "      <td>0.368612</td>\n",
       "      <td>0.00</td>\n",
       "      <td>0.00</td>\n",
       "      <td>0.00</td>\n",
       "      <td>0.00</td>\n",
       "      <td>1.00</td>\n",
       "    </tr>\n",
       "    <tr>\n",
       "      <td>Partner</td>\n",
       "      <td>7043.0</td>\n",
       "      <td>0.483033</td>\n",
       "      <td>0.499748</td>\n",
       "      <td>0.00</td>\n",
       "      <td>0.00</td>\n",
       "      <td>0.00</td>\n",
       "      <td>1.00</td>\n",
       "      <td>1.00</td>\n",
       "    </tr>\n",
       "    <tr>\n",
       "      <td>Dependents</td>\n",
       "      <td>7043.0</td>\n",
       "      <td>0.299588</td>\n",
       "      <td>0.458110</td>\n",
       "      <td>0.00</td>\n",
       "      <td>0.00</td>\n",
       "      <td>0.00</td>\n",
       "      <td>1.00</td>\n",
       "      <td>1.00</td>\n",
       "    </tr>\n",
       "    <tr>\n",
       "      <td>tenure</td>\n",
       "      <td>7043.0</td>\n",
       "      <td>32.371149</td>\n",
       "      <td>24.559481</td>\n",
       "      <td>0.00</td>\n",
       "      <td>9.00</td>\n",
       "      <td>29.00</td>\n",
       "      <td>55.00</td>\n",
       "      <td>72.00</td>\n",
       "    </tr>\n",
       "    <tr>\n",
       "      <td>PhoneService</td>\n",
       "      <td>7043.0</td>\n",
       "      <td>0.903166</td>\n",
       "      <td>0.295752</td>\n",
       "      <td>0.00</td>\n",
       "      <td>1.00</td>\n",
       "      <td>1.00</td>\n",
       "      <td>1.00</td>\n",
       "      <td>1.00</td>\n",
       "    </tr>\n",
       "    <tr>\n",
       "      <td>MultipleLines</td>\n",
       "      <td>7043.0</td>\n",
       "      <td>0.421837</td>\n",
       "      <td>0.493888</td>\n",
       "      <td>0.00</td>\n",
       "      <td>0.00</td>\n",
       "      <td>0.00</td>\n",
       "      <td>1.00</td>\n",
       "      <td>1.00</td>\n",
       "    </tr>\n",
       "    <tr>\n",
       "      <td>OnlineSecurity</td>\n",
       "      <td>7043.0</td>\n",
       "      <td>0.286668</td>\n",
       "      <td>0.452237</td>\n",
       "      <td>0.00</td>\n",
       "      <td>0.00</td>\n",
       "      <td>0.00</td>\n",
       "      <td>1.00</td>\n",
       "      <td>1.00</td>\n",
       "    </tr>\n",
       "    <tr>\n",
       "      <td>OnlineBackup</td>\n",
       "      <td>7043.0</td>\n",
       "      <td>0.344881</td>\n",
       "      <td>0.475363</td>\n",
       "      <td>0.00</td>\n",
       "      <td>0.00</td>\n",
       "      <td>0.00</td>\n",
       "      <td>1.00</td>\n",
       "      <td>1.00</td>\n",
       "    </tr>\n",
       "    <tr>\n",
       "      <td>DeviceProtection</td>\n",
       "      <td>7043.0</td>\n",
       "      <td>0.343888</td>\n",
       "      <td>0.475038</td>\n",
       "      <td>0.00</td>\n",
       "      <td>0.00</td>\n",
       "      <td>0.00</td>\n",
       "      <td>1.00</td>\n",
       "      <td>1.00</td>\n",
       "    </tr>\n",
       "    <tr>\n",
       "      <td>TechSupport</td>\n",
       "      <td>7043.0</td>\n",
       "      <td>0.290217</td>\n",
       "      <td>0.453895</td>\n",
       "      <td>0.00</td>\n",
       "      <td>0.00</td>\n",
       "      <td>0.00</td>\n",
       "      <td>1.00</td>\n",
       "      <td>1.00</td>\n",
       "    </tr>\n",
       "    <tr>\n",
       "      <td>StreamingTV</td>\n",
       "      <td>7043.0</td>\n",
       "      <td>0.384353</td>\n",
       "      <td>0.486477</td>\n",
       "      <td>0.00</td>\n",
       "      <td>0.00</td>\n",
       "      <td>0.00</td>\n",
       "      <td>1.00</td>\n",
       "      <td>1.00</td>\n",
       "    </tr>\n",
       "    <tr>\n",
       "      <td>StreamingMovies</td>\n",
       "      <td>7043.0</td>\n",
       "      <td>0.387903</td>\n",
       "      <td>0.487307</td>\n",
       "      <td>0.00</td>\n",
       "      <td>0.00</td>\n",
       "      <td>0.00</td>\n",
       "      <td>1.00</td>\n",
       "      <td>1.00</td>\n",
       "    </tr>\n",
       "    <tr>\n",
       "      <td>PaperlessBilling</td>\n",
       "      <td>7043.0</td>\n",
       "      <td>0.592219</td>\n",
       "      <td>0.491457</td>\n",
       "      <td>0.00</td>\n",
       "      <td>0.00</td>\n",
       "      <td>1.00</td>\n",
       "      <td>1.00</td>\n",
       "      <td>1.00</td>\n",
       "    </tr>\n",
       "    <tr>\n",
       "      <td>MonthlyCharges</td>\n",
       "      <td>7043.0</td>\n",
       "      <td>64.761692</td>\n",
       "      <td>30.090047</td>\n",
       "      <td>18.25</td>\n",
       "      <td>35.50</td>\n",
       "      <td>70.35</td>\n",
       "      <td>89.85</td>\n",
       "      <td>118.75</td>\n",
       "    </tr>\n",
       "    <tr>\n",
       "      <td>TotalCharges</td>\n",
       "      <td>7043.0</td>\n",
       "      <td>2279.734304</td>\n",
       "      <td>2266.794470</td>\n",
       "      <td>0.00</td>\n",
       "      <td>398.55</td>\n",
       "      <td>1394.55</td>\n",
       "      <td>3786.60</td>\n",
       "      <td>8684.80</td>\n",
       "    </tr>\n",
       "    <tr>\n",
       "      <td>Churn</td>\n",
       "      <td>7043.0</td>\n",
       "      <td>0.265370</td>\n",
       "      <td>0.441561</td>\n",
       "      <td>0.00</td>\n",
       "      <td>0.00</td>\n",
       "      <td>0.00</td>\n",
       "      <td>1.00</td>\n",
       "      <td>1.00</td>\n",
       "    </tr>\n",
       "  </tbody>\n",
       "</table>\n",
       "</div>"
      ],
      "text/plain": [
       "                   count         mean          std    min     25%      50%  \\\n",
       "gender            7043.0     0.504756     0.500013   0.00    0.00     1.00   \n",
       "SeniorCitizen     7043.0     0.162147     0.368612   0.00    0.00     0.00   \n",
       "Partner           7043.0     0.483033     0.499748   0.00    0.00     0.00   \n",
       "Dependents        7043.0     0.299588     0.458110   0.00    0.00     0.00   \n",
       "tenure            7043.0    32.371149    24.559481   0.00    9.00    29.00   \n",
       "PhoneService      7043.0     0.903166     0.295752   0.00    1.00     1.00   \n",
       "MultipleLines     7043.0     0.421837     0.493888   0.00    0.00     0.00   \n",
       "OnlineSecurity    7043.0     0.286668     0.452237   0.00    0.00     0.00   \n",
       "OnlineBackup      7043.0     0.344881     0.475363   0.00    0.00     0.00   \n",
       "DeviceProtection  7043.0     0.343888     0.475038   0.00    0.00     0.00   \n",
       "TechSupport       7043.0     0.290217     0.453895   0.00    0.00     0.00   \n",
       "StreamingTV       7043.0     0.384353     0.486477   0.00    0.00     0.00   \n",
       "StreamingMovies   7043.0     0.387903     0.487307   0.00    0.00     0.00   \n",
       "PaperlessBilling  7043.0     0.592219     0.491457   0.00    0.00     1.00   \n",
       "MonthlyCharges    7043.0    64.761692    30.090047  18.25   35.50    70.35   \n",
       "TotalCharges      7043.0  2279.734304  2266.794470   0.00  398.55  1394.55   \n",
       "Churn             7043.0     0.265370     0.441561   0.00    0.00     0.00   \n",
       "\n",
       "                      75%      max  \n",
       "gender               1.00     1.00  \n",
       "SeniorCitizen        0.00     1.00  \n",
       "Partner              1.00     1.00  \n",
       "Dependents           1.00     1.00  \n",
       "tenure              55.00    72.00  \n",
       "PhoneService         1.00     1.00  \n",
       "MultipleLines        1.00     1.00  \n",
       "OnlineSecurity       1.00     1.00  \n",
       "OnlineBackup         1.00     1.00  \n",
       "DeviceProtection     1.00     1.00  \n",
       "TechSupport          1.00     1.00  \n",
       "StreamingTV          1.00     1.00  \n",
       "StreamingMovies      1.00     1.00  \n",
       "PaperlessBilling     1.00     1.00  \n",
       "MonthlyCharges      89.85   118.75  \n",
       "TotalCharges      3786.60  8684.80  \n",
       "Churn                1.00     1.00  "
      ]
     },
     "execution_count": 21,
     "metadata": {},
     "output_type": "execute_result"
    }
   ],
   "source": [
    "df.describe().transpose() #Generate descriptive statistics that summarize the central tendency and transposing it"
   ]
  },
  {
   "cell_type": "code",
   "execution_count": 22,
   "metadata": {
    "ExecuteTime": {
     "end_time": "2021-05-30T11:33:19.895151Z",
     "start_time": "2021-05-30T11:33:18.906951Z"
    }
   },
   "outputs": [
    {
     "data": {
      "image/png": "[encoded data removed]",
      "text/plain": [
       "<Figure size 1152x1008 with 3 Axes>"
      ]
     },
     "metadata": {
      "needs_background": "light"
     },
     "output_type": "display_data"
    }
   ],
   "source": [
    "col=['tenure', 'MonthlyCharges', 'TotalCharges']\n",
    "\n",
    "i=3\n",
    "j=0\n",
    "plt.figure(figsize=(16,14))\n",
    "for k in col :\n",
    "    plt.subplot(i,i,i*(j+1)//i)\n",
    "    sns.distplot(df[k])\n",
    "    j=j+1\n",
    "plt.show()"
   ]
  },
  {
   "cell_type": "markdown",
   "metadata": {},
   "source": [
    "#### Inference: \n",
    "* From the plots above it can be observed that **tenure** and **MonthlyCharges** are distributed evenly accross mean and hence Noramlly distibuted.\n",
    " - majority of subscribers have monthly charges between 20 and 30 units .\n",
    "* **TotalCharges** is  positively skewed which means median is lesser than the mean.\n",
    " - Majority of subscribers have TotalSpending between 0 and 1500 units.\n",
    " - Majority (almost 70%) have TotalCharges less than 3500 units and maximum is 8684 units."
   ]
  },
  {
   "cell_type": "code",
   "execution_count": 23,
   "metadata": {
    "ExecuteTime": {
     "end_time": "2021-05-30T11:33:20.305184Z",
     "start_time": "2021-05-30T11:33:19.908958Z"
    }
   },
   "outputs": [
    {
     "data": {
      "image/png": "[encoded data removed]",
      "text/plain": [
       "<Figure size 864x432 with 2 Axes>"
      ]
     },
     "metadata": {
      "needs_background": "light"
     },
     "output_type": "display_data"
    }
   ],
   "source": [
    "fig,axes = plt.subplots(nrows=1,ncols=2, figsize=(12,6) )\n",
    "ax = sns.countplot(df['gender'],hue=df['Churn'],ax=axes[1],order = df[\"gender\"].value_counts().index)\n",
    "plt.legend()\n",
    "ax.set_title('gender vs churn')\n",
    "ax = sns.countplot(df['gender'],ax=axes[0],order = df[\"gender\"].value_counts().index)\n",
    "plt.legend()\n",
    "ax.set_title('Gender Countplot')\n",
    "plt.show()"
   ]
  },
  {
   "cell_type": "markdown",
   "metadata": {},
   "source": [
    "### Inference:\n",
    "* Both male and female subscribers are equal in number.\n",
    "* The number of subscribers who stopped using the service is almost identical in both the genders."
   ]
  },
  {
   "cell_type": "code",
   "execution_count": 24,
   "metadata": {
    "ExecuteTime": {
     "end_time": "2021-05-30T11:33:20.718667Z",
     "start_time": "2021-05-30T11:33:20.316738Z"
    }
   },
   "outputs": [
    {
     "data": {
      "image/png": "[encoded data removed]",
      "text/plain": [
       "<Figure size 864x432 with 2 Axes>"
      ]
     },
     "metadata": {
      "needs_background": "light"
     },
     "output_type": "display_data"
    }
   ],
   "source": [
    "fig,axes = plt.subplots(nrows=1,ncols=2, figsize=(12,6) )\n",
    "ax = sns.countplot(df['SeniorCitizen'],hue=df['Churn'],ax=axes[1],order = df[\"gender\"].value_counts().index)\n",
    "plt.legend()\n",
    "ax.set_title('SeniorCitizen vs churn')\n",
    "ax = sns.countplot(df['SeniorCitizen'],ax=axes[0],order = df[\"SeniorCitizen\"].value_counts().index)\n",
    "plt.legend()\n",
    "ax.set_title('SeniorCitizen Countplot')\n",
    "plt.show()"
   ]
  },
  {
   "cell_type": "markdown",
   "metadata": {},
   "source": [
    "### Inference:\n",
    "* Almost 90% of the senior Citizens went churn.\n",
    "* Only around 30% of the subscribers went churn who weren't Senior Citizens."
   ]
  },
  {
   "cell_type": "code",
   "execution_count": 25,
   "metadata": {
    "ExecuteTime": {
     "end_time": "2021-05-30T11:33:21.068609Z",
     "start_time": "2021-05-30T11:33:20.723441Z"
    }
   },
   "outputs": [
    {
     "data": {
      "image/png": "[encoded data removed]",
      "text/plain": [
       "<Figure size 864x432 with 2 Axes>"
      ]
     },
     "metadata": {
      "needs_background": "light"
     },
     "output_type": "display_data"
    }
   ],
   "source": [
    "fig,axes = plt.subplots(nrows=1,ncols=2, figsize=(12,6) )\n",
    "ax = sns.countplot(df['Partner'],hue=df['Churn'],ax=axes[1],order = df[\"Partner\"].value_counts().index)\n",
    "plt.legend()\n",
    "ax.set_title('Partner vs churn')\n",
    "ax = sns.countplot(df['Partner'],ax=axes[0],order = df[\"Partner\"].value_counts().index)\n",
    "plt.legend()\n",
    "ax.set_title('Partner Countplot')\n",
    "plt.show()"
   ]
  },
  {
   "cell_type": "markdown",
   "metadata": {},
   "source": [
    "### Inference:\n",
    "* Customers with parters and not having partners are almost identical.\n",
    "* Customers with No partners went churn(almost 50%) the most compared to customers with partners."
   ]
  },
  {
   "cell_type": "code",
   "execution_count": 26,
   "metadata": {
    "ExecuteTime": {
     "end_time": "2021-05-30T11:33:21.449597Z",
     "start_time": "2021-05-30T11:33:21.074398Z"
    }
   },
   "outputs": [
    {
     "data": {
      "image/png": "[encoded data removed]",
      "text/plain": [
       "<Figure size 864x432 with 2 Axes>"
      ]
     },
     "metadata": {
      "needs_background": "light"
     },
     "output_type": "display_data"
    }
   ],
   "source": [
    "fig,axes = plt.subplots(nrows=1,ncols=2, figsize=(12,6) )\n",
    "ax = sns.countplot(df['Dependents'],hue=df['Churn'],ax=axes[1],order = df[\"Dependents\"].value_counts().index)\n",
    "plt.legend()\n",
    "ax.set_title('Dependents vs churn')\n",
    "ax = sns.countplot(df['Dependents'],ax=axes[0],order = df[\"Dependents\"].value_counts().index)\n",
    "plt.legend()\n",
    "ax.set_title('Dependents Countplot')\n",
    "plt.show()"
   ]
  },
  {
   "cell_type": "markdown",
   "metadata": {},
   "source": [
    "### Inference:\n",
    "* Almost 70% of the customers are Independent and the rest 30% are dependent customers.\n",
    "* 44% of the Independent customers went churn while only 23% of the dependent customers went churn."
   ]
  },
  {
   "cell_type": "code",
   "execution_count": 27,
   "metadata": {
    "ExecuteTime": {
     "end_time": "2021-05-30T11:33:21.832041Z",
     "start_time": "2021-05-30T11:33:21.453744Z"
    }
   },
   "outputs": [
    {
     "data": {
      "image/png": "[encoded data removed]",
      "text/plain": [
       "<Figure size 864x432 with 2 Axes>"
      ]
     },
     "metadata": {
      "needs_background": "light"
     },
     "output_type": "display_data"
    }
   ],
   "source": [
    "fig,axes = plt.subplots(nrows=1,ncols=2, figsize=(12,6) )\n",
    "ax = sns.countplot(df['PhoneService'],hue=df['Churn'],ax=axes[1],order = df[\"PhoneService\"].value_counts().index)\n",
    "plt.legend()\n",
    "ax.set_title('PhoneService vs churn')\n",
    "ax = sns.countplot(df['PhoneService'],ax=axes[0],order = df[\"PhoneService\"].value_counts().index)\n",
    "plt.legend()\n",
    "ax.set_title('PhoneService Countplot')\n",
    "plt.show()"
   ]
  },
  {
   "cell_type": "markdown",
   "metadata": {},
   "source": [
    "### Inference:\n",
    "* Majority of the customers has a phone service.\n",
    "* 30% of the customers with a phone service went churn."
   ]
  },
  {
   "cell_type": "code",
   "execution_count": 28,
   "metadata": {
    "ExecuteTime": {
     "end_time": "2021-05-30T11:33:22.582429Z",
     "start_time": "2021-05-30T11:33:21.836263Z"
    }
   },
   "outputs": [
    {
     "data": {
      "image/png": "[encoded data removed]",
      "text/plain": [
       "<Figure size 864x432 with 2 Axes>"
      ]
     },
     "metadata": {
      "needs_background": "light"
     },
     "output_type": "display_data"
    }
   ],
   "source": [
    "fig,axes = plt.subplots(nrows=1,ncols=2, figsize=(12,6) )\n",
    "ax = sns.countplot(df['MultipleLines'],hue=df['Churn'],ax=axes[1],order = df[\"MultipleLines\"].value_counts().index)\n",
    "plt.legend()\n",
    "ax.set_title('MultipleLines vs churn')\n",
    "ax = sns.countplot(df['MultipleLines'],ax=axes[0],order = df[\"MultipleLines\"].value_counts().index)\n",
    "plt.legend()\n",
    "ax.set_title('MultipleLines Countplot')\n",
    "plt.show()"
   ]
  },
  {
   "cell_type": "markdown",
   "metadata": {},
   "source": [
    "### Inference:\n",
    "* Close to 30% of the customers with multiplelines went churn.\n",
    "* But only 25% of the cutomers with a single line went churn."
   ]
  },
  {
   "cell_type": "code",
   "execution_count": 29,
   "metadata": {
    "ExecuteTime": {
     "end_time": "2021-05-30T11:33:23.524597Z",
     "start_time": "2021-05-30T11:33:22.589405Z"
    }
   },
   "outputs": [
    {
     "data": {
      "image/png": "[encoded data removed]",
      "text/plain": [
       "<Figure size 864x432 with 2 Axes>"
      ]
     },
     "metadata": {
      "needs_background": "light"
     },
     "output_type": "display_data"
    }
   ],
   "source": [
    "fig,axes = plt.subplots(nrows=1,ncols=2, figsize=(12,6) )\n",
    "ax = sns.countplot(df['InternetService'],hue=df['Churn'],ax=axes[1],order = df[\"InternetService\"].value_counts().index)\n",
    "plt.legend()\n",
    "ax.set_title('InternetService vs churn')\n",
    "ax = sns.countplot(df['InternetService'],ax=axes[0],order = df[\"InternetService\"].value_counts().index)\n",
    "plt.legend()\n",
    "ax.set_title('InternetService Countplot')\n",
    "plt.show()"
   ]
  },
  {
   "cell_type": "markdown",
   "metadata": {},
   "source": [
    "### Inference:\n",
    "* Majority of the customers have A fiber optic connection followed by DSL services.\n",
    "* Almost 40% of the customers with Fiber optic connection went churn.\n",
    "* The customers with No internet services went churn the least."
   ]
  },
  {
   "cell_type": "code",
   "execution_count": 30,
   "metadata": {
    "ExecuteTime": {
     "end_time": "2021-05-30T11:33:24.425346Z",
     "start_time": "2021-05-30T11:33:23.543893Z"
    }
   },
   "outputs": [
    {
     "data": {
      "image/png": "[encoded data removed]",
      "text/plain": [
       "<Figure size 864x432 with 2 Axes>"
      ]
     },
     "metadata": {
      "needs_background": "light"
     },
     "output_type": "display_data"
    }
   ],
   "source": [
    "fig,axes = plt.subplots(nrows=1,ncols=2, figsize=(12,6) )\n",
    "ax = sns.countplot(df['OnlineSecurity'],hue=df['Churn'],ax=axes[1],order = df[\"OnlineSecurity\"].value_counts().index)\n",
    "plt.legend()\n",
    "ax.set_title('OnlineSecurity vs churn')\n",
    "ax = sns.countplot(df['OnlineSecurity'],ax=axes[0],order = df[\"OnlineSecurity\"].value_counts().index)\n",
    "plt.legend()\n",
    "ax.set_title('OnlineSecurity Countplot')\n",
    "plt.show()"
   ]
  },
  {
   "cell_type": "markdown",
   "metadata": {},
   "source": [
    "### Inference:\n",
    "* Majority of the customers dosen't have Online security.\n",
    "* 30% of the customers with No online security went churn.\n",
    "* 20% of the custoemrs with online security went churn."
   ]
  },
  {
   "cell_type": "code",
   "execution_count": 31,
   "metadata": {
    "ExecuteTime": {
     "end_time": "2021-05-30T11:33:25.110223Z",
     "start_time": "2021-05-30T11:33:24.437832Z"
    }
   },
   "outputs": [
    {
     "data": {
      "image/png": "[encoded data removed]",
      "text/plain": [
       "<Figure size 864x432 with 2 Axes>"
      ]
     },
     "metadata": {
      "needs_background": "light"
     },
     "output_type": "display_data"
    }
   ],
   "source": [
    "fig,axes = plt.subplots(nrows=1,ncols=2, figsize=(12,6) )\n",
    "ax = sns.countplot(df['OnlineBackup'],hue=df['Churn'],ax=axes[1],order = df[\"OnlineBackup\"].value_counts().index)\n",
    "plt.legend()\n",
    "ax.set_title('OnlineBackup vs churn')\n",
    "ax = sns.countplot(df['OnlineBackup'],ax=axes[0],order = df[\"OnlineBackup\"].value_counts().index)\n",
    "plt.legend()\n",
    "ax.set_title('OnlineBackup Countplot')\n",
    "plt.show()"
   ]
  },
  {
   "cell_type": "markdown",
   "metadata": {},
   "source": [
    "### Inference:\n",
    "* The number of customers with Online backup is double the number of customers without any Online backup.\n",
    "* Both, Customers with and without online backup went churn equally with close to 27% each."
   ]
  },
  {
   "cell_type": "code",
   "execution_count": 32,
   "metadata": {
    "ExecuteTime": {
     "end_time": "2021-05-30T11:33:25.641436Z",
     "start_time": "2021-05-30T11:33:25.119912Z"
    }
   },
   "outputs": [
    {
     "data": {
      "image/png": "[encoded data removed]",
      "text/plain": [
       "<Figure size 864x432 with 2 Axes>"
      ]
     },
     "metadata": {
      "needs_background": "light"
     },
     "output_type": "display_data"
    }
   ],
   "source": [
    "fig,axes = plt.subplots(nrows=1,ncols=2, figsize=(12,6) )\n",
    "ax = sns.countplot(df['DeviceProtection'],hue=df['Churn'],ax=axes[1],order = df[\"DeviceProtection\"].value_counts().index)\n",
    "plt.legend()\n",
    "ax.set_title('DeviceProtection vs churn')\n",
    "ax = sns.countplot(df['DeviceProtection'],ax=axes[0],order = df[\"DeviceProtection\"].value_counts().index)\n",
    "plt.legend()\n",
    "ax.set_title('DeviceProtection Countplot')\n",
    "plt.show()"
   ]
  },
  {
   "cell_type": "markdown",
   "metadata": {},
   "source": [
    "### Inference:\n",
    "* People without any device protection are double the number of people with device protection.\n",
    "* Both the customers with and without device protection went churn at a equal rate of 24%."
   ]
  },
  {
   "cell_type": "code",
   "execution_count": 33,
   "metadata": {
    "ExecuteTime": {
     "end_time": "2021-05-30T11:33:26.089987Z",
     "start_time": "2021-05-30T11:33:25.645580Z"
    }
   },
   "outputs": [
    {
     "data": {
      "image/png": "[encoded data removed]",
      "text/plain": [
       "<Figure size 864x432 with 2 Axes>"
      ]
     },
     "metadata": {
      "needs_background": "light"
     },
     "output_type": "display_data"
    }
   ],
   "source": [
    "fig,axes = plt.subplots(nrows=1,ncols=2, figsize=(12,6) )\n",
    "ax = sns.countplot(df['StreamingTV'],hue=df['Churn'],ax=axes[1],order = df[\"StreamingTV\"].value_counts().index)\n",
    "plt.legend()\n",
    "ax.set_title('StreamingTV vs churn')\n",
    "ax = sns.countplot(df['StreamingTV'],ax=axes[0],order = df[\"StreamingTV\"].value_counts().index)\n",
    "plt.legend()\n",
    "ax.set_title('StreamingTV Countplot')\n",
    "plt.show()"
   ]
  },
  {
   "cell_type": "code",
   "execution_count": 34,
   "metadata": {
    "ExecuteTime": {
     "end_time": "2021-05-30T11:33:26.541495Z",
     "start_time": "2021-05-30T11:33:26.099122Z"
    }
   },
   "outputs": [
    {
     "data": {
      "image/png": "[encoded data removed]",
      "text/plain": [
       "<Figure size 864x432 with 2 Axes>"
      ]
     },
     "metadata": {
      "needs_background": "light"
     },
     "output_type": "display_data"
    }
   ],
   "source": [
    "fig,axes = plt.subplots(nrows=1,ncols=2, figsize=(12,6) )\n",
    "ax = sns.countplot(df['Contract'],hue=df['Churn'],ax=axes[1],order = df[\"Contract\"].value_counts().index)\n",
    "plt.legend()\n",
    "ax.set_title('Contract vs churn')\n",
    "ax = sns.countplot(df['Contract'],ax=axes[0],order = df[\"Contract\"].value_counts().index)\n",
    "plt.legend()\n",
    "ax.set_title('Contract Countplot')\n",
    "plt.show()"
   ]
  },
  {
   "cell_type": "markdown",
   "metadata": {},
   "source": [
    "### Inference:\n",
    "* Majority of the customers pay on a month-to-month basis followed by a two year contract and one year contract.\n",
    "* Almost 44% of the customers who pay on month-to-month basis went churn.\n",
    "* The customers with a two year contract went churn the least followed by one year contract."
   ]
  },
  {
   "cell_type": "code",
   "execution_count": 35,
   "metadata": {
    "ExecuteTime": {
     "end_time": "2021-05-30T11:33:26.990103Z",
     "start_time": "2021-05-30T11:33:26.549692Z"
    }
   },
   "outputs": [
    {
     "data": {
      "image/png": "[encoded data removed]",
      "text/plain": [
       "<Figure size 864x432 with 2 Axes>"
      ]
     },
     "metadata": {
      "needs_background": "light"
     },
     "output_type": "display_data"
    }
   ],
   "source": [
    "fig,axes = plt.subplots(nrows=1,ncols=2, figsize=(12,6) )\n",
    "ax = sns.countplot(df['PaperlessBilling'],hue=df['Churn'],ax=axes[1],order = df[\"PaperlessBilling\"].value_counts().index)\n",
    "plt.legend()\n",
    "ax.set_title('PaperlessBilling vs churn')\n",
    "ax = sns.countplot(df['PaperlessBilling'],ax=axes[0],order = df[\"PaperlessBilling\"].value_counts().index)\n",
    "plt.legend()\n",
    "ax.set_title('PaperlessBilling Countplot')\n",
    "plt.show()"
   ]
  },
  {
   "cell_type": "markdown",
   "metadata": {},
   "source": [
    "### Inference:\n",
    "* Majority of the customers pay by parerless billing.\n",
    "* Of the customers who pay via paperless billing, 33% went churn."
   ]
  },
  {
   "cell_type": "code",
   "execution_count": 36,
   "metadata": {
    "ExecuteTime": {
     "end_time": "2021-05-30T11:33:27.872707Z",
     "start_time": "2021-05-30T11:33:26.994912Z"
    }
   },
   "outputs": [
    {
     "data": {
      "image/png": "[encoded data removed]",
      "text/plain": [
       "<Figure size 1440x432 with 2 Axes>"
      ]
     },
     "metadata": {
      "needs_background": "light"
     },
     "output_type": "display_data"
    }
   ],
   "source": [
    "fig,axes = plt.subplots(nrows=1,ncols=2, figsize=(20,6) )\n",
    "ax = sns.countplot(df['PaymentMethod'],hue=df['Churn'],ax=axes[1],order = df[\"PaymentMethod\"].value_counts().index)\n",
    "plt.legend()\n",
    "ax.set_title('PaymentMethod vs churn')\n",
    "ax = sns.countplot(df['PaymentMethod'],ax=axes[0],order = df[\"PaymentMethod\"].value_counts().index)\n",
    "plt.legend()\n",
    "ax.set_title('PaymentMethod Countplot')\n",
    "plt.show()"
   ]
  },
  {
   "cell_type": "markdown",
   "metadata": {},
   "source": [
    "### Inference:\n",
    "* Majority of the customers pay via electronic check and the other payment menthods are equally distributed.\n",
    "* Almost half the customers who pay via electronic check went churn.\n",
    "* Compared to Electronic check payment the churn rate of the other three methods is very less."
   ]
  },
  {
   "cell_type": "code",
   "execution_count": 37,
   "metadata": {
    "ExecuteTime": {
     "end_time": "2021-05-30T11:33:28.107796Z",
     "start_time": "2021-05-30T11:33:27.878457Z"
    }
   },
   "outputs": [
    {
     "data": {
      "image/png": "[encoded data removed]",
      "text/plain": [
       "<Figure size 360x360 with 1 Axes>"
      ]
     },
     "metadata": {},
     "output_type": "display_data"
    }
   ],
   "source": [
    "fig,ax = plt.subplots( figsize=(5,5) )\n",
    "df['Churn'].value_counts(sort=False).plot(kind='pie',autopct='%1.1f%%', fontsize= 20,startangle=220)\n",
    "plt.legend(['Not Churned','Churned '])\n",
    "plt.show()"
   ]
  },
  {
   "cell_type": "markdown",
   "metadata": {},
   "source": [
    "### Inference:\n",
    "* The dataset is highly in favour of the NO churn group. This skewness may create a bias in the model. "
   ]
  },
  {
   "cell_type": "code",
   "execution_count": 38,
   "metadata": {
    "ExecuteTime": {
     "end_time": "2021-05-30T11:33:28.145148Z",
     "start_time": "2021-05-30T11:33:28.113475Z"
    }
   },
   "outputs": [],
   "source": [
    "df = pd.get_dummies(df, columns = ['InternetService', 'Contract', 'PaymentMethod'],\n",
    "prefix = ['ISP', 'contract', 'payment'])\n"
   ]
  },
  {
   "cell_type": "code",
   "execution_count": 39,
   "metadata": {
    "ExecuteTime": {
     "end_time": "2021-05-30T11:33:28.172603Z",
     "start_time": "2021-05-30T11:33:28.152967Z"
    }
   },
   "outputs": [],
   "source": [
    "df2 = df.drop('customerID', axis = 1, inplace = False)  # removing redundend features\n",
    "df2.columns = df2.columns.str.replace(\" \", \"_\")"
   ]
  },
  {
   "cell_type": "code",
   "execution_count": 40,
   "metadata": {
    "ExecuteTime": {
     "end_time": "2021-05-30T11:33:28.223520Z",
     "start_time": "2021-05-30T11:33:28.177976Z"
    }
   },
   "outputs": [
    {
     "data": {
      "text/plain": [
       "Churn                                1.000000\n",
       "contract_Month-to-month              0.405103\n",
       "ISP_Fiber_optic                      0.308020\n",
       "payment_Electronic_check             0.301919\n",
       "MonthlyCharges                       0.193356\n",
       "PaperlessBilling                     0.191825\n",
       "SeniorCitizen                        0.150889\n",
       "StreamingTV                          0.063228\n",
       "StreamingMovies                      0.061382\n",
       "MultipleLines                        0.040102\n",
       "PhoneService                         0.011942\n",
       "gender                              -0.008612\n",
       "DeviceProtection                    -0.066160\n",
       "OnlineBackup                        -0.082255\n",
       "payment_Mailed_check                -0.091683\n",
       "payment_Bank_transfer_(automatic)   -0.117937\n",
       "ISP_DSL                             -0.124214\n",
       "payment_Credit_card_(automatic)     -0.134302\n",
       "Partner                             -0.150448\n",
       "Dependents                          -0.164221\n",
       "TechSupport                         -0.164674\n",
       "OnlineSecurity                      -0.171226\n",
       "contract_One_year                   -0.177820\n",
       "TotalCharges                        -0.198324\n",
       "ISP_No                              -0.227890\n",
       "contract_Two_year                   -0.302253\n",
       "tenure                              -0.352229\n",
       "Name: Churn, dtype: float64"
      ]
     },
     "execution_count": 40,
     "metadata": {},
     "output_type": "execute_result"
    }
   ],
   "source": [
    "df2.corr()['Churn'].sort_values(ascending=False)#Compute pairwise correlation of columns, excluding NA/null values."
   ]
  },
  {
   "cell_type": "markdown",
   "metadata": {},
   "source": [
    "### Inference:\n",
    "* A positive correlation is observed between **churn** and **Month-to-Month** contracts.\n",
    "* Followed by **Fiber Optic ISP** and **Monthly charges**."
   ]
  },
  {
   "cell_type": "code",
   "execution_count": 42,
   "metadata": {
    "ExecuteTime": {
     "end_time": "2021-05-30T11:35:03.772774Z",
     "start_time": "2021-05-30T11:35:02.572952Z"
    }
   },
   "outputs": [
    {
     "data": {
      "image/png": "[encoded data removed]",
      "text/plain": [
       "<Figure size 1152x720 with 2 Axes>"
      ]
     },
     "metadata": {
      "needs_background": "light"
     },
     "output_type": "display_data"
    }
   ],
   "source": [
    "corr = df2.corr()\n",
    "mask = np.zeros_like(corr, dtype=np.bool)\n",
    "mask[np.triu_indices_from(mask)] = True\n",
    "\n",
    "f, ax = plt.subplots(figsize=(16, 10))                     #Create a figure and a set of subplots\n",
    "cmap = sns.diverging_palette(220, 10, as_cmap=True)        #Make a diverging palette between two HUSL colors.\n",
    "sns.heatmap(corr, mask=mask, cmap=cmap, vmax=.3, center=0, #Plot rectangular data as a color-encoded matrix.\n",
    "            square=True, linewidths=.6, cbar_kws={\"shrink\": .5})\n",
    "plt.show();"
   ]
  },
  {
   "cell_type": "markdown",
   "metadata": {},
   "source": [
    "## 4. Data pre-processing:"
   ]
  },
  {
   "cell_type": "code",
   "execution_count": 52,
   "metadata": {
    "ExecuteTime": {
     "end_time": "2021-05-30T13:08:09.450661Z",
     "start_time": "2021-05-30T13:08:09.442269Z"
    }
   },
   "outputs": [],
   "source": [
    "X = df2.drop('Churn', axis = 1, inplace = False)   # segregating predictors and target attributes.\n",
    "y = df2['Churn']"
   ]
  },
  {
   "cell_type": "code",
   "execution_count": 53,
   "metadata": {
    "ExecuteTime": {
     "end_time": "2021-05-30T13:08:51.087680Z",
     "start_time": "2021-05-30T13:08:51.039362Z"
    }
   },
   "outputs": [],
   "source": [
    "from imblearn.over_sampling import SMOTE           # Target balancing using SMOTE.\n",
    "smote = SMOTE(sampling_strategy='minority')        # Class to perform over-sampling using SMOTE.\n",
    "X_sm, y_sm=smote.fit_resample(X,y)"
   ]
  },
  {
   "cell_type": "code",
   "execution_count": 58,
   "metadata": {
    "ExecuteTime": {
     "end_time": "2021-05-30T13:09:17.082296Z",
     "start_time": "2021-05-30T13:09:17.069791Z"
    }
   },
   "outputs": [],
   "source": [
    "X_train, X_test, y_train,y_test= train_test_split(X_sm, y_sm,test_size=0.2,random_state=15)  #splitting training and testing data into 80:20 ratio"
   ]
  },
  {
   "cell_type": "code",
   "execution_count": 60,
   "metadata": {
    "ExecuteTime": {
     "end_time": "2021-05-30T13:11:24.348135Z",
     "start_time": "2021-05-30T13:11:24.332915Z"
    }
   },
   "outputs": [],
   "source": [
    "df3 = X_train"
   ]
  },
  {
   "cell_type": "code",
   "execution_count": 63,
   "metadata": {
    "ExecuteTime": {
     "end_time": "2021-05-30T13:12:44.259664Z",
     "start_time": "2021-05-30T13:12:44.151735Z"
    },
    "scrolled": true
   },
   "outputs": [
    {
     "data": {
      "text/html": [
       "<div>\n",
       "<style scoped>\n",
       "    .dataframe tbody tr th:only-of-type {\n",
       "        vertical-align: middle;\n",
       "    }\n",
       "\n",
       "    .dataframe tbody tr th {\n",
       "        vertical-align: top;\n",
       "    }\n",
       "\n",
       "    .dataframe thead th {\n",
       "        text-align: right;\n",
       "    }\n",
       "</style>\n",
       "<table border=\"1\" class=\"dataframe\">\n",
       "  <thead>\n",
       "    <tr style=\"text-align: right;\">\n",
       "      <th></th>\n",
       "      <th>count</th>\n",
       "      <th>mean</th>\n",
       "      <th>std</th>\n",
       "      <th>min</th>\n",
       "      <th>25%</th>\n",
       "      <th>50%</th>\n",
       "      <th>75%</th>\n",
       "      <th>max</th>\n",
       "    </tr>\n",
       "  </thead>\n",
       "  <tbody>\n",
       "    <tr>\n",
       "      <td>gender</td>\n",
       "      <td>8278.0</td>\n",
       "      <td>0.434163</td>\n",
       "      <td>0.495676</td>\n",
       "      <td>0.00</td>\n",
       "      <td>0.000000</td>\n",
       "      <td>0.000000</td>\n",
       "      <td>1.000000</td>\n",
       "      <td>1.00</td>\n",
       "    </tr>\n",
       "    <tr>\n",
       "      <td>SeniorCitizen</td>\n",
       "      <td>8278.0</td>\n",
       "      <td>0.134332</td>\n",
       "      <td>0.341029</td>\n",
       "      <td>0.00</td>\n",
       "      <td>0.000000</td>\n",
       "      <td>0.000000</td>\n",
       "      <td>0.000000</td>\n",
       "      <td>1.00</td>\n",
       "    </tr>\n",
       "    <tr>\n",
       "      <td>Partner</td>\n",
       "      <td>8278.0</td>\n",
       "      <td>0.371467</td>\n",
       "      <td>0.483226</td>\n",
       "      <td>0.00</td>\n",
       "      <td>0.000000</td>\n",
       "      <td>0.000000</td>\n",
       "      <td>1.000000</td>\n",
       "      <td>1.00</td>\n",
       "    </tr>\n",
       "    <tr>\n",
       "      <td>Dependents</td>\n",
       "      <td>8278.0</td>\n",
       "      <td>0.214665</td>\n",
       "      <td>0.410615</td>\n",
       "      <td>0.00</td>\n",
       "      <td>0.000000</td>\n",
       "      <td>0.000000</td>\n",
       "      <td>0.000000</td>\n",
       "      <td>1.00</td>\n",
       "    </tr>\n",
       "    <tr>\n",
       "      <td>tenure</td>\n",
       "      <td>8278.0</td>\n",
       "      <td>27.549650</td>\n",
       "      <td>23.838212</td>\n",
       "      <td>0.00</td>\n",
       "      <td>5.000000</td>\n",
       "      <td>21.000000</td>\n",
       "      <td>48.000000</td>\n",
       "      <td>72.00</td>\n",
       "    </tr>\n",
       "    <tr>\n",
       "      <td>PhoneService</td>\n",
       "      <td>8278.0</td>\n",
       "      <td>0.900338</td>\n",
       "      <td>0.299567</td>\n",
       "      <td>0.00</td>\n",
       "      <td>1.000000</td>\n",
       "      <td>1.000000</td>\n",
       "      <td>1.000000</td>\n",
       "      <td>1.00</td>\n",
       "    </tr>\n",
       "    <tr>\n",
       "      <td>MultipleLines</td>\n",
       "      <td>8278.0</td>\n",
       "      <td>0.385963</td>\n",
       "      <td>0.486851</td>\n",
       "      <td>0.00</td>\n",
       "      <td>0.000000</td>\n",
       "      <td>0.000000</td>\n",
       "      <td>1.000000</td>\n",
       "      <td>1.00</td>\n",
       "    </tr>\n",
       "    <tr>\n",
       "      <td>OnlineSecurity</td>\n",
       "      <td>8278.0</td>\n",
       "      <td>0.202585</td>\n",
       "      <td>0.401950</td>\n",
       "      <td>0.00</td>\n",
       "      <td>0.000000</td>\n",
       "      <td>0.000000</td>\n",
       "      <td>0.000000</td>\n",
       "      <td>1.00</td>\n",
       "    </tr>\n",
       "    <tr>\n",
       "      <td>OnlineBackup</td>\n",
       "      <td>8278.0</td>\n",
       "      <td>0.270718</td>\n",
       "      <td>0.444357</td>\n",
       "      <td>0.00</td>\n",
       "      <td>0.000000</td>\n",
       "      <td>0.000000</td>\n",
       "      <td>1.000000</td>\n",
       "      <td>1.00</td>\n",
       "    </tr>\n",
       "    <tr>\n",
       "      <td>DeviceProtection</td>\n",
       "      <td>8278.0</td>\n",
       "      <td>0.274100</td>\n",
       "      <td>0.446087</td>\n",
       "      <td>0.00</td>\n",
       "      <td>0.000000</td>\n",
       "      <td>0.000000</td>\n",
       "      <td>1.000000</td>\n",
       "      <td>1.00</td>\n",
       "    </tr>\n",
       "    <tr>\n",
       "      <td>TechSupport</td>\n",
       "      <td>8278.0</td>\n",
       "      <td>0.205484</td>\n",
       "      <td>0.404080</td>\n",
       "      <td>0.00</td>\n",
       "      <td>0.000000</td>\n",
       "      <td>0.000000</td>\n",
       "      <td>0.000000</td>\n",
       "      <td>1.00</td>\n",
       "    </tr>\n",
       "    <tr>\n",
       "      <td>StreamingTV</td>\n",
       "      <td>8278.0</td>\n",
       "      <td>0.353709</td>\n",
       "      <td>0.478149</td>\n",
       "      <td>0.00</td>\n",
       "      <td>0.000000</td>\n",
       "      <td>0.000000</td>\n",
       "      <td>1.000000</td>\n",
       "      <td>1.00</td>\n",
       "    </tr>\n",
       "    <tr>\n",
       "      <td>StreamingMovies</td>\n",
       "      <td>8278.0</td>\n",
       "      <td>0.351534</td>\n",
       "      <td>0.477478</td>\n",
       "      <td>0.00</td>\n",
       "      <td>0.000000</td>\n",
       "      <td>0.000000</td>\n",
       "      <td>1.000000</td>\n",
       "      <td>1.00</td>\n",
       "    </tr>\n",
       "    <tr>\n",
       "      <td>PaperlessBilling</td>\n",
       "      <td>8278.0</td>\n",
       "      <td>0.595917</td>\n",
       "      <td>0.490743</td>\n",
       "      <td>0.00</td>\n",
       "      <td>0.000000</td>\n",
       "      <td>1.000000</td>\n",
       "      <td>1.000000</td>\n",
       "      <td>1.00</td>\n",
       "    </tr>\n",
       "    <tr>\n",
       "      <td>MonthlyCharges</td>\n",
       "      <td>8278.0</td>\n",
       "      <td>68.038722</td>\n",
       "      <td>28.685058</td>\n",
       "      <td>18.25</td>\n",
       "      <td>45.724141</td>\n",
       "      <td>74.850258</td>\n",
       "      <td>90.812749</td>\n",
       "      <td>118.65</td>\n",
       "    </tr>\n",
       "    <tr>\n",
       "      <td>TotalCharges</td>\n",
       "      <td>8278.0</td>\n",
       "      <td>2036.625135</td>\n",
       "      <td>2165.316571</td>\n",
       "      <td>0.00</td>\n",
       "      <td>273.050000</td>\n",
       "      <td>1178.325000</td>\n",
       "      <td>3217.625000</td>\n",
       "      <td>8684.80</td>\n",
       "    </tr>\n",
       "    <tr>\n",
       "      <td>ISP_DSL</td>\n",
       "      <td>8278.0</td>\n",
       "      <td>0.287630</td>\n",
       "      <td>0.452685</td>\n",
       "      <td>0.00</td>\n",
       "      <td>0.000000</td>\n",
       "      <td>0.000000</td>\n",
       "      <td>1.000000</td>\n",
       "      <td>1.00</td>\n",
       "    </tr>\n",
       "    <tr>\n",
       "      <td>ISP_Fiber_optic</td>\n",
       "      <td>8278.0</td>\n",
       "      <td>0.516429</td>\n",
       "      <td>0.499760</td>\n",
       "      <td>0.00</td>\n",
       "      <td>0.000000</td>\n",
       "      <td>1.000000</td>\n",
       "      <td>1.000000</td>\n",
       "      <td>1.00</td>\n",
       "    </tr>\n",
       "    <tr>\n",
       "      <td>ISP_No</td>\n",
       "      <td>8278.0</td>\n",
       "      <td>0.161875</td>\n",
       "      <td>0.368358</td>\n",
       "      <td>0.00</td>\n",
       "      <td>0.000000</td>\n",
       "      <td>0.000000</td>\n",
       "      <td>0.000000</td>\n",
       "      <td>1.00</td>\n",
       "    </tr>\n",
       "    <tr>\n",
       "      <td>contract_Month-to-month</td>\n",
       "      <td>8278.0</td>\n",
       "      <td>0.640855</td>\n",
       "      <td>0.479779</td>\n",
       "      <td>0.00</td>\n",
       "      <td>0.000000</td>\n",
       "      <td>1.000000</td>\n",
       "      <td>1.000000</td>\n",
       "      <td>1.00</td>\n",
       "    </tr>\n",
       "    <tr>\n",
       "      <td>contract_One_year</td>\n",
       "      <td>8278.0</td>\n",
       "      <td>0.146171</td>\n",
       "      <td>0.353298</td>\n",
       "      <td>0.00</td>\n",
       "      <td>0.000000</td>\n",
       "      <td>0.000000</td>\n",
       "      <td>0.000000</td>\n",
       "      <td>1.00</td>\n",
       "    </tr>\n",
       "    <tr>\n",
       "      <td>contract_Two_year</td>\n",
       "      <td>8278.0</td>\n",
       "      <td>0.165137</td>\n",
       "      <td>0.371326</td>\n",
       "      <td>0.00</td>\n",
       "      <td>0.000000</td>\n",
       "      <td>0.000000</td>\n",
       "      <td>0.000000</td>\n",
       "      <td>1.00</td>\n",
       "    </tr>\n",
       "    <tr>\n",
       "      <td>payment_Bank_transfer_(automatic)</td>\n",
       "      <td>8278.0</td>\n",
       "      <td>0.154748</td>\n",
       "      <td>0.361686</td>\n",
       "      <td>0.00</td>\n",
       "      <td>0.000000</td>\n",
       "      <td>0.000000</td>\n",
       "      <td>0.000000</td>\n",
       "      <td>1.00</td>\n",
       "    </tr>\n",
       "    <tr>\n",
       "      <td>payment_Credit_card_(automatic)</td>\n",
       "      <td>8278.0</td>\n",
       "      <td>0.150882</td>\n",
       "      <td>0.357955</td>\n",
       "      <td>0.00</td>\n",
       "      <td>0.000000</td>\n",
       "      <td>0.000000</td>\n",
       "      <td>0.000000</td>\n",
       "      <td>1.00</td>\n",
       "    </tr>\n",
       "    <tr>\n",
       "      <td>payment_Electronic_check</td>\n",
       "      <td>8278.0</td>\n",
       "      <td>0.348635</td>\n",
       "      <td>0.476567</td>\n",
       "      <td>0.00</td>\n",
       "      <td>0.000000</td>\n",
       "      <td>0.000000</td>\n",
       "      <td>1.000000</td>\n",
       "      <td>1.00</td>\n",
       "    </tr>\n",
       "    <tr>\n",
       "      <td>payment_Mailed_check</td>\n",
       "      <td>8278.0</td>\n",
       "      <td>0.179874</td>\n",
       "      <td>0.384106</td>\n",
       "      <td>0.00</td>\n",
       "      <td>0.000000</td>\n",
       "      <td>0.000000</td>\n",
       "      <td>0.000000</td>\n",
       "      <td>1.00</td>\n",
       "    </tr>\n",
       "  </tbody>\n",
       "</table>\n",
       "</div>"
      ],
      "text/plain": [
       "                                    count         mean          std    min  \\\n",
       "gender                             8278.0     0.434163     0.495676   0.00   \n",
       "SeniorCitizen                      8278.0     0.134332     0.341029   0.00   \n",
       "Partner                            8278.0     0.371467     0.483226   0.00   \n",
       "Dependents                         8278.0     0.214665     0.410615   0.00   \n",
       "tenure                             8278.0    27.549650    23.838212   0.00   \n",
       "PhoneService                       8278.0     0.900338     0.299567   0.00   \n",
       "MultipleLines                      8278.0     0.385963     0.486851   0.00   \n",
       "OnlineSecurity                     8278.0     0.202585     0.401950   0.00   \n",
       "OnlineBackup                       8278.0     0.270718     0.444357   0.00   \n",
       "DeviceProtection                   8278.0     0.274100     0.446087   0.00   \n",
       "TechSupport                        8278.0     0.205484     0.404080   0.00   \n",
       "StreamingTV                        8278.0     0.353709     0.478149   0.00   \n",
       "StreamingMovies                    8278.0     0.351534     0.477478   0.00   \n",
       "PaperlessBilling                   8278.0     0.595917     0.490743   0.00   \n",
       "MonthlyCharges                     8278.0    68.038722    28.685058  18.25   \n",
       "TotalCharges                       8278.0  2036.625135  2165.316571   0.00   \n",
       "ISP_DSL                            8278.0     0.287630     0.452685   0.00   \n",
       "ISP_Fiber_optic                    8278.0     0.516429     0.499760   0.00   \n",
       "ISP_No                             8278.0     0.161875     0.368358   0.00   \n",
       "contract_Month-to-month            8278.0     0.640855     0.479779   0.00   \n",
       "contract_One_year                  8278.0     0.146171     0.353298   0.00   \n",
       "contract_Two_year                  8278.0     0.165137     0.371326   0.00   \n",
       "payment_Bank_transfer_(automatic)  8278.0     0.154748     0.361686   0.00   \n",
       "payment_Credit_card_(automatic)    8278.0     0.150882     0.357955   0.00   \n",
       "payment_Electronic_check           8278.0     0.348635     0.476567   0.00   \n",
       "payment_Mailed_check               8278.0     0.179874     0.384106   0.00   \n",
       "\n",
       "                                          25%          50%          75%  \\\n",
       "gender                               0.000000     0.000000     1.000000   \n",
       "SeniorCitizen                        0.000000     0.000000     0.000000   \n",
       "Partner                              0.000000     0.000000     1.000000   \n",
       "Dependents                           0.000000     0.000000     0.000000   \n",
       "tenure                               5.000000    21.000000    48.000000   \n",
       "PhoneService                         1.000000     1.000000     1.000000   \n",
       "MultipleLines                        0.000000     0.000000     1.000000   \n",
       "OnlineSecurity                       0.000000     0.000000     0.000000   \n",
       "OnlineBackup                         0.000000     0.000000     1.000000   \n",
       "DeviceProtection                     0.000000     0.000000     1.000000   \n",
       "TechSupport                          0.000000     0.000000     0.000000   \n",
       "StreamingTV                          0.000000     0.000000     1.000000   \n",
       "StreamingMovies                      0.000000     0.000000     1.000000   \n",
       "PaperlessBilling                     0.000000     1.000000     1.000000   \n",
       "MonthlyCharges                      45.724141    74.850258    90.812749   \n",
       "TotalCharges                       273.050000  1178.325000  3217.625000   \n",
       "ISP_DSL                              0.000000     0.000000     1.000000   \n",
       "ISP_Fiber_optic                      0.000000     1.000000     1.000000   \n",
       "ISP_No                               0.000000     0.000000     0.000000   \n",
       "contract_Month-to-month              0.000000     1.000000     1.000000   \n",
       "contract_One_year                    0.000000     0.000000     0.000000   \n",
       "contract_Two_year                    0.000000     0.000000     0.000000   \n",
       "payment_Bank_transfer_(automatic)    0.000000     0.000000     0.000000   \n",
       "payment_Credit_card_(automatic)      0.000000     0.000000     0.000000   \n",
       "payment_Electronic_check             0.000000     0.000000     1.000000   \n",
       "payment_Mailed_check                 0.000000     0.000000     0.000000   \n",
       "\n",
       "                                       max  \n",
       "gender                                1.00  \n",
       "SeniorCitizen                         1.00  \n",
       "Partner                               1.00  \n",
       "Dependents                            1.00  \n",
       "tenure                               72.00  \n",
       "PhoneService                          1.00  \n",
       "MultipleLines                         1.00  \n",
       "OnlineSecurity                        1.00  \n",
       "OnlineBackup                          1.00  \n",
       "DeviceProtection                      1.00  \n",
       "TechSupport                           1.00  \n",
       "StreamingTV                           1.00  \n",
       "StreamingMovies                       1.00  \n",
       "PaperlessBilling                      1.00  \n",
       "MonthlyCharges                      118.65  \n",
       "TotalCharges                       8684.80  \n",
       "ISP_DSL                               1.00  \n",
       "ISP_Fiber_optic                       1.00  \n",
       "ISP_No                                1.00  \n",
       "contract_Month-to-month               1.00  \n",
       "contract_One_year                     1.00  \n",
       "contract_Two_year                     1.00  \n",
       "payment_Bank_transfer_(automatic)     1.00  \n",
       "payment_Credit_card_(automatic)       1.00  \n",
       "payment_Electronic_check              1.00  \n",
       "payment_Mailed_check                  1.00  "
      ]
     },
     "execution_count": 63,
     "metadata": {},
     "output_type": "execute_result"
    }
   ],
   "source": [
    "df3.describe().transpose()"
   ]
  },
  {
   "cell_type": "markdown",
   "metadata": {},
   "source": [
    "### Inference:\n",
    "* From the above statistics it is observed that the values of majority of the statictics have changed compared to original dataset statistics.\n",
    "- **Count** of the features have changed due to upsampling.\n",
    "- **Mean** of the features have decreased.\n",
    "- **standard deviation** has decreased.\n",
    "- But the **Max** values are unchanged."
   ]
  },
  {
   "cell_type": "markdown",
   "metadata": {},
   "source": [
    "## 5. Model training, testing and tuning:"
   ]
  },
  {
   "cell_type": "markdown",
   "metadata": {},
   "source": [
    "### 1. Bagging classifier using decision tree as base estimator."
   ]
  },
  {
   "cell_type": "code",
   "execution_count": 141,
   "metadata": {
    "ExecuteTime": {
     "end_time": "2021-05-30T15:44:14.126532Z",
     "start_time": "2021-05-30T15:44:04.763253Z"
    }
   },
   "outputs": [
    {
     "name": "stdout",
     "output_type": "stream",
     "text": [
      "Accuracy Score of Training Data:  0.9986711766127084\n",
      "\n",
      "Accuracy Score of Test Data: 0.8449275362318841\n",
      "\n",
      "Classification Report of Bagging Classification Model:\n",
      "                precision    recall  f1-score   support\n",
      "\n",
      "           0       0.85      0.86      0.85      1082\n",
      "           1       0.84      0.83      0.84       988\n",
      "\n",
      "    accuracy                           0.84      2070\n",
      "   macro avg       0.84      0.84      0.84      2070\n",
      "weighted avg       0.84      0.84      0.84      2070\n",
      "\n",
      "\n",
      "Mean Absolute Error of Bagging Classification Model:\n",
      " 0.15507246376811595\n",
      "\n",
      "Confusion Matrix of Bagging Classification Model:\n",
      " [[927 155]\n",
      " [166 822]]\n"
     ]
    },
    {
     "data": {
      "text/plain": [
       "Text(0.5, 1, 'Confusion Matrix HeatMap of Bagging Classification Model')"
      ]
     },
     "execution_count": 141,
     "metadata": {},
     "output_type": "execute_result"
    },
    {
     "data": {
      "image/png": "[encoded data removed]",
      "text/plain": [
       "<Figure size 576x432 with 2 Axes>"
      ]
     },
     "metadata": {
      "needs_background": "light"
     },
     "output_type": "display_data"
    }
   ],
   "source": [
    "BG = BaggingClassifier(n_estimators = 300) #using Decision Tree Model as base estimator\n",
    "\n",
    "\n",
    "BG = BG.fit(X_train, y_train)\n",
    "y_predictBG = BG.predict(X_test)\n",
    "\n",
    "modeltrBG_score = BG.score(X_train, y_train)\n",
    "print('Accuracy Score of Training Data: ', modeltrBG_score)\n",
    "\n",
    "\n",
    "cfm_BG = confusion_matrix(y_test, y_predictBG)\n",
    "\n",
    "\n",
    "# evaluate accuracy\n",
    "modelBG_score = accuracy_score(y_test, y_predictBG)\n",
    "print('\\nAccuracy Score of Test Data:', modelBG_score)\n",
    "print('\\nClassification Report of Bagging Classification Model:\\n ', classification_report(y_test, y_predictBG))\n",
    "print('\\nMean Absolute Error of Bagging Classification Model:\\n', mean_absolute_error(y_test, y_predictBG))\n",
    "print('\\nConfusion Matrix of Bagging Classification Model:\\n', cfm_BG)\n",
    "\n",
    "#visualization of confusion matrix in the form of a heatmap\n",
    "plt.figure(figsize = (8, 6))\n",
    "sns.heatmap(cfm_BG, annot = True, cmap = 'YlGnBu', fmt = 'd')\n",
    "plt.xlabel('Actual Classes', fontsize = 15)\n",
    "plt.ylabel('Predicted Classes', fontsize = 15)\n",
    "plt.title('Confusion Matrix HeatMap of Bagging Classification Model', fontsize = 15)"
   ]
  },
  {
   "cell_type": "code",
   "execution_count": 143,
   "metadata": {
    "ExecuteTime": {
     "end_time": "2021-05-30T15:49:40.778790Z",
     "start_time": "2021-05-30T15:49:40.767110Z"
    }
   },
   "outputs": [
    {
     "name": "stdout",
     "output_type": "stream",
     "text": [
      "Precision Score : 0.84\n",
      "Recall Score : 0.84\n",
      "F1-Score : 0.84\n",
      "Accuracy Score : 0.84\n"
     ]
    }
   ],
   "source": [
    "precision_BG, recall_BG, f1_score_BG, support = precision_recall_fscore_support(y_test, y_predictBG, average = 'macro')\n",
    "print('Precision Score :', '%0.2f' % precision_BG)\n",
    "print('Recall Score :', '%0.2f' % recall_BG)\n",
    "print('F1-Score :', '%0.2f' % f1_score_BG)\n",
    "print('Accuracy Score :','%0.2f' % modelBG_score)"
   ]
  },
  {
   "cell_type": "code",
   "execution_count": 147,
   "metadata": {
    "ExecuteTime": {
     "end_time": "2021-05-30T15:50:53.508042Z",
     "start_time": "2021-05-30T15:50:52.293960Z"
    }
   },
   "outputs": [
    {
     "name": "stdout",
     "output_type": "stream",
     "text": [
      "Accuracy Score of Training Data:  0.9937182894418942\n",
      "\n",
      "Accuracy Score of Test Data: 0.8328502415458937\n",
      "\n",
      "Classification Report of Bagging Classification Model:\n",
      "                precision    recall  f1-score   support\n",
      "\n",
      "           0       0.85      0.83      0.84      1082\n",
      "           1       0.82      0.84      0.83       988\n",
      "\n",
      "    accuracy                           0.83      2070\n",
      "   macro avg       0.83      0.83      0.83      2070\n",
      "weighted avg       0.83      0.83      0.83      2070\n",
      "\n",
      "\n",
      "Mean Absolute Error of Bagging Classification Model:\n",
      " 0.1671497584541063\n",
      "\n",
      "Confusion Matrix of Bagging Classification Model:\n",
      " [[899 183]\n",
      " [163 825]]\n"
     ]
    },
    {
     "data": {
      "text/plain": [
       "Text(0.5, 1, 'Confusion Matrix HeatMap of Bagging Classification Model')"
      ]
     },
     "execution_count": 147,
     "metadata": {},
     "output_type": "execute_result"
    },
    {
     "data": {
      "image/png": "[encoded data removed]",
      "text/plain": [
       "<Figure size 576x432 with 2 Axes>"
      ]
     },
     "metadata": {
      "needs_background": "light"
     },
     "output_type": "display_data"
    }
   ],
   "source": [
    "BG1 = BaggingClassifier(n_estimators = 15) #using Decision Tree Model as base estimator\n",
    "\n",
    "\n",
    "BG1 = BG1.fit(X_train, y_train)\n",
    "y_predictBG1 = BG1.predict(X_test)\n",
    "\n",
    "modeltrBG1_score = BG1.score(X_train, y_train)\n",
    "print('Accuracy Score of Training Data: ', modeltrBG1_score)\n",
    "\n",
    "\n",
    "cfm_BG1 = confusion_matrix(y_test, y_predictBG1)\n",
    "\n",
    "\n",
    "# evaluate accuracy\n",
    "modelBG1_score = accuracy_score(y_test, y_predictBG1)\n",
    "print('\\nAccuracy Score of Test Data:', modelBG1_score)\n",
    "print('\\nClassification Report of Bagging Classification Model:\\n ', classification_report(y_test, y_predictBG1))\n",
    "print('\\nMean Absolute Error of Bagging Classification Model:\\n', mean_absolute_error(y_test, y_predictBG1))\n",
    "print('\\nConfusion Matrix of Bagging Classification Model:\\n', cfm_BG1)\n",
    "\n",
    "#visualization of confusion matrix in the form of a heatmap\n",
    "plt.figure(figsize = (8, 6))\n",
    "sns.heatmap(cfm_BG1, annot = True, cmap = 'YlGnBu', fmt = 'd')\n",
    "plt.xlabel('Actual Classes', fontsize = 15)\n",
    "plt.ylabel('Predicted Classes', fontsize = 15)\n",
    "plt.title('Confusion Matrix HeatMap of Bagging Classification Model', fontsize = 15)"
   ]
  },
  {
   "cell_type": "code",
   "execution_count": 148,
   "metadata": {
    "ExecuteTime": {
     "end_time": "2021-05-30T15:50:58.244319Z",
     "start_time": "2021-05-30T15:50:58.231748Z"
    }
   },
   "outputs": [
    {
     "name": "stdout",
     "output_type": "stream",
     "text": [
      "Precision Score : 0.83\n",
      "Recall Score : 0.83\n",
      "F1-Score : 0.83\n",
      "Accuracy Score : 0.83\n"
     ]
    }
   ],
   "source": [
    "precision_BG1, recall_BG1, f1_score_BG1, support = precision_recall_fscore_support(y_test, y_predictBG1, average = 'macro')\n",
    "print('Precision Score :', '%0.2f' % precision_BG1)\n",
    "print('Recall Score :', '%0.2f' % recall_BG1)\n",
    "print('F1-Score :', '%0.2f' % f1_score_BG1)\n",
    "print('Accuracy Score :','%0.2f' % modelBG1_score)"
   ]
  },
  {
   "cell_type": "markdown",
   "metadata": {},
   "source": [
    "### 2. AdaBoost Classifier using decision tree model as base estimator"
   ]
  },
  {
   "cell_type": "code",
   "execution_count": 103,
   "metadata": {
    "ExecuteTime": {
     "end_time": "2021-05-30T14:41:23.083224Z",
     "start_time": "2021-05-30T14:41:23.074394Z"
    }
   },
   "outputs": [],
   "source": [
    "from sklearn.model_selection import train_test_split, GridSearchCV"
   ]
  },
  {
   "cell_type": "code",
   "execution_count": 100,
   "metadata": {
    "ExecuteTime": {
     "end_time": "2021-05-30T14:38:53.751997Z",
     "start_time": "2021-05-30T14:38:53.740482Z"
    }
   },
   "outputs": [],
   "source": [
    "cross_valid_scores = {}"
   ]
  },
  {
   "cell_type": "code",
   "execution_count": 118,
   "metadata": {
    "ExecuteTime": {
     "end_time": "2021-05-30T15:01:06.411511Z",
     "start_time": "2021-05-30T14:59:28.046317Z"
    }
   },
   "outputs": [
    {
     "name": "stdout",
     "output_type": "stream",
     "text": [
      "-----\n",
      "Best parameters {'learning_rate': 1.0, 'n_estimators': 350}\n",
      "Mean cross-validated accuracy score of the best_estimator: 0.850\n",
      "-----\n",
      "CPU times: user 1min 33s, sys: 1.44 s, total: 1min 35s\n",
      "Wall time: 1min 38s\n"
     ]
    }
   ],
   "source": [
    "%%time\n",
    "parameters = {\n",
    "    \"n_estimators\": [5, 10, 15, 20, 25, 50, 75, 100,350], \n",
    "    \"learning_rate\": [0.001, 0.01, 0.1, 1.],\n",
    "}\n",
    "\n",
    "model_adaboost = AdaBoostClassifier(\n",
    "    random_state=42,\n",
    ")\n",
    "\n",
    "model_adaboost = GridSearchCV(\n",
    "    model_adaboost, \n",
    "    parameters, \n",
    "    cv=5,\n",
    "    scoring='accuracy',\n",
    ")\n",
    "\n",
    "model_adaboost.fit(X_train, y_train)\n",
    "\n",
    "print('-----')\n",
    "print(f'Best parameters {model_adaboost.best_params_}')\n",
    "print(\n",
    "    f'Mean cross-validated accuracy score of the best_estimator: '+ \\\n",
    "    f'{model_adaboost.best_score_:.3f}'\n",
    ")\n",
    "cross_valid_scores['ada_boost'] = model_adaboost.best_score_\n",
    "print('-----')"
   ]
  },
  {
   "cell_type": "code",
   "execution_count": 139,
   "metadata": {
    "ExecuteTime": {
     "end_time": "2021-05-30T15:42:34.651570Z",
     "start_time": "2021-05-30T15:42:33.991300Z"
    }
   },
   "outputs": [
    {
     "name": "stdout",
     "output_type": "stream",
     "text": [
      "Accuracy Score of Training Data:  0.84223242329065\n",
      "\n",
      "Accuracy Score of Test Data: 0.8159420289855073\n",
      "\n",
      "Classification Report of AdaBoost Classification Model:\n",
      "                precision    recall  f1-score   support\n",
      "\n",
      "           0       0.84      0.79      0.82      1082\n",
      "           1       0.79      0.84      0.81       988\n",
      "\n",
      "    accuracy                           0.82      2070\n",
      "   macro avg       0.82      0.82      0.82      2070\n",
      "weighted avg       0.82      0.82      0.82      2070\n",
      "\n",
      "\n",
      "Mean Absolute Error of AdaBoost Classification Model:\n",
      " 0.18405797101449275\n",
      "\n",
      "Confusion Matrix of AdaBoost Classification Model:\n",
      " [[860 222]\n",
      " [159 829]]\n"
     ]
    }
   ],
   "source": [
    "AB1 = AdaBoostClassifier(n_estimators = 50) #using Decision Tree Model as base estimator\n",
    " \n",
    "AB1 = AB1.fit(X_train, y_train)\n",
    "y_predictAB1 = AB1.predict(X_test)\n",
    "\n",
    "modeltrAB1_score = AB1.score(X_train, y_train)\n",
    "print('Accuracy Score of Training Data: ', modeltrAB1_score)\n",
    "\n",
    "\n",
    "cfm_AB1 = confusion_matrix(y_test, y_predictAB1)\n",
    "\n",
    "\n",
    "# evaluate accuracy\n",
    "modelAB1_score = accuracy_score(y_test, y_predictAB1)\n",
    "print('\\nAccuracy Score of Test Data:', modelAB1_score)\n",
    "print('\\nClassification Report of AdaBoost Classification Model:\\n ', classification_report(y_test, y_predictAB1))\n",
    "print('\\nMean Absolute Error of AdaBoost Classification Model:\\n', mean_absolute_error(y_test, y_predictAB1))\n",
    "print('\\nConfusion Matrix of AdaBoost Classification Model:\\n', cfm_AB1)\n",
    "\n"
   ]
  },
  {
   "cell_type": "code",
   "execution_count": 142,
   "metadata": {
    "ExecuteTime": {
     "end_time": "2021-05-30T15:48:54.417454Z",
     "start_time": "2021-05-30T15:48:54.404750Z"
    }
   },
   "outputs": [
    {
     "name": "stdout",
     "output_type": "stream",
     "text": [
      "Precision Score : 0.82\n",
      "Recall Score : 0.82\n",
      "F1-Score : 0.82\n",
      "Accuracy Score : 0.82\n"
     ]
    }
   ],
   "source": [
    "precision_AB1, recall_AB1, f1_score_AB1, support = precision_recall_fscore_support(y_test, y_predictAB1, average = 'macro')\n",
    "print('Precision Score :', '%0.2f' % precision_AB1)\n",
    "print('Recall Score :', '%0.2f' % recall_AB1)\n",
    "print('F1-Score :', '%0.2f' % f1_score_AB1)\n",
    "print('Accuracy Score :','%0.2f' % modelAB1_score)"
   ]
  },
  {
   "cell_type": "code",
   "execution_count": 117,
   "metadata": {
    "ExecuteTime": {
     "end_time": "2021-05-30T14:58:36.497772Z",
     "start_time": "2021-05-30T14:58:32.351091Z"
    }
   },
   "outputs": [
    {
     "name": "stdout",
     "output_type": "stream",
     "text": [
      "Accuracy Score of Training Data:  0.8602319400821454\n",
      "\n",
      "Accuracy Score of Test Data: 0.8304347826086956\n",
      "\n",
      "Classification Report of AdaBoost Classification Model:\n",
      "                precision    recall  f1-score   support\n",
      "\n",
      "           0       0.85      0.82      0.84      1082\n",
      "           1       0.81      0.84      0.83       988\n",
      "\n",
      "    accuracy                           0.83      2070\n",
      "   macro avg       0.83      0.83      0.83      2070\n",
      "weighted avg       0.83      0.83      0.83      2070\n",
      "\n",
      "\n",
      "Mean Absolute Error of AdaBoost Classification Model:\n",
      " 0.16956521739130434\n",
      "\n",
      "Confusion Matrix of AdaBoost Classification Model:\n",
      " [[889 193]\n",
      " [158 830]]\n"
     ]
    },
    {
     "data": {
      "text/plain": [
       "Text(0.5, 1, 'Confusion Matrix HeatMap of AdaBoost Classification Model')"
      ]
     },
     "execution_count": 117,
     "metadata": {},
     "output_type": "execute_result"
    },
    {
     "data": {
      "image/png": "[encoded data removed]",
      "text/plain": [
       "<Figure size 576x432 with 2 Axes>"
      ]
     },
     "metadata": {
      "needs_background": "light"
     },
     "output_type": "display_data"
    }
   ],
   "source": [
    "AB = AdaBoostClassifier(n_estimators = 350) #using Decision Tree Model as base estimator\n",
    " \n",
    "AB = AB.fit(X_train, y_train)\n",
    "y_predictAB = AB.predict(X_test)\n",
    "\n",
    "modeltrAB_score = AB.score(X_train, y_train)\n",
    "print('Accuracy Score of Training Data: ', modeltrAB_score)\n",
    "\n",
    "\n",
    "cfm_AB = confusion_matrix(y_test, y_predictAB)\n",
    "\n",
    "\n",
    "# evaluate accuracy\n",
    "modelAB_score = accuracy_score(y_test, y_predictAB)\n",
    "print('\\nAccuracy Score of Test Data:', modelAB_score)\n",
    "print('\\nClassification Report of AdaBoost Classification Model:\\n ', classification_report(y_test, y_predictAB))\n",
    "print('\\nMean Absolute Error of AdaBoost Classification Model:\\n', mean_absolute_error(y_test, y_predictAB))\n",
    "print('\\nConfusion Matrix of AdaBoost Classification Model:\\n', cfm_AB)\n",
    "\n",
    "#visualization of confusion matrix in the form of a heatmap\n",
    "plt.figure(figsize = (8, 6))\n",
    "sns.heatmap(cfm_AB, annot = True, cmap = 'YlGnBu', fmt = 'd')\n",
    "plt.xlabel('Actual Classes', fontsize = 15)\n",
    "plt.ylabel('Predicted Classes', fontsize = 15)\n",
    "plt.title('Confusion Matrix HeatMap of AdaBoost Classification Model', fontsize = 15)"
   ]
  },
  {
   "cell_type": "code",
   "execution_count": 123,
   "metadata": {
    "ExecuteTime": {
     "end_time": "2021-05-30T15:04:45.521248Z",
     "start_time": "2021-05-30T15:04:45.509757Z"
    }
   },
   "outputs": [
    {
     "name": "stdout",
     "output_type": "stream",
     "text": [
      "Precision Score : 0.83\n",
      "Recall Score : 0.83\n",
      "F1-Score : 0.83\n",
      "Accuracy Score : 0.83\n"
     ]
    }
   ],
   "source": [
    "precision_AB, recall_AB, f1_score_AB, support = precision_recall_fscore_support(y_test, y_predictAB, average = 'macro')\n",
    "print('Precision Score :', '%0.2f' % precision_AB)\n",
    "print('Recall Score :', '%0.2f' % recall_AB)\n",
    "print('F1-Score :', '%0.2f' % f1_score_AB)\n",
    "print('Accuracy Score :','%0.2f' % modelAB_score)"
   ]
  },
  {
   "cell_type": "markdown",
   "metadata": {},
   "source": [
    "### 3.Random forest Classifier"
   ]
  },
  {
   "cell_type": "code",
   "execution_count": 119,
   "metadata": {
    "ExecuteTime": {
     "end_time": "2021-05-30T15:03:41.510303Z",
     "start_time": "2021-05-30T15:01:36.244300Z"
    }
   },
   "outputs": [
    {
     "name": "stdout",
     "output_type": "stream",
     "text": [
      "-----\n",
      "Best parameters {'max_depth': 13, 'n_estimators': 300}\n",
      "Mean cross-validated accuracy score of the best_estimator: 0.848\n",
      "-----\n",
      "CPU times: user 1min 58s, sys: 2.35 s, total: 2min 1s\n",
      "Wall time: 2min 5s\n"
     ]
    }
   ],
   "source": [
    "%%time\n",
    "parameters = {\n",
    "    \"n_estimators\": [5, 10, 15, 20, 25,50,100,200,300], \n",
    "    \"max_depth\": [3, 5, 7, 9, 11, 13],\n",
    "}\n",
    "\n",
    "model_random_forest = RandomForestClassifier(\n",
    "    random_state=42,\n",
    "    class_weight='balanced',\n",
    ")\n",
    "\n",
    "model_random_forest = GridSearchCV(\n",
    "    model_random_forest, \n",
    "    parameters, \n",
    "    cv=5,\n",
    "    scoring='accuracy',\n",
    ")\n",
    "\n",
    "model_random_forest.fit(X_train, y_train)\n",
    "\n",
    "print('-----')\n",
    "print(f'Best parameters {model_random_forest.best_params_}')\n",
    "print(\n",
    "    f'Mean cross-validated accuracy score of the best_estimator: '+ \\\n",
    "    f'{model_random_forest.best_score_:.3f}'\n",
    ")\n",
    "cross_valid_scores['random_forest'] = model_random_forest.best_score_\n",
    "print('-----')"
   ]
  },
  {
   "cell_type": "code",
   "execution_count": 138,
   "metadata": {
    "ExecuteTime": {
     "end_time": "2021-05-30T15:41:24.700309Z",
     "start_time": "2021-05-30T15:41:23.630229Z"
    }
   },
   "outputs": [
    {
     "name": "stdout",
     "output_type": "stream",
     "text": [
      "Accuracy Score of Training Data:  0.8645808166223725\n",
      "\n",
      "Accuracy Score of Test Data: 0.8028985507246377\n",
      "\n",
      "Classification Report of Random Forest Model:\n",
      "                precision    recall  f1-score   support\n",
      "\n",
      "           0       0.86      0.75      0.80      1082\n",
      "           1       0.76      0.87      0.81       988\n",
      "\n",
      "    accuracy                           0.80      2070\n",
      "   macro avg       0.81      0.81      0.80      2070\n",
      "weighted avg       0.81      0.80      0.80      2070\n",
      "\n",
      "\n",
      "Mean Absolute Error of Random Forest Model:\n",
      " 0.19710144927536233\n",
      "\n",
      "Confusion Matrix of Random Forest Model:\n",
      " [[807 275]\n",
      " [133 855]]\n"
     ]
    }
   ],
   "source": [
    "RF1 = RandomForestClassifier(n_estimators = 100, criterion = 'entropy', max_depth = 5, min_samples_leaf = 5, random_state = 10)\n",
    "RF1 = RF1.fit(X_train, y_train)\n",
    "y_predictRF1 = RF1.predict(X_test)\n",
    "\n",
    "modeltrRF1_score = RF.score(X_train, y_train)\n",
    "print('Accuracy Score of Training Data: ', modeltrRF1_score)\n",
    "\n",
    "\n",
    "cfm_RF1 = confusion_matrix(y_test, y_predictRF1)\n",
    "\n",
    "\n",
    "# evaluate accuracy\n",
    "modelRF1_score = accuracy_score(y_test, y_predictRF1)\n",
    "print('\\nAccuracy Score of Test Data:', modelRF1_score)\n",
    "print('\\nClassification Report of Random Forest Model:\\n ', classification_report(y_test, y_predictRF1))\n",
    "print('\\nMean Absolute Error of Random Forest Model:\\n', mean_absolute_error(y_test, y_predictRF1))\n",
    "print('\\nConfusion Matrix of Random Forest Model:\\n', cfm_RF1)"
   ]
  },
  {
   "cell_type": "code",
   "execution_count": 149,
   "metadata": {
    "ExecuteTime": {
     "end_time": "2021-05-30T15:52:03.173785Z",
     "start_time": "2021-05-30T15:52:03.124593Z"
    }
   },
   "outputs": [
    {
     "name": "stdout",
     "output_type": "stream",
     "text": [
      "Precision Score : 0.81\n",
      "Recall Score : 0.81\n",
      "F1-Score : 0.80\n",
      "Accuracy Score : 0.80\n"
     ]
    }
   ],
   "source": [
    "precision_RF1, recall_RF1, f1_score_RF1, support = precision_recall_fscore_support(y_test, y_predictRF1, average = 'macro')\n",
    "print('Precision Score :', '%0.2f' % precision_RF1)\n",
    "print('Recall Score :', '%0.2f' % recall_RF1)\n",
    "print('F1-Score :', '%0.2f' % f1_score_RF1)\n",
    "print('Accuracy Score :','%0.2f' % modelRF1_score)"
   ]
  },
  {
   "cell_type": "code",
   "execution_count": 120,
   "metadata": {
    "ExecuteTime": {
     "end_time": "2021-05-30T15:04:18.921985Z",
     "start_time": "2021-05-30T15:04:15.887355Z"
    }
   },
   "outputs": [
    {
     "name": "stdout",
     "output_type": "stream",
     "text": [
      "Accuracy Score of Training Data:  0.8645808166223725\n",
      "\n",
      "Accuracy Score of Test Data: 0.8323671497584542\n",
      "\n",
      "Classification Report of Random Forest Model:\n",
      "                precision    recall  f1-score   support\n",
      "\n",
      "           0       0.85      0.82      0.84      1082\n",
      "           1       0.81      0.85      0.83       988\n",
      "\n",
      "    accuracy                           0.83      2070\n",
      "   macro avg       0.83      0.83      0.83      2070\n",
      "weighted avg       0.83      0.83      0.83      2070\n",
      "\n",
      "\n",
      "Mean Absolute Error of Random Forest Model:\n",
      " 0.1676328502415459\n",
      "\n",
      "Confusion Matrix of Random Forest Model:\n",
      " [[886 196]\n",
      " [151 837]]\n"
     ]
    },
    {
     "data": {
      "text/plain": [
       "Text(0.5, 1, 'Confusion Matrix HeatMap of Random Forest Model')"
      ]
     },
     "execution_count": 120,
     "metadata": {},
     "output_type": "execute_result"
    },
    {
     "data": {
      "image/png": "[encoded data removed]",
      "text/plain": [
       "<Figure size 576x432 with 2 Axes>"
      ]
     },
     "metadata": {
      "needs_background": "light"
     },
     "output_type": "display_data"
    }
   ],
   "source": [
    "RF = RandomForestClassifier(n_estimators = 300, criterion = 'entropy', max_depth = 13, min_samples_leaf = 13, random_state = 10)\n",
    "RF = RF.fit(X_train, y_train)\n",
    "y_predictRF = RF.predict(X_test)\n",
    "\n",
    "modeltrRF_score = RF.score(X_train, y_train)\n",
    "print('Accuracy Score of Training Data: ', modeltrRF_score)\n",
    "\n",
    "\n",
    "cfm_RF = confusion_matrix(y_test, y_predictRF)\n",
    "\n",
    "\n",
    "# evaluate accuracy\n",
    "modelRF_score = accuracy_score(y_test, y_predictRF)\n",
    "print('\\nAccuracy Score of Test Data:', modelRF_score)\n",
    "print('\\nClassification Report of Random Forest Model:\\n ', classification_report(y_test, y_predictRF))\n",
    "print('\\nMean Absolute Error of Random Forest Model:\\n', mean_absolute_error(y_test, y_predictRF))\n",
    "print('\\nConfusion Matrix of Random Forest Model:\\n', cfm_RF)\n",
    "\n",
    "#visualization of confusion matrix in the form of a heatmap\n",
    "plt.figure(figsize = (8, 6))\n",
    "sns.heatmap(cfm_RF, annot = True, cmap = 'YlGnBu', fmt = 'd')\n",
    "plt.xlabel('Actual Classes', fontsize = 15)\n",
    "plt.ylabel('Predicted Classes', fontsize = 15)\n",
    "plt.title('Confusion Matrix HeatMap of Random Forest Model', fontsize = 15)"
   ]
  },
  {
   "cell_type": "code",
   "execution_count": 122,
   "metadata": {
    "ExecuteTime": {
     "end_time": "2021-05-30T15:04:26.936167Z",
     "start_time": "2021-05-30T15:04:26.920203Z"
    }
   },
   "outputs": [
    {
     "name": "stdout",
     "output_type": "stream",
     "text": [
      "Precision Score : 0.83\n",
      "Recall Score : 0.83\n",
      "F1-Score : 0.83\n",
      "Accuracy Score : 0.83\n"
     ]
    }
   ],
   "source": [
    "precision_RF, recall_RF, f1_score_RF, support = precision_recall_fscore_support(y_test, y_predictRF, average = 'macro')\n",
    "print('Precision Score :', '%0.2f' % precision_RF)\n",
    "print('Recall Score :', '%0.2f' % recall_RF)\n",
    "print('F1-Score :', '%0.2f' % f1_score_RF)\n",
    "print('Accuracy Score :','%0.2f' % modelRF_score)"
   ]
  },
  {
   "cell_type": "markdown",
   "metadata": {},
   "source": [
    "### 4. Gradient boosting classifier"
   ]
  },
  {
   "cell_type": "code",
   "execution_count": 135,
   "metadata": {
    "ExecuteTime": {
     "end_time": "2021-05-30T15:39:48.918813Z",
     "start_time": "2021-05-30T15:39:46.738651Z"
    }
   },
   "outputs": [
    {
     "name": "stdout",
     "output_type": "stream",
     "text": [
      "Accuracy Score of Training Data:  0.9004590480792461\n",
      "\n",
      "Accuracy Score of Test Data: 0.8449275362318841\n",
      "\n",
      "Classification Report of Gradient Boosting Classification Model:\n",
      "                precision    recall  f1-score   support\n",
      "\n",
      "           0       0.85      0.85      0.85      1082\n",
      "           1       0.83      0.84      0.84       988\n",
      "\n",
      "    accuracy                           0.84      2070\n",
      "   macro avg       0.84      0.84      0.84      2070\n",
      "weighted avg       0.85      0.84      0.84      2070\n",
      "\n",
      "\n",
      "Mean Absolute Error of Gradient Boosting Classification Model:\n",
      " 0.15507246376811595\n",
      "\n",
      "Confusion Matrix of Gradient Boosting Classification Model:\n",
      " [[917 165]\n",
      " [156 832]]\n"
     ]
    }
   ],
   "source": [
    "GB1 = GradientBoostingClassifier(n_estimators = 100, max_depth = 5, min_samples_leaf = 5, random_state = 10)\n",
    "GB1 = GB1.fit(X_train, y_train)\n",
    "y_predictGB1 = GB1.predict(X_test)\n",
    "\n",
    "modeltrGB1_score = GB1.score(X_train, y_train)\n",
    "print('Accuracy Score of Training Data: ', modeltrGB1_score)\n",
    "\n",
    "\n",
    "cfm_GB1 = confusion_matrix(y_test, y_predictGB1)\n",
    "\n",
    "\n",
    "# evaluate accuracy\n",
    "modelGB1_score = accuracy_score(y_test, y_predictGB1)\n",
    "print('\\nAccuracy Score of Test Data:', modelGB1_score)\n",
    "print('\\nClassification Report of Gradient Boosting Classification Model:\\n ', classification_report(y_test, y_predictGB1))\n",
    "print('\\nMean Absolute Error of Gradient Boosting Classification Model:\\n', mean_absolute_error(y_test, y_predictGB1))\n",
    "print('\\nConfusion Matrix of Gradient Boosting Classification Model:\\n', cfm_GB1)"
   ]
  },
  {
   "cell_type": "code",
   "execution_count": 150,
   "metadata": {
    "ExecuteTime": {
     "end_time": "2021-05-30T15:52:57.409244Z",
     "start_time": "2021-05-30T15:52:57.396979Z"
    }
   },
   "outputs": [
    {
     "name": "stdout",
     "output_type": "stream",
     "text": [
      "Precision Score : 0.84\n",
      "Recall Score : 0.84\n",
      "F1-Score : 0.84\n",
      "Accuracy Score : 0.84\n"
     ]
    }
   ],
   "source": [
    "precision_GB1, recall_GB1, f1_score_GB1, support = precision_recall_fscore_support(y_test, y_predictGB1, average = 'macro')\n",
    "print('Precision Score :', '%0.2f' % precision_GB1)\n",
    "print('Recall Score :', '%0.2f' % recall_GB1)\n",
    "print('F1-Score :', '%0.2f' % f1_score_GB1)\n",
    "print('Accuracy Score :','%0.2f' % modelGB1_score)"
   ]
  },
  {
   "cell_type": "code",
   "execution_count": 136,
   "metadata": {
    "ExecuteTime": {
     "end_time": "2021-05-30T15:40:07.409891Z",
     "start_time": "2021-05-30T15:39:53.057621Z"
    }
   },
   "outputs": [
    {
     "name": "stdout",
     "output_type": "stream",
     "text": [
      "Accuracy Score of Training Data:  0.9983087702343562\n",
      "\n",
      "Accuracy Score of Test Data: 0.8565217391304348\n",
      "\n",
      "Classification Report of Gradient Boosting Classification Model:\n",
      "                precision    recall  f1-score   support\n",
      "\n",
      "           0       0.86      0.87      0.86      1082\n",
      "           1       0.85      0.85      0.85       988\n",
      "\n",
      "    accuracy                           0.86      2070\n",
      "   macro avg       0.86      0.86      0.86      2070\n",
      "weighted avg       0.86      0.86      0.86      2070\n",
      "\n",
      "\n",
      "Mean Absolute Error of Gradient Boosting Classification Model:\n",
      " 0.14347826086956522\n",
      "\n",
      "Confusion Matrix of Gradient Boosting Classification Model:\n",
      " [[938 144]\n",
      " [153 835]]\n"
     ]
    },
    {
     "data": {
      "text/plain": [
       "Text(0.5, 1, 'Confusion Matrix HeatMap of Gradient Boosting Classification Model')"
      ]
     },
     "execution_count": 136,
     "metadata": {},
     "output_type": "execute_result"
    },
    {
     "data": {
      "image/png": "[encoded data removed]",
      "text/plain": [
       "<Figure size 576x432 with 2 Axes>"
      ]
     },
     "metadata": {
      "needs_background": "light"
     },
     "output_type": "display_data"
    }
   ],
   "source": [
    "GB = GradientBoostingClassifier(n_estimators = 300, max_depth = 13, min_samples_leaf = 13, random_state = 10)\n",
    "GB = GB.fit(X_train, y_train)\n",
    "y_predictGB = GB.predict(X_test)\n",
    "\n",
    "modeltrGB_score = GB.score(X_train, y_train)\n",
    "print('Accuracy Score of Training Data: ', modeltrGB_score)\n",
    "\n",
    "\n",
    "cfm_GB = confusion_matrix(y_test, y_predictGB)\n",
    "\n",
    "\n",
    "# evaluate accuracy\n",
    "modelGB_score = accuracy_score(y_test, y_predictGB)\n",
    "print('\\nAccuracy Score of Test Data:', modelGB_score)\n",
    "print('\\nClassification Report of Gradient Boosting Classification Model:\\n ', classification_report(y_test, y_predictGB))\n",
    "print('\\nMean Absolute Error of Gradient Boosting Classification Model:\\n', mean_absolute_error(y_test, y_predictGB))\n",
    "print('\\nConfusion Matrix of Gradient Boosting Classification Model:\\n', cfm_GB)\n",
    "\n",
    "#visualization of confusion matrix in the form of a heatmap\n",
    "plt.figure(figsize = (8, 6))\n",
    "sns.heatmap(cfm_GB, annot = True, cmap = 'YlGnBu', fmt = 'd')\n",
    "plt.xlabel('Actual Classes', fontsize = 15)\n",
    "plt.ylabel('Predicted Classes', fontsize = 15)\n",
    "plt.title('Confusion Matrix HeatMap of Gradient Boosting Classification Model', fontsize = 15)"
   ]
  },
  {
   "cell_type": "code",
   "execution_count": 160,
   "metadata": {
    "ExecuteTime": {
     "end_time": "2021-05-30T16:07:45.853411Z",
     "start_time": "2021-05-30T16:07:45.844424Z"
    }
   },
   "outputs": [
    {
     "name": "stdout",
     "output_type": "stream",
     "text": [
      "Accuracy of the Model is equal to 85.65 %.\n"
     ]
    }
   ],
   "source": [
    "accuracy = accuracy_score(y_test, y_predictGB)*100\n",
    "print('Accuracy of the Model is equal to ' + str(round(accuracy, 2)) + ' %.')"
   ]
  },
  {
   "cell_type": "code",
   "execution_count": 151,
   "metadata": {
    "ExecuteTime": {
     "end_time": "2021-05-30T15:53:14.568602Z",
     "start_time": "2021-05-30T15:53:14.557953Z"
    }
   },
   "outputs": [
    {
     "name": "stdout",
     "output_type": "stream",
     "text": [
      "Precision Score : 0.86\n",
      "Recall Score : 0.86\n",
      "F1-Score : 0.86\n",
      "Accuracy Score : 0.86\n"
     ]
    }
   ],
   "source": [
    "precision_GB, recall_GB, f1_score_GB, support = precision_recall_fscore_support(y_test, y_predictGB, average = 'macro')\n",
    "print('Precision Score :', '%0.2f' % precision_GB)\n",
    "print('Recall Score :', '%0.2f' % recall_GB)\n",
    "print('F1-Score :', '%0.2f' % f1_score_GB)\n",
    "print('Accuracy Score :','%0.2f' % modelGB_score)"
   ]
  },
  {
   "cell_type": "code",
   "execution_count": 155,
   "metadata": {
    "ExecuteTime": {
     "end_time": "2021-05-30T15:54:52.942456Z",
     "start_time": "2021-05-30T15:54:52.919627Z"
    }
   },
   "outputs": [
    {
     "data": {
      "text/html": [
       "<div>\n",
       "<style scoped>\n",
       "    .dataframe tbody tr th:only-of-type {\n",
       "        vertical-align: middle;\n",
       "    }\n",
       "\n",
       "    .dataframe tbody tr th {\n",
       "        vertical-align: top;\n",
       "    }\n",
       "\n",
       "    .dataframe thead th {\n",
       "        text-align: right;\n",
       "    }\n",
       "</style>\n",
       "<table border=\"1\" class=\"dataframe\">\n",
       "  <thead>\n",
       "    <tr style=\"text-align: right;\">\n",
       "      <th></th>\n",
       "      <th>Model</th>\n",
       "      <th>Accuracy Score of Training Data</th>\n",
       "      <th>Accuracy Score of Test Data</th>\n",
       "      <th>Recall Score</th>\n",
       "      <th>Precision Score</th>\n",
       "    </tr>\n",
       "  </thead>\n",
       "  <tbody>\n",
       "    <tr>\n",
       "      <td>0</td>\n",
       "      <td>Random Forest Classifier</td>\n",
       "      <td>86.458082</td>\n",
       "      <td>83.236715</td>\n",
       "      <td>83.300998</td>\n",
       "      <td>83.232452</td>\n",
       "    </tr>\n",
       "    <tr>\n",
       "      <td>1</td>\n",
       "      <td>Random Forest Classifier1</td>\n",
       "      <td>86.458082</td>\n",
       "      <td>80.289855</td>\n",
       "      <td>80.561283</td>\n",
       "      <td>80.757390</td>\n",
       "    </tr>\n",
       "    <tr>\n",
       "      <td>2</td>\n",
       "      <td>Bagging Classifier1</td>\n",
       "      <td>99.371829</td>\n",
       "      <td>83.285024</td>\n",
       "      <td>83.294450</td>\n",
       "      <td>83.248419</td>\n",
       "    </tr>\n",
       "    <tr>\n",
       "      <td>3</td>\n",
       "      <td>Bagging Classifier</td>\n",
       "      <td>99.867118</td>\n",
       "      <td>84.492754</td>\n",
       "      <td>84.436529</td>\n",
       "      <td>84.473775</td>\n",
       "    </tr>\n",
       "    <tr>\n",
       "      <td>4</td>\n",
       "      <td>AdaBoost Classifier1</td>\n",
       "      <td>84.223242</td>\n",
       "      <td>81.594203</td>\n",
       "      <td>81.694661</td>\n",
       "      <td>81.636863</td>\n",
       "    </tr>\n",
       "    <tr>\n",
       "      <td>5</td>\n",
       "      <td>AdaBoost Classifier</td>\n",
       "      <td>86.023194</td>\n",
       "      <td>83.043478</td>\n",
       "      <td>83.085379</td>\n",
       "      <td>83.021592</td>\n",
       "    </tr>\n",
       "    <tr>\n",
       "      <td>6</td>\n",
       "      <td>Gradient Boosting Classifier</td>\n",
       "      <td>99.830877</td>\n",
       "      <td>85.652174</td>\n",
       "      <td>85.602741</td>\n",
       "      <td>85.633641</td>\n",
       "    </tr>\n",
       "    <tr>\n",
       "      <td>7</td>\n",
       "      <td>Gradient Boosting Classifier1</td>\n",
       "      <td>90.045905</td>\n",
       "      <td>84.492754</td>\n",
       "      <td>84.480494</td>\n",
       "      <td>84.455837</td>\n",
       "    </tr>\n",
       "  </tbody>\n",
       "</table>\n",
       "</div>"
      ],
      "text/plain": [
       "                           Model  Accuracy Score of Training Data  \\\n",
       "0       Random Forest Classifier                        86.458082   \n",
       "1      Random Forest Classifier1                        86.458082   \n",
       "2            Bagging Classifier1                        99.371829   \n",
       "3             Bagging Classifier                        99.867118   \n",
       "4           AdaBoost Classifier1                        84.223242   \n",
       "5            AdaBoost Classifier                        86.023194   \n",
       "6   Gradient Boosting Classifier                        99.830877   \n",
       "7  Gradient Boosting Classifier1                        90.045905   \n",
       "\n",
       "   Accuracy Score of Test Data  Recall Score  Precision Score  \n",
       "0                    83.236715     83.300998        83.232452  \n",
       "1                    80.289855     80.561283        80.757390  \n",
       "2                    83.285024     83.294450        83.248419  \n",
       "3                    84.492754     84.436529        84.473775  \n",
       "4                    81.594203     81.694661        81.636863  \n",
       "5                    83.043478     83.085379        83.021592  \n",
       "6                    85.652174     85.602741        85.633641  \n",
       "7                    84.492754     84.480494        84.455837  "
      ]
     },
     "execution_count": 155,
     "metadata": {},
     "output_type": "execute_result"
    }
   ],
   "source": [
    "mdllsts = []\n",
    "\n",
    "mdllsts.append(['Random Forest Classifier',modeltrRF_score * 100, modelRF_score * 100, recall_RF * 100, precision_RF * 100])\n",
    "mdllsts.append(['Random Forest Classifier1',modeltrRF1_score * 100, modelRF1_score * 100, recall_RF1 * 100, precision_RF1 * 100])\n",
    "mdllsts.append(['Bagging Classifier1', modeltrBG1_score * 100, modelBG1_score * 100, recall_BG1 * 100, precision_BG1 * 100])\n",
    "mdllsts.append(['Bagging Classifier', modeltrBG_score * 100, modelBG_score * 100, recall_BG * 100, precision_BG * 100])\n",
    "mdllsts.append(['AdaBoost Classifier1', modeltrAB1_score * 100, modelAB1_score * 100, recall_AB1 * 100, precision_AB1 * 100])\n",
    "mdllsts.append(['AdaBoost Classifier', modeltrAB_score * 100, modelAB_score * 100, recall_AB * 100, precision_AB * 100])\n",
    "mdllsts.append(['Gradient Boosting Classifier', modeltrGB_score * 100, modelGB_score * 100, recall_GB * 100, precision_GB * 100])\n",
    "mdllsts.append(['Gradient Boosting Classifier1', modeltrGB1_score * 100, modelGB1_score * 100, recall_GB1 * 100, precision_GB1 * 100])            \n",
    "\n",
    "mdl_e_df = pd.DataFrame(mdllsts, columns = ['Model', 'Accuracy Score of Training Data', 'Accuracy Score of Test Data', 'Recall Score', 'Precision Score'])\n",
    "mdl_e_df"
   ]
  },
  {
   "cell_type": "code",
   "execution_count": 157,
   "metadata": {
    "ExecuteTime": {
     "end_time": "2021-05-30T15:57:22.693240Z",
     "start_time": "2021-05-30T15:57:22.268427Z"
    }
   },
   "outputs": [
    {
     "data": {
      "text/plain": [
       "Text(0.5, 1.0, 'Comparison of Classification Models')"
      ]
     },
     "execution_count": 157,
     "metadata": {},
     "output_type": "execute_result"
    },
    {
     "data": {
      "image/png": "[encoded data removed]",
      "text/plain": [
       "<Figure size 1800x720 with 1 Axes>"
      ]
     },
     "metadata": {
      "needs_background": "light"
     },
     "output_type": "display_data"
    }
   ],
   "source": [
    "plt.figure(figsize = (25, 10))\n",
    "sns.barplot(x = mdl_e_df['Model'], y = mdl_e_df['Accuracy Score of Test Data'], data = mdl_e_df)\n",
    "plt.xlabel('Model', fontsize = 15)\n",
    "plt.ylabel('Accuracy Score', fontsize = 15)\n",
    "plt.title('Comparison of Classification Models', fontsize = 15)"
   ]
  },
  {
   "cell_type": "markdown",
   "metadata": {},
   "source": [
    "### Inference:\n",
    "* from the above graph it is infered that **Gradient Boosting classifier** with n=300 is the best model with accuracy score of training data being 99.8% and accuracy score of test data being 85.7%."
   ]
  },
  {
   "cell_type": "code",
   "execution_count": 158,
   "metadata": {
    "ExecuteTime": {
     "end_time": "2021-05-30T16:01:42.002095Z",
     "start_time": "2021-05-30T16:01:41.997823Z"
    }
   },
   "outputs": [],
   "source": [
    "import pickle"
   ]
  },
  {
   "cell_type": "code",
   "execution_count": 159,
   "metadata": {
    "ExecuteTime": {
     "end_time": "2021-05-30T16:04:07.873825Z",
     "start_time": "2021-05-30T16:04:07.825186Z"
    }
   },
   "outputs": [],
   "source": [
    "PKL_filename = \"pickle_GB_Model.pkl\"\n",
    "\n",
    "with open(PKL_filename,'wb') as file:\n",
    "    pickle.dump(GB,file)"
   ]
  },
  {
   "cell_type": "markdown",
   "metadata": {},
   "source": [
    "## 6. Conclusions and Improvisations:\n"
   ]
  },
  {
   "cell_type": "markdown",
   "metadata": {},
   "source": [
    "* The Accuracy of the Gradient bossting with **n=300** is found to be the best fit model with score of **85.70%** which is almost 3 percent more than regular GB model.\n",
    "* Mean absolute error the the Gradient boosting classifier is 0.14\n",
    "* **NO churn** has a recall of 87%, which means that among the customers who churn, The GB model predicted 87% of them to churn.\n",
    "* **Churn** has recall of 85%, which means that among thecustomers who churn The The GB model predicted 85% of them to Churn.\n",
    "* **No churn** has a precision of 86%, The model predicted the correctly 86% times. we can infer that the model has done really well in prediction NO churn condition as it has high recall and precision.\n",
    "* The f1 score of 85% tells the percentage of positive predictions which were correct.\n",
    "* This GB classifier has reduced both the **type1** and **type2** errors.\n",
    "\n",
    "            +++++++++++++++++++++++++++++++++++++++++++++++++++++++++++++++++++++++++++\n",
    "           \n",
    "* Fiber Optic subscribers who have higher monthly charges are likely to churn more than those who don't have Fiber optic\n",
    "* Month-to-Month contract has the most impact on a subscriber to churn or Not to churn.\n",
    "            +++++++++++++++++++++++++++++++++++++++++++++++++++++++++++++++++++++++++++\n",
    "           \n",
    "#### Suggestions for Future Data collection:\n",
    "\n",
    "* Clearer description and understanding of what the features means should be provided for better analysis and feature engineering.\n",
    "* More data of the customers who churned should be recorded to extract meaningful insights.\n",
    "* A **customer feedback** should be recorded for subscribers who churned and by doing sentiment analysis meaningful insights can be gathered.\n",
    "* **Monthly rating** of the subscription should be added to features list to predict future customers who can churn\n",
    "* **Usage in minutes** of the subscription should be recorded for each subscriber, for example- the amount of tv streaming and streaming movies. \n",
    "* In the partner column, If partner is yes, then does the partner has a subscription or not can also be added because if one has the subscription the other could cancel the subscription."
   ]
  },
  {
   "cell_type": "code",
   "execution_count": null,
   "metadata": {},
   "outputs": [],
   "source": []
  }
 ],
 "metadata": {
  "kernelspec": {
   "display_name": "Python 3",
   "language": "python",
   "name": "python3"
  },
  "language_info": {
   "codemirror_mode": {
    "name": "ipython",
    "version": 3
   },
   "file_extension": ".py",
   "mimetype": "text/x-python",
   "name": "python",
   "nbconvert_exporter": "python",
   "pygments_lexer": "ipython3",
   "version": "3.7.4"
  }
 },
 "nbformat": 4,
 "nbformat_minor": 2
}
